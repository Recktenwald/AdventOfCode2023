{
 "cells": [
  {
   "cell_type": "code",
   "execution_count": 1,
   "metadata": {
    "dotnet_interactive": {
     "language": "fsharp"
    },
    "polyglot_notebook": {
     "kernelName": "fsharp"
    }
   },
   "outputs": [],
   "source": [
    "open System\n",
    "open System.IO\n",
    "open System.Text.RegularExpressions"
   ]
  },
  {
   "cell_type": "code",
   "execution_count": 2,
   "metadata": {
    "dotnet_interactive": {
     "language": "fsharp"
    },
    "polyglot_notebook": {
     "kernelName": "fsharp"
    }
   },
   "outputs": [
    {
     "data": {
      "text/html": [
       "<div><div></div><div></div><div><strong>Installed Packages</strong><ul><li><span>FParsec, 1.1.1</span></li></ul></div></div>"
      ]
     },
     "metadata": {},
     "output_type": "display_data"
    }
   ],
   "source": [
    "#r \"nuget: FParsec\"\n",
    "open FParsec"
   ]
  },
  {
   "cell_type": "code",
   "execution_count": 3,
   "metadata": {
    "dotnet_interactive": {
     "language": "fsharp"
    },
    "polyglot_notebook": {
     "kernelName": "fsharp"
    }
   },
   "outputs": [],
   "source": [
    "type Mapping = \n",
    "    {Destination: uint; Source: uint; Length: uint}\n",
    "    with \n",
    "    static member create x y z = {Destination = x; Source = y; Length = z}\n",
    "    static member tryMap (value:uint) {Destination = d ;Source = s; Length = len}  = \n",
    "        if value >= s && value <= s + len - 1u then\n",
    "            Some ( d + (value - s) ) \n",
    "        else \n",
    "            None\n",
    "    member this.End = this.Source + this.Length - 1u\n",
    "    static member map (value:uint) {Destination = d ;Source = s; Length = len} = \n",
    "        d + (value - s)\n",
    "type ThingMap = \n",
    "    {From: string; To: string; Map: Mapping list}\n",
    "    with\n",
    "    static member create from _to mappings = {From = from; To = _to; Map = mappings}\n",
    "    member self.Item \n",
    "        with get(index:uint) : uint = \n",
    "            self.Map \n",
    "            |> List.tryPick (Mapping.tryMap index)\n",
    "            |> Option.defaultValue index\n"
   ]
  },
  {
   "cell_type": "code",
   "execution_count": 4,
   "metadata": {
    "dotnet_interactive": {
     "language": "fsharp"
    },
    "polyglot_notebook": {
     "kernelName": "fsharp"
    }
   },
   "outputs": [],
   "source": [
    "let test = \n",
    "    \"\"\"seeds: 79 14 55 13\n",
    "\n",
    "seed-to-soil map:\n",
    "50 98 2\n",
    "52 50 48\n",
    "\n",
    "soil-to-fertilizer map:\n",
    "0 15 37\n",
    "37 52 2\n",
    "39 0 15\n",
    "\n",
    "fertilizer-to-water map:\n",
    "49 53 8\n",
    "0 11 42\n",
    "42 0 7\n",
    "57 7 4\n",
    "\n",
    "water-to-light map:\n",
    "88 18 7\n",
    "18 25 70\n",
    "\n",
    "light-to-temperature map:\n",
    "45 77 23\n",
    "81 45 19\n",
    "68 64 13\n",
    "\n",
    "temperature-to-humidity map:\n",
    "0 69 1\n",
    "1 0 69\n",
    "\n",
    "humidity-to-location map:\n",
    "60 56 37\n",
    "56 93 4\"\"\""
   ]
  },
  {
   "cell_type": "code",
   "execution_count": 5,
   "metadata": {
    "dotnet_interactive": {
     "language": "fsharp"
    },
    "polyglot_notebook": {
     "kernelName": "fsharp"
    }
   },
   "outputs": [],
   "source": [
    "let lineToMapping (line: string):Mapping = \n",
    "    let p = spaces >>. puint32 .>> spaces \n",
    "    match run (pipe3 p p p Mapping.create) line with \n",
    "    | Success(result, _,_) -> result \n",
    "    | _ -> failwith $\"Problem with {line}\"\n"
   ]
  },
  {
   "cell_type": "code",
   "execution_count": 6,
   "metadata": {
    "dotnet_interactive": {
     "language": "fsharp"
    },
    "polyglot_notebook": {
     "kernelName": "fsharp"
    }
   },
   "outputs": [],
   "source": [
    "let parseBlock (block: string) = \n",
    "    let lines = block.Split(\"\\n\")\n",
    "    let [from;_to] = \n",
    "        Regex.Match(lines[0], @\"(\\w+)-to-(\\w+)\").Groups\n",
    "        |> Seq.tail \n",
    "        |> Seq.map( fun x -> x.Value)\n",
    "        |> Seq.toList\n",
    "    let numbers = \n",
    "        Array.tail lines\n",
    "        |> Array.map lineToMapping\n",
    "        |> List.ofArray\n",
    "    ThingMap.create from _to numbers\n"
   ]
  },
  {
   "cell_type": "code",
   "execution_count": 7,
   "metadata": {
    "dotnet_interactive": {
     "language": "fsharp"
    },
    "polyglot_notebook": {
     "kernelName": "fsharp"
    }
   },
   "outputs": [],
   "source": [
    "let testseeds = [for m in Regex.Matches(Regex(@\"\\n\\n\").Split(test)[0], @\"\\d+\") -> System.UInt32.Parse m.Value]\n",
    "let testblocks =\n",
    "    Regex(@\"\\n\\n\").Split(test) \n",
    "    |> Array.tail\n",
    "    |> Array.map parseBlock\n",
    "    |> List.ofArray"
   ]
  },
  {
   "cell_type": "code",
   "execution_count": 8,
   "metadata": {
    "dotnet_interactive": {
     "language": "fsharp"
    },
    "polyglot_notebook": {
     "kernelName": "fsharp"
    }
   },
   "outputs": [],
   "source": [
    "let rec getLocation (blocks: ThingMap list) (current:uint) = \n",
    "    match blocks with \n",
    "    | [] -> current \n",
    "    | block::rest -> getLocation rest (block[current])\n"
   ]
  },
  {
   "cell_type": "code",
   "execution_count": 9,
   "metadata": {
    "dotnet_interactive": {
     "language": "fsharp"
    },
    "polyglot_notebook": {
     "kernelName": "fsharp"
    }
   },
   "outputs": [
    {
     "data": {
      "text/html": [
       "<div class=\"dni-plaintext\"><pre>35</pre></div><style>\r\n",
       ".dni-code-hint {\r\n",
       "    font-style: italic;\r\n",
       "    overflow: hidden;\r\n",
       "    white-space: nowrap;\r\n",
       "}\r\n",
       ".dni-treeview {\r\n",
       "    white-space: nowrap;\r\n",
       "}\r\n",
       ".dni-treeview td {\r\n",
       "    vertical-align: top;\r\n",
       "    text-align: start;\r\n",
       "}\r\n",
       "details.dni-treeview {\r\n",
       "    padding-left: 1em;\r\n",
       "}\r\n",
       "table td {\r\n",
       "    text-align: start;\r\n",
       "}\r\n",
       "table tr { \r\n",
       "    vertical-align: top; \r\n",
       "    margin: 0em 0px;\r\n",
       "}\r\n",
       "table tr td pre \r\n",
       "{ \r\n",
       "    vertical-align: top !important; \r\n",
       "    margin: 0em 0px !important;\r\n",
       "} \r\n",
       "table th {\r\n",
       "    text-align: start;\r\n",
       "}\r\n",
       "</style>"
      ]
     },
     "metadata": {},
     "output_type": "display_data"
    }
   ],
   "source": [
    "testseeds \n",
    "|> List.map (getLocation testblocks)\n",
    "|> List.min"
   ]
  },
  {
   "cell_type": "code",
   "execution_count": 10,
   "metadata": {
    "dotnet_interactive": {
     "language": "fsharp"
    },
    "polyglot_notebook": {
     "kernelName": "fsharp"
    }
   },
   "outputs": [],
   "source": [
    "let input = File.ReadAllText(\"input_5.txt\")\n",
    "let seeds = [for m in Regex.Matches(Regex(@\"\\n\\n\").Split(input)[0], @\"\\d+\") -> System.UInt32.Parse m.Value]\n",
    "let blocks =\n",
    "    Regex(@\"\\n\\n\").Split(input)\n",
    "    |> Array.tail\n",
    "    |> Array.map parseBlock\n",
    "    |> List.ofArray"
   ]
  },
  {
   "cell_type": "code",
   "execution_count": 11,
   "metadata": {
    "dotnet_interactive": {
     "language": "fsharp"
    },
    "polyglot_notebook": {
     "kernelName": "fsharp"
    }
   },
   "outputs": [
    {
     "data": {
      "text/html": [
       "<div class=\"dni-plaintext\"><pre>88151870</pre></div><style>\r\n",
       ".dni-code-hint {\r\n",
       "    font-style: italic;\r\n",
       "    overflow: hidden;\r\n",
       "    white-space: nowrap;\r\n",
       "}\r\n",
       ".dni-treeview {\r\n",
       "    white-space: nowrap;\r\n",
       "}\r\n",
       ".dni-treeview td {\r\n",
       "    vertical-align: top;\r\n",
       "    text-align: start;\r\n",
       "}\r\n",
       "details.dni-treeview {\r\n",
       "    padding-left: 1em;\r\n",
       "}\r\n",
       "table td {\r\n",
       "    text-align: start;\r\n",
       "}\r\n",
       "table tr { \r\n",
       "    vertical-align: top; \r\n",
       "    margin: 0em 0px;\r\n",
       "}\r\n",
       "table tr td pre \r\n",
       "{ \r\n",
       "    vertical-align: top !important; \r\n",
       "    margin: 0em 0px !important;\r\n",
       "} \r\n",
       "table th {\r\n",
       "    text-align: start;\r\n",
       "}\r\n",
       "</style>"
      ]
     },
     "metadata": {},
     "output_type": "display_data"
    }
   ],
   "source": [
    "seeds \n",
    "|> List.map (getLocation blocks)\n",
    "|> List.min"
   ]
  },
  {
   "cell_type": "markdown",
   "metadata": {},
   "source": [
    "# Part2"
   ]
  },
  {
   "cell_type": "code",
   "execution_count": 55,
   "metadata": {
    "dotnet_interactive": {
     "language": "fsharp"
    },
    "polyglot_notebook": {
     "kernelName": "fsharp"
    }
   },
   "outputs": [],
   "source": [
    "type Range = {Start: uint; End: uint; mutable Mapped: bool}\n",
    "let testRanges = \n",
    "    testseeds \n",
    "    |> List.chunkBySize 2\n",
    "    |> List.map (fun [x;y] -> {Start = x; End = x + y - 1u; Mapped = false})\n",
    "    "
   ]
  },
  {
   "cell_type": "code",
   "execution_count": 56,
   "metadata": {
    "dotnet_interactive": {
     "language": "fsharp"
    },
    "polyglot_notebook": {
     "kernelName": "fsharp"
    }
   },
   "outputs": [
    {
     "data": {
      "text/html": [
       "<details open=\"open\" class=\"dni-treeview\"><summary><span class=\"dni-code-hint\"><code>{ Destination = 52u\\n  Source = 50u\\n  Length = 48u }</code></span></summary><div><table><thead><tr></tr></thead><tbody><tr><td>Destination</td><td><div class=\"dni-plaintext\"><pre>52</pre></div></td></tr><tr><td>Source</td><td><div class=\"dni-plaintext\"><pre>50</pre></div></td></tr><tr><td>Length</td><td><div class=\"dni-plaintext\"><pre>48</pre></div></td></tr><tr><td>End</td><td><div class=\"dni-plaintext\"><pre>97</pre></div></td></tr></tbody></table></div></details><style>\r\n",
       ".dni-code-hint {\r\n",
       "    font-style: italic;\r\n",
       "    overflow: hidden;\r\n",
       "    white-space: nowrap;\r\n",
       "}\r\n",
       ".dni-treeview {\r\n",
       "    white-space: nowrap;\r\n",
       "}\r\n",
       ".dni-treeview td {\r\n",
       "    vertical-align: top;\r\n",
       "    text-align: start;\r\n",
       "}\r\n",
       "details.dni-treeview {\r\n",
       "    padding-left: 1em;\r\n",
       "}\r\n",
       "table td {\r\n",
       "    text-align: start;\r\n",
       "}\r\n",
       "table tr { \r\n",
       "    vertical-align: top; \r\n",
       "    margin: 0em 0px;\r\n",
       "}\r\n",
       "table tr td pre \r\n",
       "{ \r\n",
       "    vertical-align: top !important; \r\n",
       "    margin: 0em 0px !important;\r\n",
       "} \r\n",
       "table th {\r\n",
       "    text-align: start;\r\n",
       "}\r\n",
       "</style>"
      ]
     },
     "metadata": {},
     "output_type": "display_data"
    }
   ],
   "source": [
    "testblocks[0].Map[1]"
   ]
  },
  {
   "cell_type": "code",
   "execution_count": 123,
   "metadata": {
    "dotnet_interactive": {
     "language": "fsharp"
    },
    "polyglot_notebook": {
     "kernelName": "fsharp"
    }
   },
   "outputs": [],
   "source": [
    "let next (mapping: Mapping) (range: Range) =\n",
    "    let mapRange r = \n",
    "        {r with Start = Mapping.map r.Start mapping; End = Mapping.map r.End mapping}\n",
    "    if range.Mapped then \n",
    "        [range] \n",
    "    else \n",
    "        [\n",
    "            if range.End < mapping.Source || mapping.End < range.Start then \n",
    "                // No overlap\n",
    "                range\n",
    "            else \n",
    "                if range.Start < mapping.Source then \n",
    "                    {Start = range.Start; End = mapping.Source - 1u; Mapped = false}\n",
    "                    if range.End <= mapping.End then \n",
    "                        {Start = mapping.Source; End = range.End; Mapped = true}\n",
    "                    else \n",
    "                        {Start = mapping.Source; End = mapping.End; Mapped = true}\n",
    "                        {Start = mapping.End + 1u; End = range.End; Mapped = false}\n",
    "                else \n",
    "                    if range.End <= mapping.End then \n",
    "                        {Start = range.Start; End = range.End; Mapped = true}\n",
    "                    else\n",
    "                        {Start = range.Start; End= mapping.End; Mapped = true}\n",
    "                        {Start = range.End + 1u; End = range.End; Mapped = false}\n",
    "        ]\n",
    "        |> List.map (fun x -> \n",
    "            if x.Mapped then mapRange x else x)"
   ]
  },
  {
   "cell_type": "code",
   "execution_count": 180,
   "metadata": {
    "dotnet_interactive": {
     "language": "fsharp"
    },
    "polyglot_notebook": {
     "kernelName": "fsharp"
    }
   },
   "outputs": [],
   "source": [
    "let next2 (mapping: Mapping) (range: Range) =\n",
    "    let mapRange r = \n",
    "        {r with Start = Mapping.map r.Start mapping; End = Mapping.map r.End mapping}\n",
    "    if range.Mapped then \n",
    "        [range] \n",
    "    else if range.End < mapping.Source || mapping.End < range.Start then \n",
    "        [range]\n",
    "    else \n",
    "        [\n",
    "            if mapping.Source>0u then \n",
    "                {Start = range.Start; End = min range.End (mapping.Source - 1u); Mapped = false}\n",
    "            {Start = max range.Start mapping.Source; End = min range.End mapping.End; Mapped = true}\n",
    "            if mapping.End < System.UInt32.MaxValue then\n",
    "                {Start = max range.Start (mapping.End + 1u); End = range.End; Mapped = false}\n",
    "        ]\n",
    "        |> List.filter(fun x -> x.End>= x.Start)\n",
    "        |> List.map (fun x -> \n",
    "            if x.Mapped then mapRange x else x)"
   ]
  },
  {
   "cell_type": "code",
   "execution_count": 169,
   "metadata": {
    "dotnet_interactive": {
     "language": "fsharp"
    },
    "polyglot_notebook": {
     "kernelName": "fsharp"
    }
   },
   "outputs": [],
   "source": [
    "let test (mapping: Range) (range: Range) =\n",
    "    if range.Mapped then \n",
    "        [range] \n",
    "    else if range.End < mapping.Start || mapping.End < range.Start then \n",
    "        [range]\n",
    "    else \n",
    "        [\n",
    "            if mapping.Start>0u then \n",
    "                {Start = range.Start; End = min range.End (mapping.Start - 1u); Mapped = false}\n",
    "            {Start = max range.Start mapping.Start; End = min range.End mapping.End; Mapped = true}\n",
    "            if mapping.End < System.UInt32.MaxValue then\n",
    "                {Start = max range.Start (mapping.End + 1u); End = range.End; Mapped = false}\n",
    "        ]\n",
    "        |> List.filter(fun x -> x.End>= x.Start)"
   ]
  },
  {
   "cell_type": "code",
   "execution_count": 167,
   "metadata": {
    "dotnet_interactive": {
     "language": "fsharp"
    },
    "polyglot_notebook": {
     "kernelName": "fsharp"
    }
   },
   "outputs": [
    {
     "data": {
      "text/html": [
       "<div class=\"dni-plaintext\"><pre>4294967295</pre></div><style>\r\n",
       ".dni-code-hint {\r\n",
       "    font-style: italic;\r\n",
       "    overflow: hidden;\r\n",
       "    white-space: nowrap;\r\n",
       "}\r\n",
       ".dni-treeview {\r\n",
       "    white-space: nowrap;\r\n",
       "}\r\n",
       ".dni-treeview td {\r\n",
       "    vertical-align: top;\r\n",
       "    text-align: start;\r\n",
       "}\r\n",
       "details.dni-treeview {\r\n",
       "    padding-left: 1em;\r\n",
       "}\r\n",
       "table td {\r\n",
       "    text-align: start;\r\n",
       "}\r\n",
       "table tr { \r\n",
       "    vertical-align: top; \r\n",
       "    margin: 0em 0px;\r\n",
       "}\r\n",
       "table tr td pre \r\n",
       "{ \r\n",
       "    vertical-align: top !important; \r\n",
       "    margin: 0em 0px !important;\r\n",
       "} \r\n",
       "table th {\r\n",
       "    text-align: start;\r\n",
       "}\r\n",
       "</style>"
      ]
     },
     "metadata": {},
     "output_type": "display_data"
    }
   ],
   "source": [
    "0u - 1u"
   ]
  },
  {
   "cell_type": "code",
   "execution_count": 178,
   "metadata": {
    "dotnet_interactive": {
     "language": "fsharp"
    },
    "polyglot_notebook": {
     "kernelName": "fsharp"
    }
   },
   "outputs": [
    {
     "data": {
      "text/html": [
       "<table><thead><tr><th><i>index</i></th><th>value</th></tr></thead><tbody><tr><td>0</td><td><details class=\"dni-treeview\"><summary><span class=\"dni-code-hint\"><code>{ Start = 1u\\n  End = 3u\\n  Mapped = true }</code></span></summary><div><table><thead><tr></tr></thead><tbody><tr><td>Start</td><td><div class=\"dni-plaintext\"><pre>1</pre></div></td></tr><tr><td>End</td><td><div class=\"dni-plaintext\"><pre>3</pre></div></td></tr><tr><td>Mapped</td><td><div class=\"dni-plaintext\"><pre>True</pre></div></td></tr><tr><td>Mapped@</td><td><div class=\"dni-plaintext\"><pre>True</pre></div></td></tr></tbody></table></div></details></td></tr></tbody></table><style>\r\n",
       ".dni-code-hint {\r\n",
       "    font-style: italic;\r\n",
       "    overflow: hidden;\r\n",
       "    white-space: nowrap;\r\n",
       "}\r\n",
       ".dni-treeview {\r\n",
       "    white-space: nowrap;\r\n",
       "}\r\n",
       ".dni-treeview td {\r\n",
       "    vertical-align: top;\r\n",
       "    text-align: start;\r\n",
       "}\r\n",
       "details.dni-treeview {\r\n",
       "    padding-left: 1em;\r\n",
       "}\r\n",
       "table td {\r\n",
       "    text-align: start;\r\n",
       "}\r\n",
       "table tr { \r\n",
       "    vertical-align: top; \r\n",
       "    margin: 0em 0px;\r\n",
       "}\r\n",
       "table tr td pre \r\n",
       "{ \r\n",
       "    vertical-align: top !important; \r\n",
       "    margin: 0em 0px !important;\r\n",
       "} \r\n",
       "table th {\r\n",
       "    text-align: start;\r\n",
       "}\r\n",
       "</style>"
      ]
     },
     "metadata": {},
     "output_type": "display_data"
    }
   ],
   "source": [
    "test {Start=0u;End=4u;Mapped = false}  {Start=1u; End=3u;Mapped = false} \n",
    "|> Array.ofList"
   ]
  },
  {
   "cell_type": "code",
   "execution_count": 141,
   "metadata": {
    "dotnet_interactive": {
     "language": "fsharp"
    },
    "polyglot_notebook": {
     "kernelName": "fsharp"
    }
   },
   "outputs": [],
   "source": [
    "let next3 (mapping: Mapping) (range: Range) =\n",
    "    let mapRange r = \n",
    "        {r with Start = Mapping.map r.Start mapping; End = Mapping.map r.End mapping}\n",
    "    if range.Mapped then \n",
    "        [range] \n",
    "    else \n",
    "        let a,b = range.Start, range.End \n",
    "        let x,y = mapping.Source, mapping.End\n",
    "        [a; b; x; min b (x - 1u); max a b; min b y; max a (y + 1u)]\n",
    "        |> List.sort\n",
    "        |> List.windowed 2\n",
    "        |> List.map (fun [x;y] -> {Start = x; End = y; Mapped = false})\n",
    "        |> List.filter (fun r -> r.End >= r.Start)\n",
    "        |> List.filter (fun r -> r.Start >= a && r.End<=b)\n",
    "        |> List.map (fun r -> if r.Start >= x && r.End <= y then {mapRange r with Mapped=true} else r )"
   ]
  },
  {
   "cell_type": "code",
   "execution_count": 124,
   "metadata": {
    "dotnet_interactive": {
     "language": "fsharp"
    },
    "polyglot_notebook": {
     "kernelName": "fsharp"
    }
   },
   "outputs": [
    {
     "data": {
      "text/html": [
       "<details open=\"open\" class=\"dni-treeview\"><summary><span class=\"dni-code-hint\"><code>[ { Start = 81u\n",
       "  End = 94u\n",
       "  Mapped = true } ]</code></span></summary><div><table><thead><tr></tr></thead><tbody><tr><td>HeadOrDefault</td><td><details class=\"dni-treeview\"><summary><span class=\"dni-code-hint\"><code>{ Start = 81u\\n  End = 94u\\n  Mapped = true }</code></span></summary><div><table><thead><tr></tr></thead><tbody><tr><td>Start</td><td><div class=\"dni-plaintext\"><pre>81</pre></div></td></tr><tr><td>End</td><td><div class=\"dni-plaintext\"><pre>94</pre></div></td></tr><tr><td>Mapped</td><td><div class=\"dni-plaintext\"><pre>True</pre></div></td></tr><tr><td>Mapped@</td><td><div class=\"dni-plaintext\"><pre>True</pre></div></td></tr></tbody></table></div></details></td></tr><tr><td>TailOrNull</td><td><details class=\"dni-treeview\"><summary><span class=\"dni-code-hint\"><code>[  ]</code></span></summary><div><table><thead><tr></tr></thead><tbody><tr><td>HeadOrDefault</td><td><div class=\"dni-plaintext\"><pre>&lt;null&gt;</pre></div></td></tr><tr><td>TailOrNull</td><td><div class=\"dni-plaintext\"><pre>&lt;null&gt;</pre></div></td></tr><tr><td>Head</td><td><details class=\"dni-treeview\"><summary><span class=\"dni-code-hint\"><code>System.InvalidOperationException: The input list was empty.\\r\\n   at Microsoft.FSharp.Collections.FSharpList`1.get_Head() in D:\\a\\_work\\1\\s\\src\\FSharp.Core\\prim-types.fs:line 4136\\r\\n   at lambda_method422(Closure, FSharpList`1)\\r\\n   at Microsoft.DotNet.Interactive.Formatting.MemberAccessor`1.GetVa...</code></span></summary><div><table><thead><tr></tr></thead><tbody><tr><td>TargetSite</td><td><details class=\"dni-treeview\"><summary><span class=\"dni-code-hint\"><code>T get_Head()</code></span></summary><div><table><thead><tr></tr></thead><tbody><tr><td>Name</td><td><div class=\"dni-plaintext\"><pre>get_Head</pre></div></td></tr><tr><td>DeclaringType</td><td><span><a href=\"https://docs.microsoft.com/dotnet/api/microsoft.fsharp.collections.fsharplist-1?view=net-7.0\">Microsoft.FSharp.Collections.FSharpList&lt;T&gt;</a></span></td></tr><tr><td>ReflectedType</td><td><span><a href=\"https://docs.microsoft.com/dotnet/api/microsoft.fsharp.collections.fsharplist-1?view=net-7.0\">Microsoft.FSharp.Collections.FSharpList&lt;T&gt;</a></span></td></tr><tr><td>MemberType</td><td><span>Method</span></td></tr><tr><td>MetadataToken</td><td><div class=\"dni-plaintext\"><pre>100663766</pre></div></td></tr><tr><td>Module</td><td><details class=\"dni-treeview\"><summary><span class=\"dni-code-hint\"><code>FSharp.Core.dll</code></span></summary><div><table><thead><tr></tr></thead><tbody><tr><td>MDStreamVersion</td><td><div class=\"dni-plaintext\"><pre>131072</pre></div></td></tr><tr><td>FullyQualifiedName</td><td><div class=\"dni-plaintext\"><pre>C:\\Users\\Private\\.nuget\\packages\\microsoft.dotnet-interactive\\1.0.456201\\tools\\net7.0\\any\\FSharp.Core.dll</pre></div></td></tr><tr><td>ModuleVersionId</td><td><div class=\"dni-plaintext\"><pre>6dbe05a8-5c53-690c-c522-0b7a960bbd24</pre></div></td></tr><tr><td>MetadataToken</td><td><div class=\"dni-plaintext\"><pre>1</pre></div></td></tr><tr><td>ScopeName</td><td><div class=\"dni-plaintext\"><pre>FSharp.Core.dll</pre></div></td></tr><tr><td>Name</td><td><div class=\"dni-plaintext\"><pre>FSharp.Core.dll</pre></div></td></tr><tr><td>Assembly</td><td><details class=\"dni-treeview\"><summary><span class=\"dni-code-hint\"><code>FSharp.Core, Version=7.0.0.0, Culture=neutral, PublicKeyToken=b03f5f7f11d50a3a</code></span></summary><div><table><thead><tr></tr></thead><tbody><tr><td>CodeBase</td><td>file:///C:/Users/Private/.nuget/packages/microsoft.dotnet-interactive/1.0.456201/tools/net7.0/any/FSharp.Core.dll</td></tr><tr><td>FullName</td><td>FSharp.Core, Version=7.0.0.0, Culture=neutral, PublicKeyToken=b03f5f7f11d50a3a</td></tr><tr><td>EntryPoint</td><td><div class=\"dni-plaintext\"><pre>&lt;null&gt;</pre></div></td></tr><tr><td>DefinedTypes</td><td>[ Microsoft.FSharp.Core.Unit, Microsoft.FSharp.Core.SourceConstructFlags, Microsoft.FSharp.Core.CompilationRepresentationFlags, Microsoft.FSharp.Core.SealedAttribute, Microsoft.FSharp.Core.AbstractClassAttribute, Microsoft.FSharp.Core.EqualityConditionalOnAttribute, Microsoft.FSharp.Core.ComparisonConditionalOnAttribute, Microsoft.FSharp.Core.AllowNullLiteralAttribute, Microsoft.FSharp.Core.VolatileFieldAttribute, Microsoft.FSharp.Core.DefaultAugmentationAttribute, Microsoft.FSharp.Core.CLIEventAttribute, Microsoft.FSharp.Core.CLIMutableAttribute, Microsoft.FSharp.Core.AutoSerializableAttribute, Microsoft.FSharp.Core.DefaultValueAttribute, Microsoft.FSharp.Core.EntryPointAttribute, Microsoft.FSharp.Core.ReferenceEqualityAttribute, Microsoft.FSharp.Core.StructuralComparisonAttribute, Microsoft.FSharp.Core.StructuralEqualityAttribute, Microsoft.FSharp.Core.NoEqualityAttribute, Microsoft.FSharp.Core.CustomEqualityAttribute ... (2190 more) ]</td></tr><tr><td>IsCollectible</td><td>False</td></tr><tr><td>ManifestModule</td><td>FSharp.Core.dll</td></tr><tr><td>ReflectionOnly</td><td>False</td></tr><tr><td>Location</td><td>C:\\Users\\Private\\.nuget\\packages\\microsoft.dotnet-interactive\\1.0.456201\\tools\\net7.0\\any\\FSharp.Core.dll</td></tr><tr><td>ImageRuntimeVersion</td><td>v4.0.30319</td></tr><tr><td>GlobalAssemblyCache</td><td>False</td></tr><tr><td>HostContext</td><td>0</td></tr><tr><td>IsDynamic</td><td>False</td></tr><tr><td>ExportedTypes</td><td>[ Microsoft.FSharp.Core.Unit, Microsoft.FSharp.Core.SourceConstructFlags, Microsoft.FSharp.Core.CompilationRepresentationFlags, Microsoft.FSharp.Core.SealedAttribute, Microsoft.FSharp.Core.AbstractClassAttribute, Microsoft.FSharp.Core.EqualityConditionalOnAttribute, Microsoft.FSharp.Core.ComparisonConditionalOnAttribute, Microsoft.FSharp.Core.AllowNullLiteralAttribute, Microsoft.FSharp.Core.VolatileFieldAttribute, Microsoft.FSharp.Core.DefaultAugmentationAttribute, Microsoft.FSharp.Core.CLIEventAttribute, Microsoft.FSharp.Core.CLIMutableAttribute, Microsoft.FSharp.Core.AutoSerializableAttribute, Microsoft.FSharp.Core.DefaultValueAttribute, Microsoft.FSharp.Core.EntryPointAttribute, Microsoft.FSharp.Core.ReferenceEqualityAttribute, Microsoft.FSharp.Core.StructuralComparisonAttribute, Microsoft.FSharp.Core.StructuralEqualityAttribute, Microsoft.FSharp.Core.NoEqualityAttribute, Microsoft.FSharp.Core.CustomEqualityAttribute ... (214 more) ]</td></tr><tr><td>IsFullyTrusted</td><td>True</td></tr><tr><td>CustomAttributes</td><td>[ [Microsoft.FSharp.Core.FSharpInterfaceDataVersionAttribute((Int32)2, (Int32)0, (Int32)0)], [System.Runtime.Versioning.TargetFrameworkAttribute(\".NETStandard,Version=v2.1\", FrameworkDisplayName = \".NET Standard 2.1\")], [System.Reflection.AssemblyCompanyAttribute(\"Microsoft Corporation\")], [System.Reflection.AssemblyConfigurationAttribute(\"Release\")], [System.Reflection.AssemblyCopyrightAttribute(\"© Microsoft Corporation. All rights reserved.\")], [System.Reflection.AssemblyFileVersionAttribute(\"7.4.23.36405\")], [System.Reflection.AssemblyInformationalVersionAttribute(\"7.0.400-beta.23364.5+159a701477f5ca1e2d960e9bf79ce05769b3c671\")], [System.Reflection.AssemblyProductAttribute(\"FSharp.Core\")], [System.Reflection.AssemblyTitleAttribute(\"FSharp.Core\")], [System.Reflection.AssemblyMetadataAttribute(\"RepositoryUrl\", \"https://github.com/dotnet/fsharp\")], [System.Resources.NeutralResourcesLanguageAttribute(\"en-US\")], [System.Runtime.InteropServices.ComVisibleAttribute((Boolean)False)], [System.CLSCompliantAttribute((Boolean)True)], [System.Security.SecurityTransparentAttribute()], [Microsoft.FSharp.Core.AutoOpenAttribute(\"Microsoft.FSharp\")], [Microsoft.FSharp.Core.AutoOpenAttribute(\"Microsoft.FSharp.Core.LanguagePrimitives.IntrinsicOperators\")], [Microsoft.FSharp.Core.AutoOpenAttribute(\"Microsoft.FSharp.Core\")], [Microsoft.FSharp.Core.AutoOpenAttribute(\"Microsoft.FSharp.Collections\")], [Microsoft.FSharp.Core.AutoOpenAttribute(\"Microsoft.FSharp.Control\")], [Microsoft.FSharp.Core.AutoOpenAttribute(\"Microsoft.FSharp.Control.TaskBuilderExtensions.LowPriority\")] ... (5 more) ]</td></tr><tr><td>EscapedCodeBase</td><td>file:///C:/Users/Private/.nuget/packages/microsoft.dotnet-interactive/1.0.456201/tools/net7.0/any/FSharp.Core.dll</td></tr><tr><td>Modules</td><td>[ FSharp.Core.dll ]</td></tr><tr><td>SecurityRuleSet</td><td>None</td></tr></tbody></table></div></details></td></tr><tr><td>ModuleHandle</td><td><details class=\"dni-treeview\"><summary><span class=\"dni-code-hint\"><code>System.ModuleHandle</code></span></summary><div><table><thead><tr></tr></thead><tbody><tr><td>MDStreamVersion</td><td>131072</td></tr></tbody></table></div></details></td></tr><tr><td>CustomAttributes</td><td><i>(empty)</i></td></tr></tbody></table></div></details></td></tr><tr><td>IsSecurityCritical</td><td><div class=\"dni-plaintext\"><pre>True</pre></div></td></tr><tr><td>IsSecuritySafeCritical</td><td><div class=\"dni-plaintext\"><pre>False</pre></div></td></tr><tr><td>IsSecurityTransparent</td><td><div class=\"dni-plaintext\"><pre>False</pre></div></td></tr><tr><td>MethodHandle</td><td><details class=\"dni-treeview\"><summary><span class=\"dni-code-hint\"><code>System.RuntimeMethodHandle</code></span></summary><div><table><thead><tr></tr></thead><tbody><tr><td>Value</td><td><div class=\"dni-plaintext\"><pre>140703186481480</pre></div></td></tr></tbody></table></div></details></td></tr><tr><td>Attributes</td><td><span>PrivateScope, Public, HideBySig, SpecialName</span></td></tr><tr><td>CallingConvention</td><td><span>Standard, HasThis</span></td></tr><tr><td>ReturnType</td><td>T</td></tr><tr><td>ReturnTypeCustomAttributes</td><td><details class=\"dni-treeview\"><summary><span class=\"dni-code-hint\"><code>T</code></span></summary><div><table><thead><tr></tr></thead><tbody><tr><td>ParameterType</td><td>T</td></tr><tr><td>Name</td><td><div class=\"dni-plaintext\"><pre>&lt;null&gt;</pre></div></td></tr><tr><td>HasDefaultValue</td><td><div class=\"dni-plaintext\"><pre>True</pre></div></td></tr><tr><td>DefaultValue</td><td><div class=\"dni-plaintext\"><pre>&lt;null&gt;</pre></div></td></tr><tr><td>RawDefaultValue</td><td><div class=\"dni-plaintext\"><pre>&lt;null&gt;</pre></div></td></tr><tr><td>MetadataToken</td><td><div class=\"dni-plaintext\"><pre>134217728</pre></div></td></tr><tr><td>Attributes</td><td><span>None</span></td></tr><tr><td>Member</td><td><details class=\"dni-treeview\"><summary><span class=\"dni-code-hint\"><code>T get_Head()</code></span></summary><div><table><thead><tr></tr></thead><tbody><tr><td>Name</td><td>get_Head</td></tr><tr><td>DeclaringType</td><td>Microsoft.FSharp.Collections.FSharpList`1[T]</td></tr><tr><td>ReflectedType</td><td>Microsoft.FSharp.Collections.FSharpList`1[T]</td></tr><tr><td>MemberType</td><td>Method</td></tr><tr><td>MetadataToken</td><td>100663766</td></tr><tr><td>Module</td><td>FSharp.Core.dll</td></tr><tr><td>IsSecurityCritical</td><td>True</td></tr><tr><td>IsSecuritySafeCritical</td><td>False</td></tr><tr><td>IsSecurityTransparent</td><td>False</td></tr><tr><td>MethodHandle</td><td>System.RuntimeMethodHandle</td></tr><tr><td>Attributes</td><td>PrivateScope, Public, HideBySig, SpecialName</td></tr><tr><td>CallingConvention</td><td>Standard, HasThis</td></tr><tr><td>ReturnType</td><td>T</td></tr><tr><td>ReturnTypeCustomAttributes</td><td>T</td></tr><tr><td>ReturnParameter</td><td>T</td></tr><tr><td>IsCollectible</td><td>False</td></tr><tr><td>IsGenericMethod</td><td>False</td></tr><tr><td>IsGenericMethodDefinition</td><td>False</td></tr><tr><td>ContainsGenericParameters</td><td>True</td></tr><tr><td>MethodImplementationFlags</td><td>IL</td></tr><tr><td>IsAbstract</td><td>False</td></tr><tr><td>IsConstructor</td><td>False</td></tr><tr><td>IsFinal</td><td>False</td></tr><tr><td>IsHideBySig</td><td>True</td></tr><tr><td>IsSpecialName</td><td>True</td></tr><tr><td>IsStatic</td><td>False</td></tr><tr><td>IsVirtual</td><td>False</td></tr><tr><td>IsAssembly</td><td>False</td></tr><tr><td>IsFamily</td><td>False</td></tr><tr><td>IsFamilyAndAssembly</td><td>False</td></tr><tr><td>IsFamilyOrAssembly</td><td>False</td></tr><tr><td>IsPrivate</td><td>False</td></tr><tr><td>IsPublic</td><td>True</td></tr><tr><td>IsConstructedGenericMethod</td><td>False</td></tr><tr><td>CustomAttributes</td><td>[  ]</td></tr></tbody></table></div></details></td></tr><tr><td>Position</td><td><div class=\"dni-plaintext\"><pre>-1</pre></div></td></tr><tr><td>IsIn</td><td><div class=\"dni-plaintext\"><pre>False</pre></div></td></tr><tr><td>IsLcid</td><td><div class=\"dni-plaintext\"><pre>False</pre></div></td></tr><tr><td>IsOptional</td><td><div class=\"dni-plaintext\"><pre>False</pre></div></td></tr><tr><td>IsOut</td><td><div class=\"dni-plaintext\"><pre>False</pre></div></td></tr><tr><td>IsRetval</td><td><div class=\"dni-plaintext\"><pre>False</pre></div></td></tr><tr><td>CustomAttributes</td><td><i>(empty)</i></td></tr></tbody></table></div></details></td></tr><tr><td>ReturnParameter</td><td><details class=\"dni-treeview\"><summary><span class=\"dni-code-hint\"><code>T</code></span></summary><div><table><thead><tr></tr></thead><tbody><tr><td>ParameterType</td><td>T</td></tr><tr><td>Name</td><td><div class=\"dni-plaintext\"><pre>&lt;null&gt;</pre></div></td></tr><tr><td>HasDefaultValue</td><td><div class=\"dni-plaintext\"><pre>True</pre></div></td></tr><tr><td>DefaultValue</td><td><div class=\"dni-plaintext\"><pre>&lt;null&gt;</pre></div></td></tr><tr><td>RawDefaultValue</td><td><div class=\"dni-plaintext\"><pre>&lt;null&gt;</pre></div></td></tr><tr><td>MetadataToken</td><td><div class=\"dni-plaintext\"><pre>134217728</pre></div></td></tr><tr><td>Attributes</td><td><span>None</span></td></tr><tr><td>Member</td><td><details class=\"dni-treeview\"><summary><span class=\"dni-code-hint\"><code>T get_Head()</code></span></summary><div><table><thead><tr></tr></thead><tbody><tr><td>Name</td><td>get_Head</td></tr><tr><td>DeclaringType</td><td>Microsoft.FSharp.Collections.FSharpList`1[T]</td></tr><tr><td>ReflectedType</td><td>Microsoft.FSharp.Collections.FSharpList`1[T]</td></tr><tr><td>MemberType</td><td>Method</td></tr><tr><td>MetadataToken</td><td>100663766</td></tr><tr><td>Module</td><td>FSharp.Core.dll</td></tr><tr><td>IsSecurityCritical</td><td>True</td></tr><tr><td>IsSecuritySafeCritical</td><td>False</td></tr><tr><td>IsSecurityTransparent</td><td>False</td></tr><tr><td>MethodHandle</td><td>System.RuntimeMethodHandle</td></tr><tr><td>Attributes</td><td>PrivateScope, Public, HideBySig, SpecialName</td></tr><tr><td>CallingConvention</td><td>Standard, HasThis</td></tr><tr><td>ReturnType</td><td>T</td></tr><tr><td>ReturnTypeCustomAttributes</td><td>T</td></tr><tr><td>ReturnParameter</td><td>T</td></tr><tr><td>IsCollectible</td><td>False</td></tr><tr><td>IsGenericMethod</td><td>False</td></tr><tr><td>IsGenericMethodDefinition</td><td>False</td></tr><tr><td>ContainsGenericParameters</td><td>True</td></tr><tr><td>MethodImplementationFlags</td><td>IL</td></tr><tr><td>IsAbstract</td><td>False</td></tr><tr><td>IsConstructor</td><td>False</td></tr><tr><td>IsFinal</td><td>False</td></tr><tr><td>IsHideBySig</td><td>True</td></tr><tr><td>IsSpecialName</td><td>True</td></tr><tr><td>IsStatic</td><td>False</td></tr><tr><td>IsVirtual</td><td>False</td></tr><tr><td>IsAssembly</td><td>False</td></tr><tr><td>IsFamily</td><td>False</td></tr><tr><td>IsFamilyAndAssembly</td><td>False</td></tr><tr><td>IsFamilyOrAssembly</td><td>False</td></tr><tr><td>IsPrivate</td><td>False</td></tr><tr><td>IsPublic</td><td>True</td></tr><tr><td>IsConstructedGenericMethod</td><td>False</td></tr><tr><td>CustomAttributes</td><td>[  ]</td></tr></tbody></table></div></details></td></tr><tr><td>Position</td><td><div class=\"dni-plaintext\"><pre>-1</pre></div></td></tr><tr><td>IsIn</td><td><div class=\"dni-plaintext\"><pre>False</pre></div></td></tr><tr><td>IsLcid</td><td><div class=\"dni-plaintext\"><pre>False</pre></div></td></tr><tr><td>IsOptional</td><td><div class=\"dni-plaintext\"><pre>False</pre></div></td></tr><tr><td>IsOut</td><td><div class=\"dni-plaintext\"><pre>False</pre></div></td></tr><tr><td>IsRetval</td><td><div class=\"dni-plaintext\"><pre>False</pre></div></td></tr><tr><td>CustomAttributes</td><td><i>(empty)</i></td></tr></tbody></table></div></details></td></tr><tr><td>IsCollectible</td><td><div class=\"dni-plaintext\"><pre>False</pre></div></td></tr><tr><td>IsGenericMethod</td><td><div class=\"dni-plaintext\"><pre>False</pre></div></td></tr><tr><td>IsGenericMethodDefinition</td><td><div class=\"dni-plaintext\"><pre>False</pre></div></td></tr><tr><td>ContainsGenericParameters</td><td><div class=\"dni-plaintext\"><pre>True</pre></div></td></tr><tr><td>MethodImplementationFlags</td><td><span>IL</span></td></tr><tr><td>IsAbstract</td><td><div class=\"dni-plaintext\"><pre>False</pre></div></td></tr><tr><td>IsConstructor</td><td><div class=\"dni-plaintext\"><pre>False</pre></div></td></tr><tr><td>IsFinal</td><td><div class=\"dni-plaintext\"><pre>False</pre></div></td></tr><tr><td>IsHideBySig</td><td><div class=\"dni-plaintext\"><pre>True</pre></div></td></tr><tr><td>IsSpecialName</td><td><div class=\"dni-plaintext\"><pre>True</pre></div></td></tr><tr><td>IsStatic</td><td><div class=\"dni-plaintext\"><pre>False</pre></div></td></tr><tr><td>IsVirtual</td><td><div class=\"dni-plaintext\"><pre>False</pre></div></td></tr><tr><td>IsAssembly</td><td><div class=\"dni-plaintext\"><pre>False</pre></div></td></tr><tr><td>IsFamily</td><td><div class=\"dni-plaintext\"><pre>False</pre></div></td></tr><tr><td>IsFamilyAndAssembly</td><td><div class=\"dni-plaintext\"><pre>False</pre></div></td></tr><tr><td>IsFamilyOrAssembly</td><td><div class=\"dni-plaintext\"><pre>False</pre></div></td></tr><tr><td>IsPrivate</td><td><div class=\"dni-plaintext\"><pre>False</pre></div></td></tr><tr><td>IsPublic</td><td><div class=\"dni-plaintext\"><pre>True</pre></div></td></tr><tr><td>IsConstructedGenericMethod</td><td><div class=\"dni-plaintext\"><pre>False</pre></div></td></tr><tr><td>CustomAttributes</td><td><i>(empty)</i></td></tr></tbody></table></div></details></td></tr><tr><td>Message</td><td><div class=\"dni-plaintext\"><pre>The input list was empty.</pre></div></td></tr><tr><td>Data</td><td><i>(empty)</i></td></tr><tr><td>InnerException</td><td><div class=\"dni-plaintext\"><pre>&lt;null&gt;</pre></div></td></tr><tr><td>HelpLink</td><td><div class=\"dni-plaintext\"><pre>&lt;null&gt;</pre></div></td></tr><tr><td>Source</td><td><div class=\"dni-plaintext\"><pre>FSharp.Core</pre></div></td></tr><tr><td>HResult</td><td><div class=\"dni-plaintext\"><pre>-2146233079</pre></div></td></tr><tr><td>StackTrace</td><td><div class=\"dni-plaintext\"><pre>   at Microsoft.FSharp.Collections.FSharpList`1.get_Head() in D:\\a\\_work\\1\\s\\src\\FSharp.Core\\prim-types.fs:line 4136\r\n",
       "   at lambda_method422(Closure, FSharpList`1)\r\n",
       "   at Microsoft.DotNet.Interactive.Formatting.MemberAccessor`1.GetValueOrException(T instance) in D:\\a\\_work\\1\\s\\src\\Microsoft.DotNet.Interactive.Formatting\\MemberAccessor{T}.cs:line 64</pre></div></td></tr></tbody></table></div></details></td></tr><tr><td>Tail</td><td><details class=\"dni-treeview\"><summary><span class=\"dni-code-hint\"><code>System.InvalidOperationException: The input list was empty.\\r\\n   at Microsoft.FSharp.Collections.FSharpList`1.get_Tail() in D:\\a\\_work\\1\\s\\src\\FSharp.Core\\prim-types.fs:line 4141\\r\\n   at lambda_method423(Closure, FSharpList`1)\\r\\n   at Microsoft.DotNet.Interactive.Formatting.MemberAccessor`1.GetVa...</code></span></summary><div><table><thead><tr></tr></thead><tbody><tr><td>TargetSite</td><td><details class=\"dni-treeview\"><summary><span class=\"dni-code-hint\"><code>Microsoft.FSharp.Collections.FSharpList`1[T] get_Tail()</code></span></summary><div><table><thead><tr></tr></thead><tbody><tr><td>Name</td><td><div class=\"dni-plaintext\"><pre>get_Tail</pre></div></td></tr><tr><td>DeclaringType</td><td><span><a href=\"https://docs.microsoft.com/dotnet/api/microsoft.fsharp.collections.fsharplist-1?view=net-7.0\">Microsoft.FSharp.Collections.FSharpList&lt;T&gt;</a></span></td></tr><tr><td>ReflectedType</td><td><span><a href=\"https://docs.microsoft.com/dotnet/api/microsoft.fsharp.collections.fsharplist-1?view=net-7.0\">Microsoft.FSharp.Collections.FSharpList&lt;T&gt;</a></span></td></tr><tr><td>MemberType</td><td><span>Method</span></td></tr><tr><td>MetadataToken</td><td><div class=\"dni-plaintext\"><pre>100663767</pre></div></td></tr><tr><td>Module</td><td><details class=\"dni-treeview\"><summary><span class=\"dni-code-hint\"><code>FSharp.Core.dll</code></span></summary><div><table><thead><tr></tr></thead><tbody><tr><td>MDStreamVersion</td><td><div class=\"dni-plaintext\"><pre>131072</pre></div></td></tr><tr><td>FullyQualifiedName</td><td><div class=\"dni-plaintext\"><pre>C:\\Users\\Private\\.nuget\\packages\\microsoft.dotnet-interactive\\1.0.456201\\tools\\net7.0\\any\\FSharp.Core.dll</pre></div></td></tr><tr><td>ModuleVersionId</td><td><div class=\"dni-plaintext\"><pre>6dbe05a8-5c53-690c-c522-0b7a960bbd24</pre></div></td></tr><tr><td>MetadataToken</td><td><div class=\"dni-plaintext\"><pre>1</pre></div></td></tr><tr><td>ScopeName</td><td><div class=\"dni-plaintext\"><pre>FSharp.Core.dll</pre></div></td></tr><tr><td>Name</td><td><div class=\"dni-plaintext\"><pre>FSharp.Core.dll</pre></div></td></tr><tr><td>Assembly</td><td><details class=\"dni-treeview\"><summary><span class=\"dni-code-hint\"><code>FSharp.Core, Version=7.0.0.0, Culture=neutral, PublicKeyToken=b03f5f7f11d50a3a</code></span></summary><div><table><thead><tr></tr></thead><tbody><tr><td>CodeBase</td><td>file:///C:/Users/Private/.nuget/packages/microsoft.dotnet-interactive/1.0.456201/tools/net7.0/any/FSharp.Core.dll</td></tr><tr><td>FullName</td><td>FSharp.Core, Version=7.0.0.0, Culture=neutral, PublicKeyToken=b03f5f7f11d50a3a</td></tr><tr><td>EntryPoint</td><td><div class=\"dni-plaintext\"><pre>&lt;null&gt;</pre></div></td></tr><tr><td>DefinedTypes</td><td>[ Microsoft.FSharp.Core.Unit, Microsoft.FSharp.Core.SourceConstructFlags, Microsoft.FSharp.Core.CompilationRepresentationFlags, Microsoft.FSharp.Core.SealedAttribute, Microsoft.FSharp.Core.AbstractClassAttribute, Microsoft.FSharp.Core.EqualityConditionalOnAttribute, Microsoft.FSharp.Core.ComparisonConditionalOnAttribute, Microsoft.FSharp.Core.AllowNullLiteralAttribute, Microsoft.FSharp.Core.VolatileFieldAttribute, Microsoft.FSharp.Core.DefaultAugmentationAttribute, Microsoft.FSharp.Core.CLIEventAttribute, Microsoft.FSharp.Core.CLIMutableAttribute, Microsoft.FSharp.Core.AutoSerializableAttribute, Microsoft.FSharp.Core.DefaultValueAttribute, Microsoft.FSharp.Core.EntryPointAttribute, Microsoft.FSharp.Core.ReferenceEqualityAttribute, Microsoft.FSharp.Core.StructuralComparisonAttribute, Microsoft.FSharp.Core.StructuralEqualityAttribute, Microsoft.FSharp.Core.NoEqualityAttribute, Microsoft.FSharp.Core.CustomEqualityAttribute ... (2190 more) ]</td></tr><tr><td>IsCollectible</td><td>False</td></tr><tr><td>ManifestModule</td><td>FSharp.Core.dll</td></tr><tr><td>ReflectionOnly</td><td>False</td></tr><tr><td>Location</td><td>C:\\Users\\Private\\.nuget\\packages\\microsoft.dotnet-interactive\\1.0.456201\\tools\\net7.0\\any\\FSharp.Core.dll</td></tr><tr><td>ImageRuntimeVersion</td><td>v4.0.30319</td></tr><tr><td>GlobalAssemblyCache</td><td>False</td></tr><tr><td>HostContext</td><td>0</td></tr><tr><td>IsDynamic</td><td>False</td></tr><tr><td>ExportedTypes</td><td>[ Microsoft.FSharp.Core.Unit, Microsoft.FSharp.Core.SourceConstructFlags, Microsoft.FSharp.Core.CompilationRepresentationFlags, Microsoft.FSharp.Core.SealedAttribute, Microsoft.FSharp.Core.AbstractClassAttribute, Microsoft.FSharp.Core.EqualityConditionalOnAttribute, Microsoft.FSharp.Core.ComparisonConditionalOnAttribute, Microsoft.FSharp.Core.AllowNullLiteralAttribute, Microsoft.FSharp.Core.VolatileFieldAttribute, Microsoft.FSharp.Core.DefaultAugmentationAttribute, Microsoft.FSharp.Core.CLIEventAttribute, Microsoft.FSharp.Core.CLIMutableAttribute, Microsoft.FSharp.Core.AutoSerializableAttribute, Microsoft.FSharp.Core.DefaultValueAttribute, Microsoft.FSharp.Core.EntryPointAttribute, Microsoft.FSharp.Core.ReferenceEqualityAttribute, Microsoft.FSharp.Core.StructuralComparisonAttribute, Microsoft.FSharp.Core.StructuralEqualityAttribute, Microsoft.FSharp.Core.NoEqualityAttribute, Microsoft.FSharp.Core.CustomEqualityAttribute ... (214 more) ]</td></tr><tr><td>IsFullyTrusted</td><td>True</td></tr><tr><td>CustomAttributes</td><td>[ [Microsoft.FSharp.Core.FSharpInterfaceDataVersionAttribute((Int32)2, (Int32)0, (Int32)0)], [System.Runtime.Versioning.TargetFrameworkAttribute(\".NETStandard,Version=v2.1\", FrameworkDisplayName = \".NET Standard 2.1\")], [System.Reflection.AssemblyCompanyAttribute(\"Microsoft Corporation\")], [System.Reflection.AssemblyConfigurationAttribute(\"Release\")], [System.Reflection.AssemblyCopyrightAttribute(\"© Microsoft Corporation. All rights reserved.\")], [System.Reflection.AssemblyFileVersionAttribute(\"7.4.23.36405\")], [System.Reflection.AssemblyInformationalVersionAttribute(\"7.0.400-beta.23364.5+159a701477f5ca1e2d960e9bf79ce05769b3c671\")], [System.Reflection.AssemblyProductAttribute(\"FSharp.Core\")], [System.Reflection.AssemblyTitleAttribute(\"FSharp.Core\")], [System.Reflection.AssemblyMetadataAttribute(\"RepositoryUrl\", \"https://github.com/dotnet/fsharp\")], [System.Resources.NeutralResourcesLanguageAttribute(\"en-US\")], [System.Runtime.InteropServices.ComVisibleAttribute((Boolean)False)], [System.CLSCompliantAttribute((Boolean)True)], [System.Security.SecurityTransparentAttribute()], [Microsoft.FSharp.Core.AutoOpenAttribute(\"Microsoft.FSharp\")], [Microsoft.FSharp.Core.AutoOpenAttribute(\"Microsoft.FSharp.Core.LanguagePrimitives.IntrinsicOperators\")], [Microsoft.FSharp.Core.AutoOpenAttribute(\"Microsoft.FSharp.Core\")], [Microsoft.FSharp.Core.AutoOpenAttribute(\"Microsoft.FSharp.Collections\")], [Microsoft.FSharp.Core.AutoOpenAttribute(\"Microsoft.FSharp.Control\")], [Microsoft.FSharp.Core.AutoOpenAttribute(\"Microsoft.FSharp.Control.TaskBuilderExtensions.LowPriority\")] ... (5 more) ]</td></tr><tr><td>EscapedCodeBase</td><td>file:///C:/Users/Private/.nuget/packages/microsoft.dotnet-interactive/1.0.456201/tools/net7.0/any/FSharp.Core.dll</td></tr><tr><td>Modules</td><td>[ FSharp.Core.dll ]</td></tr><tr><td>SecurityRuleSet</td><td>None</td></tr></tbody></table></div></details></td></tr><tr><td>ModuleHandle</td><td><details class=\"dni-treeview\"><summary><span class=\"dni-code-hint\"><code>System.ModuleHandle</code></span></summary><div><table><thead><tr></tr></thead><tbody><tr><td>MDStreamVersion</td><td>131072</td></tr></tbody></table></div></details></td></tr><tr><td>CustomAttributes</td><td><i>(empty)</i></td></tr></tbody></table></div></details></td></tr><tr><td>IsSecurityCritical</td><td><div class=\"dni-plaintext\"><pre>True</pre></div></td></tr><tr><td>IsSecuritySafeCritical</td><td><div class=\"dni-plaintext\"><pre>False</pre></div></td></tr><tr><td>IsSecurityTransparent</td><td><div class=\"dni-plaintext\"><pre>False</pre></div></td></tr><tr><td>MethodHandle</td><td><details class=\"dni-treeview\"><summary><span class=\"dni-code-hint\"><code>System.RuntimeMethodHandle</code></span></summary><div><table><thead><tr></tr></thead><tbody><tr><td>Value</td><td><div class=\"dni-plaintext\"><pre>140703186481496</pre></div></td></tr></tbody></table></div></details></td></tr><tr><td>Attributes</td><td><span>PrivateScope, Public, HideBySig, SpecialName</span></td></tr><tr><td>CallingConvention</td><td><span>Standard, HasThis</span></td></tr><tr><td>ReturnType</td><td><span><a href=\"https://docs.microsoft.com/dotnet/api/microsoft.fsharp.collections.fsharplist-1?view=net-7.0\">Microsoft.FSharp.Collections.FSharpList&lt;T&gt;</a></span></td></tr><tr><td>ReturnTypeCustomAttributes</td><td><details class=\"dni-treeview\"><summary><span class=\"dni-code-hint\"><code>Microsoft.FSharp.Collections.FSharpList`1[T]</code></span></summary><div><table><thead><tr></tr></thead><tbody><tr><td>ParameterType</td><td><span><a href=\"https://docs.microsoft.com/dotnet/api/microsoft.fsharp.collections.fsharplist-1?view=net-7.0\">Microsoft.FSharp.Collections.FSharpList&lt;T&gt;</a></span></td></tr><tr><td>Name</td><td><div class=\"dni-plaintext\"><pre>&lt;null&gt;</pre></div></td></tr><tr><td>HasDefaultValue</td><td><div class=\"dni-plaintext\"><pre>True</pre></div></td></tr><tr><td>DefaultValue</td><td><div class=\"dni-plaintext\"><pre>&lt;null&gt;</pre></div></td></tr><tr><td>RawDefaultValue</td><td><div class=\"dni-plaintext\"><pre>&lt;null&gt;</pre></div></td></tr><tr><td>MetadataToken</td><td><div class=\"dni-plaintext\"><pre>134217728</pre></div></td></tr><tr><td>Attributes</td><td><span>None</span></td></tr><tr><td>Member</td><td><details class=\"dni-treeview\"><summary><span class=\"dni-code-hint\"><code>Microsoft.FSharp.Collections.FSharpList`1[T] get_Tail()</code></span></summary><div><table><thead><tr></tr></thead><tbody><tr><td>Name</td><td>get_Tail</td></tr><tr><td>DeclaringType</td><td>Microsoft.FSharp.Collections.FSharpList`1[T]</td></tr><tr><td>ReflectedType</td><td>Microsoft.FSharp.Collections.FSharpList`1[T]</td></tr><tr><td>MemberType</td><td>Method</td></tr><tr><td>MetadataToken</td><td>100663767</td></tr><tr><td>Module</td><td>FSharp.Core.dll</td></tr><tr><td>IsSecurityCritical</td><td>True</td></tr><tr><td>IsSecuritySafeCritical</td><td>False</td></tr><tr><td>IsSecurityTransparent</td><td>False</td></tr><tr><td>MethodHandle</td><td>System.RuntimeMethodHandle</td></tr><tr><td>Attributes</td><td>PrivateScope, Public, HideBySig, SpecialName</td></tr><tr><td>CallingConvention</td><td>Standard, HasThis</td></tr><tr><td>ReturnType</td><td>Microsoft.FSharp.Collections.FSharpList`1[T]</td></tr><tr><td>ReturnTypeCustomAttributes</td><td>Microsoft.FSharp.Collections.FSharpList`1[T]</td></tr><tr><td>ReturnParameter</td><td>Microsoft.FSharp.Collections.FSharpList`1[T]</td></tr><tr><td>IsCollectible</td><td>False</td></tr><tr><td>IsGenericMethod</td><td>False</td></tr><tr><td>IsGenericMethodDefinition</td><td>False</td></tr><tr><td>ContainsGenericParameters</td><td>True</td></tr><tr><td>MethodImplementationFlags</td><td>IL</td></tr><tr><td>IsAbstract</td><td>False</td></tr><tr><td>IsConstructor</td><td>False</td></tr><tr><td>IsFinal</td><td>False</td></tr><tr><td>IsHideBySig</td><td>True</td></tr><tr><td>IsSpecialName</td><td>True</td></tr><tr><td>IsStatic</td><td>False</td></tr><tr><td>IsVirtual</td><td>False</td></tr><tr><td>IsAssembly</td><td>False</td></tr><tr><td>IsFamily</td><td>False</td></tr><tr><td>IsFamilyAndAssembly</td><td>False</td></tr><tr><td>IsFamilyOrAssembly</td><td>False</td></tr><tr><td>IsPrivate</td><td>False</td></tr><tr><td>IsPublic</td><td>True</td></tr><tr><td>IsConstructedGenericMethod</td><td>False</td></tr><tr><td>CustomAttributes</td><td>[  ]</td></tr></tbody></table></div></details></td></tr><tr><td>Position</td><td><div class=\"dni-plaintext\"><pre>-1</pre></div></td></tr><tr><td>IsIn</td><td><div class=\"dni-plaintext\"><pre>False</pre></div></td></tr><tr><td>IsLcid</td><td><div class=\"dni-plaintext\"><pre>False</pre></div></td></tr><tr><td>IsOptional</td><td><div class=\"dni-plaintext\"><pre>False</pre></div></td></tr><tr><td>IsOut</td><td><div class=\"dni-plaintext\"><pre>False</pre></div></td></tr><tr><td>IsRetval</td><td><div class=\"dni-plaintext\"><pre>False</pre></div></td></tr><tr><td>CustomAttributes</td><td><i>(empty)</i></td></tr></tbody></table></div></details></td></tr><tr><td>ReturnParameter</td><td><details class=\"dni-treeview\"><summary><span class=\"dni-code-hint\"><code>Microsoft.FSharp.Collections.FSharpList`1[T]</code></span></summary><div><table><thead><tr></tr></thead><tbody><tr><td>ParameterType</td><td><span><a href=\"https://docs.microsoft.com/dotnet/api/microsoft.fsharp.collections.fsharplist-1?view=net-7.0\">Microsoft.FSharp.Collections.FSharpList&lt;T&gt;</a></span></td></tr><tr><td>Name</td><td><div class=\"dni-plaintext\"><pre>&lt;null&gt;</pre></div></td></tr><tr><td>HasDefaultValue</td><td><div class=\"dni-plaintext\"><pre>True</pre></div></td></tr><tr><td>DefaultValue</td><td><div class=\"dni-plaintext\"><pre>&lt;null&gt;</pre></div></td></tr><tr><td>RawDefaultValue</td><td><div class=\"dni-plaintext\"><pre>&lt;null&gt;</pre></div></td></tr><tr><td>MetadataToken</td><td><div class=\"dni-plaintext\"><pre>134217728</pre></div></td></tr><tr><td>Attributes</td><td><span>None</span></td></tr><tr><td>Member</td><td><details class=\"dni-treeview\"><summary><span class=\"dni-code-hint\"><code>Microsoft.FSharp.Collections.FSharpList`1[T] get_Tail()</code></span></summary><div><table><thead><tr></tr></thead><tbody><tr><td>Name</td><td>get_Tail</td></tr><tr><td>DeclaringType</td><td>Microsoft.FSharp.Collections.FSharpList`1[T]</td></tr><tr><td>ReflectedType</td><td>Microsoft.FSharp.Collections.FSharpList`1[T]</td></tr><tr><td>MemberType</td><td>Method</td></tr><tr><td>MetadataToken</td><td>100663767</td></tr><tr><td>Module</td><td>FSharp.Core.dll</td></tr><tr><td>IsSecurityCritical</td><td>True</td></tr><tr><td>IsSecuritySafeCritical</td><td>False</td></tr><tr><td>IsSecurityTransparent</td><td>False</td></tr><tr><td>MethodHandle</td><td>System.RuntimeMethodHandle</td></tr><tr><td>Attributes</td><td>PrivateScope, Public, HideBySig, SpecialName</td></tr><tr><td>CallingConvention</td><td>Standard, HasThis</td></tr><tr><td>ReturnType</td><td>Microsoft.FSharp.Collections.FSharpList`1[T]</td></tr><tr><td>ReturnTypeCustomAttributes</td><td>Microsoft.FSharp.Collections.FSharpList`1[T]</td></tr><tr><td>ReturnParameter</td><td>Microsoft.FSharp.Collections.FSharpList`1[T]</td></tr><tr><td>IsCollectible</td><td>False</td></tr><tr><td>IsGenericMethod</td><td>False</td></tr><tr><td>IsGenericMethodDefinition</td><td>False</td></tr><tr><td>ContainsGenericParameters</td><td>True</td></tr><tr><td>MethodImplementationFlags</td><td>IL</td></tr><tr><td>IsAbstract</td><td>False</td></tr><tr><td>IsConstructor</td><td>False</td></tr><tr><td>IsFinal</td><td>False</td></tr><tr><td>IsHideBySig</td><td>True</td></tr><tr><td>IsSpecialName</td><td>True</td></tr><tr><td>IsStatic</td><td>False</td></tr><tr><td>IsVirtual</td><td>False</td></tr><tr><td>IsAssembly</td><td>False</td></tr><tr><td>IsFamily</td><td>False</td></tr><tr><td>IsFamilyAndAssembly</td><td>False</td></tr><tr><td>IsFamilyOrAssembly</td><td>False</td></tr><tr><td>IsPrivate</td><td>False</td></tr><tr><td>IsPublic</td><td>True</td></tr><tr><td>IsConstructedGenericMethod</td><td>False</td></tr><tr><td>CustomAttributes</td><td>[  ]</td></tr></tbody></table></div></details></td></tr><tr><td>Position</td><td><div class=\"dni-plaintext\"><pre>-1</pre></div></td></tr><tr><td>IsIn</td><td><div class=\"dni-plaintext\"><pre>False</pre></div></td></tr><tr><td>IsLcid</td><td><div class=\"dni-plaintext\"><pre>False</pre></div></td></tr><tr><td>IsOptional</td><td><div class=\"dni-plaintext\"><pre>False</pre></div></td></tr><tr><td>IsOut</td><td><div class=\"dni-plaintext\"><pre>False</pre></div></td></tr><tr><td>IsRetval</td><td><div class=\"dni-plaintext\"><pre>False</pre></div></td></tr><tr><td>CustomAttributes</td><td><i>(empty)</i></td></tr></tbody></table></div></details></td></tr><tr><td>IsCollectible</td><td><div class=\"dni-plaintext\"><pre>False</pre></div></td></tr><tr><td>IsGenericMethod</td><td><div class=\"dni-plaintext\"><pre>False</pre></div></td></tr><tr><td>IsGenericMethodDefinition</td><td><div class=\"dni-plaintext\"><pre>False</pre></div></td></tr><tr><td>ContainsGenericParameters</td><td><div class=\"dni-plaintext\"><pre>True</pre></div></td></tr><tr><td>MethodImplementationFlags</td><td><span>IL</span></td></tr><tr><td>IsAbstract</td><td><div class=\"dni-plaintext\"><pre>False</pre></div></td></tr><tr><td>IsConstructor</td><td><div class=\"dni-plaintext\"><pre>False</pre></div></td></tr><tr><td>IsFinal</td><td><div class=\"dni-plaintext\"><pre>False</pre></div></td></tr><tr><td>IsHideBySig</td><td><div class=\"dni-plaintext\"><pre>True</pre></div></td></tr><tr><td>IsSpecialName</td><td><div class=\"dni-plaintext\"><pre>True</pre></div></td></tr><tr><td>IsStatic</td><td><div class=\"dni-plaintext\"><pre>False</pre></div></td></tr><tr><td>IsVirtual</td><td><div class=\"dni-plaintext\"><pre>False</pre></div></td></tr><tr><td>IsAssembly</td><td><div class=\"dni-plaintext\"><pre>False</pre></div></td></tr><tr><td>IsFamily</td><td><div class=\"dni-plaintext\"><pre>False</pre></div></td></tr><tr><td>IsFamilyAndAssembly</td><td><div class=\"dni-plaintext\"><pre>False</pre></div></td></tr><tr><td>IsFamilyOrAssembly</td><td><div class=\"dni-plaintext\"><pre>False</pre></div></td></tr><tr><td>IsPrivate</td><td><div class=\"dni-plaintext\"><pre>False</pre></div></td></tr><tr><td>IsPublic</td><td><div class=\"dni-plaintext\"><pre>True</pre></div></td></tr><tr><td>IsConstructedGenericMethod</td><td><div class=\"dni-plaintext\"><pre>False</pre></div></td></tr><tr><td>CustomAttributes</td><td><i>(empty)</i></td></tr></tbody></table></div></details></td></tr><tr><td>Message</td><td><div class=\"dni-plaintext\"><pre>The input list was empty.</pre></div></td></tr><tr><td>Data</td><td><i>(empty)</i></td></tr><tr><td>InnerException</td><td><div class=\"dni-plaintext\"><pre>&lt;null&gt;</pre></div></td></tr><tr><td>HelpLink</td><td><div class=\"dni-plaintext\"><pre>&lt;null&gt;</pre></div></td></tr><tr><td>Source</td><td><div class=\"dni-plaintext\"><pre>FSharp.Core</pre></div></td></tr><tr><td>HResult</td><td><div class=\"dni-plaintext\"><pre>-2146233079</pre></div></td></tr><tr><td>StackTrace</td><td><div class=\"dni-plaintext\"><pre>   at Microsoft.FSharp.Collections.FSharpList`1.get_Tail() in D:\\a\\_work\\1\\s\\src\\FSharp.Core\\prim-types.fs:line 4141\r\n",
       "   at lambda_method423(Closure, FSharpList`1)\r\n",
       "   at Microsoft.DotNet.Interactive.Formatting.MemberAccessor`1.GetValueOrException(T instance) in D:\\a\\_work\\1\\s\\src\\Microsoft.DotNet.Interactive.Formatting\\MemberAccessor{T}.cs:line 64</pre></div></td></tr></tbody></table></div></details></td></tr><tr><td><i>(values)</i></td><td><i>(empty)</i></td></tr></tbody></table></div></details></td></tr><tr><td>Head</td><td><details class=\"dni-treeview\"><summary><span class=\"dni-code-hint\"><code>{ Start = 81u\\n  End = 94u\\n  Mapped = true }</code></span></summary><div><table><thead><tr></tr></thead><tbody><tr><td>Start</td><td><div class=\"dni-plaintext\"><pre>81</pre></div></td></tr><tr><td>End</td><td><div class=\"dni-plaintext\"><pre>94</pre></div></td></tr><tr><td>Mapped</td><td><div class=\"dni-plaintext\"><pre>True</pre></div></td></tr><tr><td>Mapped@</td><td><div class=\"dni-plaintext\"><pre>True</pre></div></td></tr></tbody></table></div></details></td></tr><tr><td>Tail</td><td><details class=\"dni-treeview\"><summary><span class=\"dni-code-hint\"><code>[  ]</code></span></summary><div><table><thead><tr></tr></thead><tbody><tr><td>HeadOrDefault</td><td><div class=\"dni-plaintext\"><pre>&lt;null&gt;</pre></div></td></tr><tr><td>TailOrNull</td><td><div class=\"dni-plaintext\"><pre>&lt;null&gt;</pre></div></td></tr><tr><td>Head</td><td><details class=\"dni-treeview\"><summary><span class=\"dni-code-hint\"><code>System.InvalidOperationException: The input list was empty.\\r\\n   at Microsoft.FSharp.Collections.FSharpList`1.get_Head() in D:\\a\\_work\\1\\s\\src\\FSharp.Core\\prim-types.fs:line 4136\\r\\n   at lambda_method422(Closure, FSharpList`1)\\r\\n   at Microsoft.DotNet.Interactive.Formatting.MemberAccessor`1.GetVa...</code></span></summary><div><table><thead><tr></tr></thead><tbody><tr><td>TargetSite</td><td><details class=\"dni-treeview\"><summary><span class=\"dni-code-hint\"><code>T get_Head()</code></span></summary><div><table><thead><tr></tr></thead><tbody><tr><td>Name</td><td><div class=\"dni-plaintext\"><pre>get_Head</pre></div></td></tr><tr><td>DeclaringType</td><td><span><a href=\"https://docs.microsoft.com/dotnet/api/microsoft.fsharp.collections.fsharplist-1?view=net-7.0\">Microsoft.FSharp.Collections.FSharpList&lt;T&gt;</a></span></td></tr><tr><td>ReflectedType</td><td><span><a href=\"https://docs.microsoft.com/dotnet/api/microsoft.fsharp.collections.fsharplist-1?view=net-7.0\">Microsoft.FSharp.Collections.FSharpList&lt;T&gt;</a></span></td></tr><tr><td>MemberType</td><td><span>Method</span></td></tr><tr><td>MetadataToken</td><td><div class=\"dni-plaintext\"><pre>100663766</pre></div></td></tr><tr><td>Module</td><td><details class=\"dni-treeview\"><summary><span class=\"dni-code-hint\"><code>FSharp.Core.dll</code></span></summary><div><table><thead><tr></tr></thead><tbody><tr><td>MDStreamVersion</td><td><div class=\"dni-plaintext\"><pre>131072</pre></div></td></tr><tr><td>FullyQualifiedName</td><td><div class=\"dni-plaintext\"><pre>C:\\Users\\Private\\.nuget\\packages\\microsoft.dotnet-interactive\\1.0.456201\\tools\\net7.0\\any\\FSharp.Core.dll</pre></div></td></tr><tr><td>ModuleVersionId</td><td><div class=\"dni-plaintext\"><pre>6dbe05a8-5c53-690c-c522-0b7a960bbd24</pre></div></td></tr><tr><td>MetadataToken</td><td><div class=\"dni-plaintext\"><pre>1</pre></div></td></tr><tr><td>ScopeName</td><td><div class=\"dni-plaintext\"><pre>FSharp.Core.dll</pre></div></td></tr><tr><td>Name</td><td><div class=\"dni-plaintext\"><pre>FSharp.Core.dll</pre></div></td></tr><tr><td>Assembly</td><td><details class=\"dni-treeview\"><summary><span class=\"dni-code-hint\"><code>FSharp.Core, Version=7.0.0.0, Culture=neutral, PublicKeyToken=b03f5f7f11d50a3a</code></span></summary><div><table><thead><tr></tr></thead><tbody><tr><td>CodeBase</td><td>file:///C:/Users/Private/.nuget/packages/microsoft.dotnet-interactive/1.0.456201/tools/net7.0/any/FSharp.Core.dll</td></tr><tr><td>FullName</td><td>FSharp.Core, Version=7.0.0.0, Culture=neutral, PublicKeyToken=b03f5f7f11d50a3a</td></tr><tr><td>EntryPoint</td><td><div class=\"dni-plaintext\"><pre>&lt;null&gt;</pre></div></td></tr><tr><td>DefinedTypes</td><td>[ Microsoft.FSharp.Core.Unit, Microsoft.FSharp.Core.SourceConstructFlags, Microsoft.FSharp.Core.CompilationRepresentationFlags, Microsoft.FSharp.Core.SealedAttribute, Microsoft.FSharp.Core.AbstractClassAttribute, Microsoft.FSharp.Core.EqualityConditionalOnAttribute, Microsoft.FSharp.Core.ComparisonConditionalOnAttribute, Microsoft.FSharp.Core.AllowNullLiteralAttribute, Microsoft.FSharp.Core.VolatileFieldAttribute, Microsoft.FSharp.Core.DefaultAugmentationAttribute, Microsoft.FSharp.Core.CLIEventAttribute, Microsoft.FSharp.Core.CLIMutableAttribute, Microsoft.FSharp.Core.AutoSerializableAttribute, Microsoft.FSharp.Core.DefaultValueAttribute, Microsoft.FSharp.Core.EntryPointAttribute, Microsoft.FSharp.Core.ReferenceEqualityAttribute, Microsoft.FSharp.Core.StructuralComparisonAttribute, Microsoft.FSharp.Core.StructuralEqualityAttribute, Microsoft.FSharp.Core.NoEqualityAttribute, Microsoft.FSharp.Core.CustomEqualityAttribute ... (2190 more) ]</td></tr><tr><td>IsCollectible</td><td>False</td></tr><tr><td>ManifestModule</td><td>FSharp.Core.dll</td></tr><tr><td>ReflectionOnly</td><td>False</td></tr><tr><td>Location</td><td>C:\\Users\\Private\\.nuget\\packages\\microsoft.dotnet-interactive\\1.0.456201\\tools\\net7.0\\any\\FSharp.Core.dll</td></tr><tr><td>ImageRuntimeVersion</td><td>v4.0.30319</td></tr><tr><td>GlobalAssemblyCache</td><td>False</td></tr><tr><td>HostContext</td><td>0</td></tr><tr><td>IsDynamic</td><td>False</td></tr><tr><td>ExportedTypes</td><td>[ Microsoft.FSharp.Core.Unit, Microsoft.FSharp.Core.SourceConstructFlags, Microsoft.FSharp.Core.CompilationRepresentationFlags, Microsoft.FSharp.Core.SealedAttribute, Microsoft.FSharp.Core.AbstractClassAttribute, Microsoft.FSharp.Core.EqualityConditionalOnAttribute, Microsoft.FSharp.Core.ComparisonConditionalOnAttribute, Microsoft.FSharp.Core.AllowNullLiteralAttribute, Microsoft.FSharp.Core.VolatileFieldAttribute, Microsoft.FSharp.Core.DefaultAugmentationAttribute, Microsoft.FSharp.Core.CLIEventAttribute, Microsoft.FSharp.Core.CLIMutableAttribute, Microsoft.FSharp.Core.AutoSerializableAttribute, Microsoft.FSharp.Core.DefaultValueAttribute, Microsoft.FSharp.Core.EntryPointAttribute, Microsoft.FSharp.Core.ReferenceEqualityAttribute, Microsoft.FSharp.Core.StructuralComparisonAttribute, Microsoft.FSharp.Core.StructuralEqualityAttribute, Microsoft.FSharp.Core.NoEqualityAttribute, Microsoft.FSharp.Core.CustomEqualityAttribute ... (214 more) ]</td></tr><tr><td>IsFullyTrusted</td><td>True</td></tr><tr><td>CustomAttributes</td><td>[ [Microsoft.FSharp.Core.FSharpInterfaceDataVersionAttribute((Int32)2, (Int32)0, (Int32)0)], [System.Runtime.Versioning.TargetFrameworkAttribute(\".NETStandard,Version=v2.1\", FrameworkDisplayName = \".NET Standard 2.1\")], [System.Reflection.AssemblyCompanyAttribute(\"Microsoft Corporation\")], [System.Reflection.AssemblyConfigurationAttribute(\"Release\")], [System.Reflection.AssemblyCopyrightAttribute(\"© Microsoft Corporation. All rights reserved.\")], [System.Reflection.AssemblyFileVersionAttribute(\"7.4.23.36405\")], [System.Reflection.AssemblyInformationalVersionAttribute(\"7.0.400-beta.23364.5+159a701477f5ca1e2d960e9bf79ce05769b3c671\")], [System.Reflection.AssemblyProductAttribute(\"FSharp.Core\")], [System.Reflection.AssemblyTitleAttribute(\"FSharp.Core\")], [System.Reflection.AssemblyMetadataAttribute(\"RepositoryUrl\", \"https://github.com/dotnet/fsharp\")], [System.Resources.NeutralResourcesLanguageAttribute(\"en-US\")], [System.Runtime.InteropServices.ComVisibleAttribute((Boolean)False)], [System.CLSCompliantAttribute((Boolean)True)], [System.Security.SecurityTransparentAttribute()], [Microsoft.FSharp.Core.AutoOpenAttribute(\"Microsoft.FSharp\")], [Microsoft.FSharp.Core.AutoOpenAttribute(\"Microsoft.FSharp.Core.LanguagePrimitives.IntrinsicOperators\")], [Microsoft.FSharp.Core.AutoOpenAttribute(\"Microsoft.FSharp.Core\")], [Microsoft.FSharp.Core.AutoOpenAttribute(\"Microsoft.FSharp.Collections\")], [Microsoft.FSharp.Core.AutoOpenAttribute(\"Microsoft.FSharp.Control\")], [Microsoft.FSharp.Core.AutoOpenAttribute(\"Microsoft.FSharp.Control.TaskBuilderExtensions.LowPriority\")] ... (5 more) ]</td></tr><tr><td>EscapedCodeBase</td><td>file:///C:/Users/Private/.nuget/packages/microsoft.dotnet-interactive/1.0.456201/tools/net7.0/any/FSharp.Core.dll</td></tr><tr><td>Modules</td><td>[ FSharp.Core.dll ]</td></tr><tr><td>SecurityRuleSet</td><td>None</td></tr></tbody></table></div></details></td></tr><tr><td>ModuleHandle</td><td><details class=\"dni-treeview\"><summary><span class=\"dni-code-hint\"><code>System.ModuleHandle</code></span></summary><div><table><thead><tr></tr></thead><tbody><tr><td>MDStreamVersion</td><td>131072</td></tr></tbody></table></div></details></td></tr><tr><td>CustomAttributes</td><td><i>(empty)</i></td></tr></tbody></table></div></details></td></tr><tr><td>IsSecurityCritical</td><td><div class=\"dni-plaintext\"><pre>True</pre></div></td></tr><tr><td>IsSecuritySafeCritical</td><td><div class=\"dni-plaintext\"><pre>False</pre></div></td></tr><tr><td>IsSecurityTransparent</td><td><div class=\"dni-plaintext\"><pre>False</pre></div></td></tr><tr><td>MethodHandle</td><td><details class=\"dni-treeview\"><summary><span class=\"dni-code-hint\"><code>System.RuntimeMethodHandle</code></span></summary><div><table><thead><tr></tr></thead><tbody><tr><td>Value</td><td><div class=\"dni-plaintext\"><pre>140703186481480</pre></div></td></tr></tbody></table></div></details></td></tr><tr><td>Attributes</td><td><span>PrivateScope, Public, HideBySig, SpecialName</span></td></tr><tr><td>CallingConvention</td><td><span>Standard, HasThis</span></td></tr><tr><td>ReturnType</td><td>T</td></tr><tr><td>ReturnTypeCustomAttributes</td><td><details class=\"dni-treeview\"><summary><span class=\"dni-code-hint\"><code>T</code></span></summary><div><table><thead><tr></tr></thead><tbody><tr><td>ParameterType</td><td>T</td></tr><tr><td>Name</td><td><div class=\"dni-plaintext\"><pre>&lt;null&gt;</pre></div></td></tr><tr><td>HasDefaultValue</td><td><div class=\"dni-plaintext\"><pre>True</pre></div></td></tr><tr><td>DefaultValue</td><td><div class=\"dni-plaintext\"><pre>&lt;null&gt;</pre></div></td></tr><tr><td>RawDefaultValue</td><td><div class=\"dni-plaintext\"><pre>&lt;null&gt;</pre></div></td></tr><tr><td>MetadataToken</td><td><div class=\"dni-plaintext\"><pre>134217728</pre></div></td></tr><tr><td>Attributes</td><td><span>None</span></td></tr><tr><td>Member</td><td><details class=\"dni-treeview\"><summary><span class=\"dni-code-hint\"><code>T get_Head()</code></span></summary><div><table><thead><tr></tr></thead><tbody><tr><td>Name</td><td>get_Head</td></tr><tr><td>DeclaringType</td><td>Microsoft.FSharp.Collections.FSharpList`1[T]</td></tr><tr><td>ReflectedType</td><td>Microsoft.FSharp.Collections.FSharpList`1[T]</td></tr><tr><td>MemberType</td><td>Method</td></tr><tr><td>MetadataToken</td><td>100663766</td></tr><tr><td>Module</td><td>FSharp.Core.dll</td></tr><tr><td>IsSecurityCritical</td><td>True</td></tr><tr><td>IsSecuritySafeCritical</td><td>False</td></tr><tr><td>IsSecurityTransparent</td><td>False</td></tr><tr><td>MethodHandle</td><td>System.RuntimeMethodHandle</td></tr><tr><td>Attributes</td><td>PrivateScope, Public, HideBySig, SpecialName</td></tr><tr><td>CallingConvention</td><td>Standard, HasThis</td></tr><tr><td>ReturnType</td><td>T</td></tr><tr><td>ReturnTypeCustomAttributes</td><td>T</td></tr><tr><td>ReturnParameter</td><td>T</td></tr><tr><td>IsCollectible</td><td>False</td></tr><tr><td>IsGenericMethod</td><td>False</td></tr><tr><td>IsGenericMethodDefinition</td><td>False</td></tr><tr><td>ContainsGenericParameters</td><td>True</td></tr><tr><td>MethodImplementationFlags</td><td>IL</td></tr><tr><td>IsAbstract</td><td>False</td></tr><tr><td>IsConstructor</td><td>False</td></tr><tr><td>IsFinal</td><td>False</td></tr><tr><td>IsHideBySig</td><td>True</td></tr><tr><td>IsSpecialName</td><td>True</td></tr><tr><td>IsStatic</td><td>False</td></tr><tr><td>IsVirtual</td><td>False</td></tr><tr><td>IsAssembly</td><td>False</td></tr><tr><td>IsFamily</td><td>False</td></tr><tr><td>IsFamilyAndAssembly</td><td>False</td></tr><tr><td>IsFamilyOrAssembly</td><td>False</td></tr><tr><td>IsPrivate</td><td>False</td></tr><tr><td>IsPublic</td><td>True</td></tr><tr><td>IsConstructedGenericMethod</td><td>False</td></tr><tr><td>CustomAttributes</td><td>[  ]</td></tr></tbody></table></div></details></td></tr><tr><td>Position</td><td><div class=\"dni-plaintext\"><pre>-1</pre></div></td></tr><tr><td>IsIn</td><td><div class=\"dni-plaintext\"><pre>False</pre></div></td></tr><tr><td>IsLcid</td><td><div class=\"dni-plaintext\"><pre>False</pre></div></td></tr><tr><td>IsOptional</td><td><div class=\"dni-plaintext\"><pre>False</pre></div></td></tr><tr><td>IsOut</td><td><div class=\"dni-plaintext\"><pre>False</pre></div></td></tr><tr><td>IsRetval</td><td><div class=\"dni-plaintext\"><pre>False</pre></div></td></tr><tr><td>CustomAttributes</td><td><i>(empty)</i></td></tr></tbody></table></div></details></td></tr><tr><td>ReturnParameter</td><td><details class=\"dni-treeview\"><summary><span class=\"dni-code-hint\"><code>T</code></span></summary><div><table><thead><tr></tr></thead><tbody><tr><td>ParameterType</td><td>T</td></tr><tr><td>Name</td><td><div class=\"dni-plaintext\"><pre>&lt;null&gt;</pre></div></td></tr><tr><td>HasDefaultValue</td><td><div class=\"dni-plaintext\"><pre>True</pre></div></td></tr><tr><td>DefaultValue</td><td><div class=\"dni-plaintext\"><pre>&lt;null&gt;</pre></div></td></tr><tr><td>RawDefaultValue</td><td><div class=\"dni-plaintext\"><pre>&lt;null&gt;</pre></div></td></tr><tr><td>MetadataToken</td><td><div class=\"dni-plaintext\"><pre>134217728</pre></div></td></tr><tr><td>Attributes</td><td><span>None</span></td></tr><tr><td>Member</td><td><details class=\"dni-treeview\"><summary><span class=\"dni-code-hint\"><code>T get_Head()</code></span></summary><div><table><thead><tr></tr></thead><tbody><tr><td>Name</td><td>get_Head</td></tr><tr><td>DeclaringType</td><td>Microsoft.FSharp.Collections.FSharpList`1[T]</td></tr><tr><td>ReflectedType</td><td>Microsoft.FSharp.Collections.FSharpList`1[T]</td></tr><tr><td>MemberType</td><td>Method</td></tr><tr><td>MetadataToken</td><td>100663766</td></tr><tr><td>Module</td><td>FSharp.Core.dll</td></tr><tr><td>IsSecurityCritical</td><td>True</td></tr><tr><td>IsSecuritySafeCritical</td><td>False</td></tr><tr><td>IsSecurityTransparent</td><td>False</td></tr><tr><td>MethodHandle</td><td>System.RuntimeMethodHandle</td></tr><tr><td>Attributes</td><td>PrivateScope, Public, HideBySig, SpecialName</td></tr><tr><td>CallingConvention</td><td>Standard, HasThis</td></tr><tr><td>ReturnType</td><td>T</td></tr><tr><td>ReturnTypeCustomAttributes</td><td>T</td></tr><tr><td>ReturnParameter</td><td>T</td></tr><tr><td>IsCollectible</td><td>False</td></tr><tr><td>IsGenericMethod</td><td>False</td></tr><tr><td>IsGenericMethodDefinition</td><td>False</td></tr><tr><td>ContainsGenericParameters</td><td>True</td></tr><tr><td>MethodImplementationFlags</td><td>IL</td></tr><tr><td>IsAbstract</td><td>False</td></tr><tr><td>IsConstructor</td><td>False</td></tr><tr><td>IsFinal</td><td>False</td></tr><tr><td>IsHideBySig</td><td>True</td></tr><tr><td>IsSpecialName</td><td>True</td></tr><tr><td>IsStatic</td><td>False</td></tr><tr><td>IsVirtual</td><td>False</td></tr><tr><td>IsAssembly</td><td>False</td></tr><tr><td>IsFamily</td><td>False</td></tr><tr><td>IsFamilyAndAssembly</td><td>False</td></tr><tr><td>IsFamilyOrAssembly</td><td>False</td></tr><tr><td>IsPrivate</td><td>False</td></tr><tr><td>IsPublic</td><td>True</td></tr><tr><td>IsConstructedGenericMethod</td><td>False</td></tr><tr><td>CustomAttributes</td><td>[  ]</td></tr></tbody></table></div></details></td></tr><tr><td>Position</td><td><div class=\"dni-plaintext\"><pre>-1</pre></div></td></tr><tr><td>IsIn</td><td><div class=\"dni-plaintext\"><pre>False</pre></div></td></tr><tr><td>IsLcid</td><td><div class=\"dni-plaintext\"><pre>False</pre></div></td></tr><tr><td>IsOptional</td><td><div class=\"dni-plaintext\"><pre>False</pre></div></td></tr><tr><td>IsOut</td><td><div class=\"dni-plaintext\"><pre>False</pre></div></td></tr><tr><td>IsRetval</td><td><div class=\"dni-plaintext\"><pre>False</pre></div></td></tr><tr><td>CustomAttributes</td><td><i>(empty)</i></td></tr></tbody></table></div></details></td></tr><tr><td>IsCollectible</td><td><div class=\"dni-plaintext\"><pre>False</pre></div></td></tr><tr><td>IsGenericMethod</td><td><div class=\"dni-plaintext\"><pre>False</pre></div></td></tr><tr><td>IsGenericMethodDefinition</td><td><div class=\"dni-plaintext\"><pre>False</pre></div></td></tr><tr><td>ContainsGenericParameters</td><td><div class=\"dni-plaintext\"><pre>True</pre></div></td></tr><tr><td>MethodImplementationFlags</td><td><span>IL</span></td></tr><tr><td>IsAbstract</td><td><div class=\"dni-plaintext\"><pre>False</pre></div></td></tr><tr><td>IsConstructor</td><td><div class=\"dni-plaintext\"><pre>False</pre></div></td></tr><tr><td>IsFinal</td><td><div class=\"dni-plaintext\"><pre>False</pre></div></td></tr><tr><td>IsHideBySig</td><td><div class=\"dni-plaintext\"><pre>True</pre></div></td></tr><tr><td>IsSpecialName</td><td><div class=\"dni-plaintext\"><pre>True</pre></div></td></tr><tr><td>IsStatic</td><td><div class=\"dni-plaintext\"><pre>False</pre></div></td></tr><tr><td>IsVirtual</td><td><div class=\"dni-plaintext\"><pre>False</pre></div></td></tr><tr><td>IsAssembly</td><td><div class=\"dni-plaintext\"><pre>False</pre></div></td></tr><tr><td>IsFamily</td><td><div class=\"dni-plaintext\"><pre>False</pre></div></td></tr><tr><td>IsFamilyAndAssembly</td><td><div class=\"dni-plaintext\"><pre>False</pre></div></td></tr><tr><td>IsFamilyOrAssembly</td><td><div class=\"dni-plaintext\"><pre>False</pre></div></td></tr><tr><td>IsPrivate</td><td><div class=\"dni-plaintext\"><pre>False</pre></div></td></tr><tr><td>IsPublic</td><td><div class=\"dni-plaintext\"><pre>True</pre></div></td></tr><tr><td>IsConstructedGenericMethod</td><td><div class=\"dni-plaintext\"><pre>False</pre></div></td></tr><tr><td>CustomAttributes</td><td><i>(empty)</i></td></tr></tbody></table></div></details></td></tr><tr><td>Message</td><td><div class=\"dni-plaintext\"><pre>The input list was empty.</pre></div></td></tr><tr><td>Data</td><td><i>(empty)</i></td></tr><tr><td>InnerException</td><td><div class=\"dni-plaintext\"><pre>&lt;null&gt;</pre></div></td></tr><tr><td>HelpLink</td><td><div class=\"dni-plaintext\"><pre>&lt;null&gt;</pre></div></td></tr><tr><td>Source</td><td><div class=\"dni-plaintext\"><pre>FSharp.Core</pre></div></td></tr><tr><td>HResult</td><td><div class=\"dni-plaintext\"><pre>-2146233079</pre></div></td></tr><tr><td>StackTrace</td><td><div class=\"dni-plaintext\"><pre>   at Microsoft.FSharp.Collections.FSharpList`1.get_Head() in D:\\a\\_work\\1\\s\\src\\FSharp.Core\\prim-types.fs:line 4136\r\n",
       "   at lambda_method422(Closure, FSharpList`1)\r\n",
       "   at Microsoft.DotNet.Interactive.Formatting.MemberAccessor`1.GetValueOrException(T instance) in D:\\a\\_work\\1\\s\\src\\Microsoft.DotNet.Interactive.Formatting\\MemberAccessor{T}.cs:line 64</pre></div></td></tr></tbody></table></div></details></td></tr><tr><td>Tail</td><td><details class=\"dni-treeview\"><summary><span class=\"dni-code-hint\"><code>System.InvalidOperationException: The input list was empty.\\r\\n   at Microsoft.FSharp.Collections.FSharpList`1.get_Tail() in D:\\a\\_work\\1\\s\\src\\FSharp.Core\\prim-types.fs:line 4141\\r\\n   at lambda_method423(Closure, FSharpList`1)\\r\\n   at Microsoft.DotNet.Interactive.Formatting.MemberAccessor`1.GetVa...</code></span></summary><div><table><thead><tr></tr></thead><tbody><tr><td>TargetSite</td><td><details class=\"dni-treeview\"><summary><span class=\"dni-code-hint\"><code>Microsoft.FSharp.Collections.FSharpList`1[T] get_Tail()</code></span></summary><div><table><thead><tr></tr></thead><tbody><tr><td>Name</td><td><div class=\"dni-plaintext\"><pre>get_Tail</pre></div></td></tr><tr><td>DeclaringType</td><td><span><a href=\"https://docs.microsoft.com/dotnet/api/microsoft.fsharp.collections.fsharplist-1?view=net-7.0\">Microsoft.FSharp.Collections.FSharpList&lt;T&gt;</a></span></td></tr><tr><td>ReflectedType</td><td><span><a href=\"https://docs.microsoft.com/dotnet/api/microsoft.fsharp.collections.fsharplist-1?view=net-7.0\">Microsoft.FSharp.Collections.FSharpList&lt;T&gt;</a></span></td></tr><tr><td>MemberType</td><td><span>Method</span></td></tr><tr><td>MetadataToken</td><td><div class=\"dni-plaintext\"><pre>100663767</pre></div></td></tr><tr><td>Module</td><td><details class=\"dni-treeview\"><summary><span class=\"dni-code-hint\"><code>FSharp.Core.dll</code></span></summary><div><table><thead><tr></tr></thead><tbody><tr><td>MDStreamVersion</td><td><div class=\"dni-plaintext\"><pre>131072</pre></div></td></tr><tr><td>FullyQualifiedName</td><td><div class=\"dni-plaintext\"><pre>C:\\Users\\Private\\.nuget\\packages\\microsoft.dotnet-interactive\\1.0.456201\\tools\\net7.0\\any\\FSharp.Core.dll</pre></div></td></tr><tr><td>ModuleVersionId</td><td><div class=\"dni-plaintext\"><pre>6dbe05a8-5c53-690c-c522-0b7a960bbd24</pre></div></td></tr><tr><td>MetadataToken</td><td><div class=\"dni-plaintext\"><pre>1</pre></div></td></tr><tr><td>ScopeName</td><td><div class=\"dni-plaintext\"><pre>FSharp.Core.dll</pre></div></td></tr><tr><td>Name</td><td><div class=\"dni-plaintext\"><pre>FSharp.Core.dll</pre></div></td></tr><tr><td>Assembly</td><td><details class=\"dni-treeview\"><summary><span class=\"dni-code-hint\"><code>FSharp.Core, Version=7.0.0.0, Culture=neutral, PublicKeyToken=b03f5f7f11d50a3a</code></span></summary><div><table><thead><tr></tr></thead><tbody><tr><td>CodeBase</td><td>file:///C:/Users/Private/.nuget/packages/microsoft.dotnet-interactive/1.0.456201/tools/net7.0/any/FSharp.Core.dll</td></tr><tr><td>FullName</td><td>FSharp.Core, Version=7.0.0.0, Culture=neutral, PublicKeyToken=b03f5f7f11d50a3a</td></tr><tr><td>EntryPoint</td><td><div class=\"dni-plaintext\"><pre>&lt;null&gt;</pre></div></td></tr><tr><td>DefinedTypes</td><td>[ Microsoft.FSharp.Core.Unit, Microsoft.FSharp.Core.SourceConstructFlags, Microsoft.FSharp.Core.CompilationRepresentationFlags, Microsoft.FSharp.Core.SealedAttribute, Microsoft.FSharp.Core.AbstractClassAttribute, Microsoft.FSharp.Core.EqualityConditionalOnAttribute, Microsoft.FSharp.Core.ComparisonConditionalOnAttribute, Microsoft.FSharp.Core.AllowNullLiteralAttribute, Microsoft.FSharp.Core.VolatileFieldAttribute, Microsoft.FSharp.Core.DefaultAugmentationAttribute, Microsoft.FSharp.Core.CLIEventAttribute, Microsoft.FSharp.Core.CLIMutableAttribute, Microsoft.FSharp.Core.AutoSerializableAttribute, Microsoft.FSharp.Core.DefaultValueAttribute, Microsoft.FSharp.Core.EntryPointAttribute, Microsoft.FSharp.Core.ReferenceEqualityAttribute, Microsoft.FSharp.Core.StructuralComparisonAttribute, Microsoft.FSharp.Core.StructuralEqualityAttribute, Microsoft.FSharp.Core.NoEqualityAttribute, Microsoft.FSharp.Core.CustomEqualityAttribute ... (2190 more) ]</td></tr><tr><td>IsCollectible</td><td>False</td></tr><tr><td>ManifestModule</td><td>FSharp.Core.dll</td></tr><tr><td>ReflectionOnly</td><td>False</td></tr><tr><td>Location</td><td>C:\\Users\\Private\\.nuget\\packages\\microsoft.dotnet-interactive\\1.0.456201\\tools\\net7.0\\any\\FSharp.Core.dll</td></tr><tr><td>ImageRuntimeVersion</td><td>v4.0.30319</td></tr><tr><td>GlobalAssemblyCache</td><td>False</td></tr><tr><td>HostContext</td><td>0</td></tr><tr><td>IsDynamic</td><td>False</td></tr><tr><td>ExportedTypes</td><td>[ Microsoft.FSharp.Core.Unit, Microsoft.FSharp.Core.SourceConstructFlags, Microsoft.FSharp.Core.CompilationRepresentationFlags, Microsoft.FSharp.Core.SealedAttribute, Microsoft.FSharp.Core.AbstractClassAttribute, Microsoft.FSharp.Core.EqualityConditionalOnAttribute, Microsoft.FSharp.Core.ComparisonConditionalOnAttribute, Microsoft.FSharp.Core.AllowNullLiteralAttribute, Microsoft.FSharp.Core.VolatileFieldAttribute, Microsoft.FSharp.Core.DefaultAugmentationAttribute, Microsoft.FSharp.Core.CLIEventAttribute, Microsoft.FSharp.Core.CLIMutableAttribute, Microsoft.FSharp.Core.AutoSerializableAttribute, Microsoft.FSharp.Core.DefaultValueAttribute, Microsoft.FSharp.Core.EntryPointAttribute, Microsoft.FSharp.Core.ReferenceEqualityAttribute, Microsoft.FSharp.Core.StructuralComparisonAttribute, Microsoft.FSharp.Core.StructuralEqualityAttribute, Microsoft.FSharp.Core.NoEqualityAttribute, Microsoft.FSharp.Core.CustomEqualityAttribute ... (214 more) ]</td></tr><tr><td>IsFullyTrusted</td><td>True</td></tr><tr><td>CustomAttributes</td><td>[ [Microsoft.FSharp.Core.FSharpInterfaceDataVersionAttribute((Int32)2, (Int32)0, (Int32)0)], [System.Runtime.Versioning.TargetFrameworkAttribute(\".NETStandard,Version=v2.1\", FrameworkDisplayName = \".NET Standard 2.1\")], [System.Reflection.AssemblyCompanyAttribute(\"Microsoft Corporation\")], [System.Reflection.AssemblyConfigurationAttribute(\"Release\")], [System.Reflection.AssemblyCopyrightAttribute(\"© Microsoft Corporation. All rights reserved.\")], [System.Reflection.AssemblyFileVersionAttribute(\"7.4.23.36405\")], [System.Reflection.AssemblyInformationalVersionAttribute(\"7.0.400-beta.23364.5+159a701477f5ca1e2d960e9bf79ce05769b3c671\")], [System.Reflection.AssemblyProductAttribute(\"FSharp.Core\")], [System.Reflection.AssemblyTitleAttribute(\"FSharp.Core\")], [System.Reflection.AssemblyMetadataAttribute(\"RepositoryUrl\", \"https://github.com/dotnet/fsharp\")], [System.Resources.NeutralResourcesLanguageAttribute(\"en-US\")], [System.Runtime.InteropServices.ComVisibleAttribute((Boolean)False)], [System.CLSCompliantAttribute((Boolean)True)], [System.Security.SecurityTransparentAttribute()], [Microsoft.FSharp.Core.AutoOpenAttribute(\"Microsoft.FSharp\")], [Microsoft.FSharp.Core.AutoOpenAttribute(\"Microsoft.FSharp.Core.LanguagePrimitives.IntrinsicOperators\")], [Microsoft.FSharp.Core.AutoOpenAttribute(\"Microsoft.FSharp.Core\")], [Microsoft.FSharp.Core.AutoOpenAttribute(\"Microsoft.FSharp.Collections\")], [Microsoft.FSharp.Core.AutoOpenAttribute(\"Microsoft.FSharp.Control\")], [Microsoft.FSharp.Core.AutoOpenAttribute(\"Microsoft.FSharp.Control.TaskBuilderExtensions.LowPriority\")] ... (5 more) ]</td></tr><tr><td>EscapedCodeBase</td><td>file:///C:/Users/Private/.nuget/packages/microsoft.dotnet-interactive/1.0.456201/tools/net7.0/any/FSharp.Core.dll</td></tr><tr><td>Modules</td><td>[ FSharp.Core.dll ]</td></tr><tr><td>SecurityRuleSet</td><td>None</td></tr></tbody></table></div></details></td></tr><tr><td>ModuleHandle</td><td><details class=\"dni-treeview\"><summary><span class=\"dni-code-hint\"><code>System.ModuleHandle</code></span></summary><div><table><thead><tr></tr></thead><tbody><tr><td>MDStreamVersion</td><td>131072</td></tr></tbody></table></div></details></td></tr><tr><td>CustomAttributes</td><td><i>(empty)</i></td></tr></tbody></table></div></details></td></tr><tr><td>IsSecurityCritical</td><td><div class=\"dni-plaintext\"><pre>True</pre></div></td></tr><tr><td>IsSecuritySafeCritical</td><td><div class=\"dni-plaintext\"><pre>False</pre></div></td></tr><tr><td>IsSecurityTransparent</td><td><div class=\"dni-plaintext\"><pre>False</pre></div></td></tr><tr><td>MethodHandle</td><td><details class=\"dni-treeview\"><summary><span class=\"dni-code-hint\"><code>System.RuntimeMethodHandle</code></span></summary><div><table><thead><tr></tr></thead><tbody><tr><td>Value</td><td><div class=\"dni-plaintext\"><pre>140703186481496</pre></div></td></tr></tbody></table></div></details></td></tr><tr><td>Attributes</td><td><span>PrivateScope, Public, HideBySig, SpecialName</span></td></tr><tr><td>CallingConvention</td><td><span>Standard, HasThis</span></td></tr><tr><td>ReturnType</td><td><span><a href=\"https://docs.microsoft.com/dotnet/api/microsoft.fsharp.collections.fsharplist-1?view=net-7.0\">Microsoft.FSharp.Collections.FSharpList&lt;T&gt;</a></span></td></tr><tr><td>ReturnTypeCustomAttributes</td><td><details class=\"dni-treeview\"><summary><span class=\"dni-code-hint\"><code>Microsoft.FSharp.Collections.FSharpList`1[T]</code></span></summary><div><table><thead><tr></tr></thead><tbody><tr><td>ParameterType</td><td><span><a href=\"https://docs.microsoft.com/dotnet/api/microsoft.fsharp.collections.fsharplist-1?view=net-7.0\">Microsoft.FSharp.Collections.FSharpList&lt;T&gt;</a></span></td></tr><tr><td>Name</td><td><div class=\"dni-plaintext\"><pre>&lt;null&gt;</pre></div></td></tr><tr><td>HasDefaultValue</td><td><div class=\"dni-plaintext\"><pre>True</pre></div></td></tr><tr><td>DefaultValue</td><td><div class=\"dni-plaintext\"><pre>&lt;null&gt;</pre></div></td></tr><tr><td>RawDefaultValue</td><td><div class=\"dni-plaintext\"><pre>&lt;null&gt;</pre></div></td></tr><tr><td>MetadataToken</td><td><div class=\"dni-plaintext\"><pre>134217728</pre></div></td></tr><tr><td>Attributes</td><td><span>None</span></td></tr><tr><td>Member</td><td><details class=\"dni-treeview\"><summary><span class=\"dni-code-hint\"><code>Microsoft.FSharp.Collections.FSharpList`1[T] get_Tail()</code></span></summary><div><table><thead><tr></tr></thead><tbody><tr><td>Name</td><td>get_Tail</td></tr><tr><td>DeclaringType</td><td>Microsoft.FSharp.Collections.FSharpList`1[T]</td></tr><tr><td>ReflectedType</td><td>Microsoft.FSharp.Collections.FSharpList`1[T]</td></tr><tr><td>MemberType</td><td>Method</td></tr><tr><td>MetadataToken</td><td>100663767</td></tr><tr><td>Module</td><td>FSharp.Core.dll</td></tr><tr><td>IsSecurityCritical</td><td>True</td></tr><tr><td>IsSecuritySafeCritical</td><td>False</td></tr><tr><td>IsSecurityTransparent</td><td>False</td></tr><tr><td>MethodHandle</td><td>System.RuntimeMethodHandle</td></tr><tr><td>Attributes</td><td>PrivateScope, Public, HideBySig, SpecialName</td></tr><tr><td>CallingConvention</td><td>Standard, HasThis</td></tr><tr><td>ReturnType</td><td>Microsoft.FSharp.Collections.FSharpList`1[T]</td></tr><tr><td>ReturnTypeCustomAttributes</td><td>Microsoft.FSharp.Collections.FSharpList`1[T]</td></tr><tr><td>ReturnParameter</td><td>Microsoft.FSharp.Collections.FSharpList`1[T]</td></tr><tr><td>IsCollectible</td><td>False</td></tr><tr><td>IsGenericMethod</td><td>False</td></tr><tr><td>IsGenericMethodDefinition</td><td>False</td></tr><tr><td>ContainsGenericParameters</td><td>True</td></tr><tr><td>MethodImplementationFlags</td><td>IL</td></tr><tr><td>IsAbstract</td><td>False</td></tr><tr><td>IsConstructor</td><td>False</td></tr><tr><td>IsFinal</td><td>False</td></tr><tr><td>IsHideBySig</td><td>True</td></tr><tr><td>IsSpecialName</td><td>True</td></tr><tr><td>IsStatic</td><td>False</td></tr><tr><td>IsVirtual</td><td>False</td></tr><tr><td>IsAssembly</td><td>False</td></tr><tr><td>IsFamily</td><td>False</td></tr><tr><td>IsFamilyAndAssembly</td><td>False</td></tr><tr><td>IsFamilyOrAssembly</td><td>False</td></tr><tr><td>IsPrivate</td><td>False</td></tr><tr><td>IsPublic</td><td>True</td></tr><tr><td>IsConstructedGenericMethod</td><td>False</td></tr><tr><td>CustomAttributes</td><td>[  ]</td></tr></tbody></table></div></details></td></tr><tr><td>Position</td><td><div class=\"dni-plaintext\"><pre>-1</pre></div></td></tr><tr><td>IsIn</td><td><div class=\"dni-plaintext\"><pre>False</pre></div></td></tr><tr><td>IsLcid</td><td><div class=\"dni-plaintext\"><pre>False</pre></div></td></tr><tr><td>IsOptional</td><td><div class=\"dni-plaintext\"><pre>False</pre></div></td></tr><tr><td>IsOut</td><td><div class=\"dni-plaintext\"><pre>False</pre></div></td></tr><tr><td>IsRetval</td><td><div class=\"dni-plaintext\"><pre>False</pre></div></td></tr><tr><td>CustomAttributes</td><td><i>(empty)</i></td></tr></tbody></table></div></details></td></tr><tr><td>ReturnParameter</td><td><details class=\"dni-treeview\"><summary><span class=\"dni-code-hint\"><code>Microsoft.FSharp.Collections.FSharpList`1[T]</code></span></summary><div><table><thead><tr></tr></thead><tbody><tr><td>ParameterType</td><td><span><a href=\"https://docs.microsoft.com/dotnet/api/microsoft.fsharp.collections.fsharplist-1?view=net-7.0\">Microsoft.FSharp.Collections.FSharpList&lt;T&gt;</a></span></td></tr><tr><td>Name</td><td><div class=\"dni-plaintext\"><pre>&lt;null&gt;</pre></div></td></tr><tr><td>HasDefaultValue</td><td><div class=\"dni-plaintext\"><pre>True</pre></div></td></tr><tr><td>DefaultValue</td><td><div class=\"dni-plaintext\"><pre>&lt;null&gt;</pre></div></td></tr><tr><td>RawDefaultValue</td><td><div class=\"dni-plaintext\"><pre>&lt;null&gt;</pre></div></td></tr><tr><td>MetadataToken</td><td><div class=\"dni-plaintext\"><pre>134217728</pre></div></td></tr><tr><td>Attributes</td><td><span>None</span></td></tr><tr><td>Member</td><td><details class=\"dni-treeview\"><summary><span class=\"dni-code-hint\"><code>Microsoft.FSharp.Collections.FSharpList`1[T] get_Tail()</code></span></summary><div><table><thead><tr></tr></thead><tbody><tr><td>Name</td><td>get_Tail</td></tr><tr><td>DeclaringType</td><td>Microsoft.FSharp.Collections.FSharpList`1[T]</td></tr><tr><td>ReflectedType</td><td>Microsoft.FSharp.Collections.FSharpList`1[T]</td></tr><tr><td>MemberType</td><td>Method</td></tr><tr><td>MetadataToken</td><td>100663767</td></tr><tr><td>Module</td><td>FSharp.Core.dll</td></tr><tr><td>IsSecurityCritical</td><td>True</td></tr><tr><td>IsSecuritySafeCritical</td><td>False</td></tr><tr><td>IsSecurityTransparent</td><td>False</td></tr><tr><td>MethodHandle</td><td>System.RuntimeMethodHandle</td></tr><tr><td>Attributes</td><td>PrivateScope, Public, HideBySig, SpecialName</td></tr><tr><td>CallingConvention</td><td>Standard, HasThis</td></tr><tr><td>ReturnType</td><td>Microsoft.FSharp.Collections.FSharpList`1[T]</td></tr><tr><td>ReturnTypeCustomAttributes</td><td>Microsoft.FSharp.Collections.FSharpList`1[T]</td></tr><tr><td>ReturnParameter</td><td>Microsoft.FSharp.Collections.FSharpList`1[T]</td></tr><tr><td>IsCollectible</td><td>False</td></tr><tr><td>IsGenericMethod</td><td>False</td></tr><tr><td>IsGenericMethodDefinition</td><td>False</td></tr><tr><td>ContainsGenericParameters</td><td>True</td></tr><tr><td>MethodImplementationFlags</td><td>IL</td></tr><tr><td>IsAbstract</td><td>False</td></tr><tr><td>IsConstructor</td><td>False</td></tr><tr><td>IsFinal</td><td>False</td></tr><tr><td>IsHideBySig</td><td>True</td></tr><tr><td>IsSpecialName</td><td>True</td></tr><tr><td>IsStatic</td><td>False</td></tr><tr><td>IsVirtual</td><td>False</td></tr><tr><td>IsAssembly</td><td>False</td></tr><tr><td>IsFamily</td><td>False</td></tr><tr><td>IsFamilyAndAssembly</td><td>False</td></tr><tr><td>IsFamilyOrAssembly</td><td>False</td></tr><tr><td>IsPrivate</td><td>False</td></tr><tr><td>IsPublic</td><td>True</td></tr><tr><td>IsConstructedGenericMethod</td><td>False</td></tr><tr><td>CustomAttributes</td><td>[  ]</td></tr></tbody></table></div></details></td></tr><tr><td>Position</td><td><div class=\"dni-plaintext\"><pre>-1</pre></div></td></tr><tr><td>IsIn</td><td><div class=\"dni-plaintext\"><pre>False</pre></div></td></tr><tr><td>IsLcid</td><td><div class=\"dni-plaintext\"><pre>False</pre></div></td></tr><tr><td>IsOptional</td><td><div class=\"dni-plaintext\"><pre>False</pre></div></td></tr><tr><td>IsOut</td><td><div class=\"dni-plaintext\"><pre>False</pre></div></td></tr><tr><td>IsRetval</td><td><div class=\"dni-plaintext\"><pre>False</pre></div></td></tr><tr><td>CustomAttributes</td><td><i>(empty)</i></td></tr></tbody></table></div></details></td></tr><tr><td>IsCollectible</td><td><div class=\"dni-plaintext\"><pre>False</pre></div></td></tr><tr><td>IsGenericMethod</td><td><div class=\"dni-plaintext\"><pre>False</pre></div></td></tr><tr><td>IsGenericMethodDefinition</td><td><div class=\"dni-plaintext\"><pre>False</pre></div></td></tr><tr><td>ContainsGenericParameters</td><td><div class=\"dni-plaintext\"><pre>True</pre></div></td></tr><tr><td>MethodImplementationFlags</td><td><span>IL</span></td></tr><tr><td>IsAbstract</td><td><div class=\"dni-plaintext\"><pre>False</pre></div></td></tr><tr><td>IsConstructor</td><td><div class=\"dni-plaintext\"><pre>False</pre></div></td></tr><tr><td>IsFinal</td><td><div class=\"dni-plaintext\"><pre>False</pre></div></td></tr><tr><td>IsHideBySig</td><td><div class=\"dni-plaintext\"><pre>True</pre></div></td></tr><tr><td>IsSpecialName</td><td><div class=\"dni-plaintext\"><pre>True</pre></div></td></tr><tr><td>IsStatic</td><td><div class=\"dni-plaintext\"><pre>False</pre></div></td></tr><tr><td>IsVirtual</td><td><div class=\"dni-plaintext\"><pre>False</pre></div></td></tr><tr><td>IsAssembly</td><td><div class=\"dni-plaintext\"><pre>False</pre></div></td></tr><tr><td>IsFamily</td><td><div class=\"dni-plaintext\"><pre>False</pre></div></td></tr><tr><td>IsFamilyAndAssembly</td><td><div class=\"dni-plaintext\"><pre>False</pre></div></td></tr><tr><td>IsFamilyOrAssembly</td><td><div class=\"dni-plaintext\"><pre>False</pre></div></td></tr><tr><td>IsPrivate</td><td><div class=\"dni-plaintext\"><pre>False</pre></div></td></tr><tr><td>IsPublic</td><td><div class=\"dni-plaintext\"><pre>True</pre></div></td></tr><tr><td>IsConstructedGenericMethod</td><td><div class=\"dni-plaintext\"><pre>False</pre></div></td></tr><tr><td>CustomAttributes</td><td><i>(empty)</i></td></tr></tbody></table></div></details></td></tr><tr><td>Message</td><td><div class=\"dni-plaintext\"><pre>The input list was empty.</pre></div></td></tr><tr><td>Data</td><td><i>(empty)</i></td></tr><tr><td>InnerException</td><td><div class=\"dni-plaintext\"><pre>&lt;null&gt;</pre></div></td></tr><tr><td>HelpLink</td><td><div class=\"dni-plaintext\"><pre>&lt;null&gt;</pre></div></td></tr><tr><td>Source</td><td><div class=\"dni-plaintext\"><pre>FSharp.Core</pre></div></td></tr><tr><td>HResult</td><td><div class=\"dni-plaintext\"><pre>-2146233079</pre></div></td></tr><tr><td>StackTrace</td><td><div class=\"dni-plaintext\"><pre>   at Microsoft.FSharp.Collections.FSharpList`1.get_Tail() in D:\\a\\_work\\1\\s\\src\\FSharp.Core\\prim-types.fs:line 4141\r\n",
       "   at lambda_method423(Closure, FSharpList`1)\r\n",
       "   at Microsoft.DotNet.Interactive.Formatting.MemberAccessor`1.GetValueOrException(T instance) in D:\\a\\_work\\1\\s\\src\\Microsoft.DotNet.Interactive.Formatting\\MemberAccessor{T}.cs:line 64</pre></div></td></tr></tbody></table></div></details></td></tr><tr><td><i>(values)</i></td><td><i>(empty)</i></td></tr></tbody></table></div></details></td></tr><tr><td><i>(values)</i></td><td><table><thead><tr><th><i>index</i></th><th>value</th></tr></thead><tbody><tr><td>0</td><td><details class=\"dni-treeview\"><summary><span class=\"dni-code-hint\"><code>{ Start = 81u\\n  End = 94u\\n  Mapped = true }</code></span></summary><div><table><thead><tr></tr></thead><tbody><tr><td>Start</td><td><div class=\"dni-plaintext\"><pre>81</pre></div></td></tr><tr><td>End</td><td><div class=\"dni-plaintext\"><pre>94</pre></div></td></tr><tr><td>Mapped</td><td><div class=\"dni-plaintext\"><pre>True</pre></div></td></tr><tr><td>Mapped@</td><td><div class=\"dni-plaintext\"><pre>True</pre></div></td></tr></tbody></table></div></details></td></tr></tbody></table></td></tr></tbody></table></div></details><style>\r\n",
       ".dni-code-hint {\r\n",
       "    font-style: italic;\r\n",
       "    overflow: hidden;\r\n",
       "    white-space: nowrap;\r\n",
       "}\r\n",
       ".dni-treeview {\r\n",
       "    white-space: nowrap;\r\n",
       "}\r\n",
       ".dni-treeview td {\r\n",
       "    vertical-align: top;\r\n",
       "    text-align: start;\r\n",
       "}\r\n",
       "details.dni-treeview {\r\n",
       "    padding-left: 1em;\r\n",
       "}\r\n",
       "table td {\r\n",
       "    text-align: start;\r\n",
       "}\r\n",
       "table tr { \r\n",
       "    vertical-align: top; \r\n",
       "    margin: 0em 0px;\r\n",
       "}\r\n",
       "table tr td pre \r\n",
       "{ \r\n",
       "    vertical-align: top !important; \r\n",
       "    margin: 0em 0px !important;\r\n",
       "} \r\n",
       "table th {\r\n",
       "    text-align: start;\r\n",
       "}\r\n",
       "</style>"
      ]
     },
     "metadata": {},
     "output_type": "display_data"
    }
   ],
   "source": [
    "let range = testRanges[0]\n",
    "let mapping = testblocks[0].Map[1]\n",
    "next mapping range"
   ]
  },
  {
   "cell_type": "code",
   "execution_count": 125,
   "metadata": {
    "dotnet_interactive": {
     "language": "fsharp"
    },
    "polyglot_notebook": {
     "kernelName": "fsharp"
    }
   },
   "outputs": [],
   "source": [
    "let mapThroughBlock next (block: ThingMap) (range: Range) = \n",
    "    let rec mapThroughLayers (mappings : Mapping list) (ranges: Range list) =\n",
    "        match mappings with \n",
    "        | [] -> ranges \n",
    "        | mapping::rest -> \n",
    "            let newRanges =\n",
    "                ranges \n",
    "                |> List.map (next mapping) \n",
    "                |> List.concat\n",
    "            mapThroughLayers rest newRanges\n",
    "    mapThroughLayers block.Map [range]"
   ]
  },
  {
   "cell_type": "code",
   "execution_count": 171,
   "metadata": {
    "dotnet_interactive": {
     "language": "fsharp"
    },
    "polyglot_notebook": {
     "kernelName": "fsharp"
    }
   },
   "outputs": [
    {
     "data": {
      "text/html": [
       "<details open=\"open\" class=\"dni-treeview\"><summary><span class=\"dni-code-hint\"><code>[ { Start = 81u\n",
       "  End = 94u\n",
       "  Mapped = true } ]</code></span></summary><div><table><thead><tr></tr></thead><tbody><tr><td>HeadOrDefault</td><td><details class=\"dni-treeview\"><summary><span class=\"dni-code-hint\"><code>{ Start = 81u\\n  End = 94u\\n  Mapped = true }</code></span></summary><div><table><thead><tr></tr></thead><tbody><tr><td>Start</td><td><div class=\"dni-plaintext\"><pre>81</pre></div></td></tr><tr><td>End</td><td><div class=\"dni-plaintext\"><pre>94</pre></div></td></tr><tr><td>Mapped</td><td><div class=\"dni-plaintext\"><pre>True</pre></div></td></tr><tr><td>Mapped@</td><td><div class=\"dni-plaintext\"><pre>True</pre></div></td></tr></tbody></table></div></details></td></tr><tr><td>TailOrNull</td><td><details class=\"dni-treeview\"><summary><span class=\"dni-code-hint\"><code>[  ]</code></span></summary><div><table><thead><tr></tr></thead><tbody><tr><td>HeadOrDefault</td><td><div class=\"dni-plaintext\"><pre>&lt;null&gt;</pre></div></td></tr><tr><td>TailOrNull</td><td><div class=\"dni-plaintext\"><pre>&lt;null&gt;</pre></div></td></tr><tr><td>Head</td><td><details class=\"dni-treeview\"><summary><span class=\"dni-code-hint\"><code>System.InvalidOperationException: The input list was empty.\\r\\n   at Microsoft.FSharp.Collections.FSharpList`1.get_Head() in D:\\a\\_work\\1\\s\\src\\FSharp.Core\\prim-types.fs:line 4136\\r\\n   at lambda_method422(Closure, FSharpList`1)\\r\\n   at Microsoft.DotNet.Interactive.Formatting.MemberAccessor`1.GetVa...</code></span></summary><div><table><thead><tr></tr></thead><tbody><tr><td>TargetSite</td><td><details class=\"dni-treeview\"><summary><span class=\"dni-code-hint\"><code>T get_Head()</code></span></summary><div><table><thead><tr></tr></thead><tbody><tr><td>Name</td><td><div class=\"dni-plaintext\"><pre>get_Head</pre></div></td></tr><tr><td>DeclaringType</td><td><span><a href=\"https://docs.microsoft.com/dotnet/api/microsoft.fsharp.collections.fsharplist-1?view=net-7.0\">Microsoft.FSharp.Collections.FSharpList&lt;T&gt;</a></span></td></tr><tr><td>ReflectedType</td><td><span><a href=\"https://docs.microsoft.com/dotnet/api/microsoft.fsharp.collections.fsharplist-1?view=net-7.0\">Microsoft.FSharp.Collections.FSharpList&lt;T&gt;</a></span></td></tr><tr><td>MemberType</td><td><span>Method</span></td></tr><tr><td>MetadataToken</td><td><div class=\"dni-plaintext\"><pre>100663766</pre></div></td></tr><tr><td>Module</td><td><details class=\"dni-treeview\"><summary><span class=\"dni-code-hint\"><code>FSharp.Core.dll</code></span></summary><div><table><thead><tr></tr></thead><tbody><tr><td>MDStreamVersion</td><td><div class=\"dni-plaintext\"><pre>131072</pre></div></td></tr><tr><td>FullyQualifiedName</td><td><div class=\"dni-plaintext\"><pre>C:\\Users\\Private\\.nuget\\packages\\microsoft.dotnet-interactive\\1.0.456201\\tools\\net7.0\\any\\FSharp.Core.dll</pre></div></td></tr><tr><td>ModuleVersionId</td><td><div class=\"dni-plaintext\"><pre>6dbe05a8-5c53-690c-c522-0b7a960bbd24</pre></div></td></tr><tr><td>MetadataToken</td><td><div class=\"dni-plaintext\"><pre>1</pre></div></td></tr><tr><td>ScopeName</td><td><div class=\"dni-plaintext\"><pre>FSharp.Core.dll</pre></div></td></tr><tr><td>Name</td><td><div class=\"dni-plaintext\"><pre>FSharp.Core.dll</pre></div></td></tr><tr><td>Assembly</td><td><details class=\"dni-treeview\"><summary><span class=\"dni-code-hint\"><code>FSharp.Core, Version=7.0.0.0, Culture=neutral, PublicKeyToken=b03f5f7f11d50a3a</code></span></summary><div><table><thead><tr></tr></thead><tbody><tr><td>CodeBase</td><td>file:///C:/Users/Private/.nuget/packages/microsoft.dotnet-interactive/1.0.456201/tools/net7.0/any/FSharp.Core.dll</td></tr><tr><td>FullName</td><td>FSharp.Core, Version=7.0.0.0, Culture=neutral, PublicKeyToken=b03f5f7f11d50a3a</td></tr><tr><td>EntryPoint</td><td><div class=\"dni-plaintext\"><pre>&lt;null&gt;</pre></div></td></tr><tr><td>DefinedTypes</td><td>[ Microsoft.FSharp.Core.Unit, Microsoft.FSharp.Core.SourceConstructFlags, Microsoft.FSharp.Core.CompilationRepresentationFlags, Microsoft.FSharp.Core.SealedAttribute, Microsoft.FSharp.Core.AbstractClassAttribute, Microsoft.FSharp.Core.EqualityConditionalOnAttribute, Microsoft.FSharp.Core.ComparisonConditionalOnAttribute, Microsoft.FSharp.Core.AllowNullLiteralAttribute, Microsoft.FSharp.Core.VolatileFieldAttribute, Microsoft.FSharp.Core.DefaultAugmentationAttribute, Microsoft.FSharp.Core.CLIEventAttribute, Microsoft.FSharp.Core.CLIMutableAttribute, Microsoft.FSharp.Core.AutoSerializableAttribute, Microsoft.FSharp.Core.DefaultValueAttribute, Microsoft.FSharp.Core.EntryPointAttribute, Microsoft.FSharp.Core.ReferenceEqualityAttribute, Microsoft.FSharp.Core.StructuralComparisonAttribute, Microsoft.FSharp.Core.StructuralEqualityAttribute, Microsoft.FSharp.Core.NoEqualityAttribute, Microsoft.FSharp.Core.CustomEqualityAttribute ... (2190 more) ]</td></tr><tr><td>IsCollectible</td><td>False</td></tr><tr><td>ManifestModule</td><td>FSharp.Core.dll</td></tr><tr><td>ReflectionOnly</td><td>False</td></tr><tr><td>Location</td><td>C:\\Users\\Private\\.nuget\\packages\\microsoft.dotnet-interactive\\1.0.456201\\tools\\net7.0\\any\\FSharp.Core.dll</td></tr><tr><td>ImageRuntimeVersion</td><td>v4.0.30319</td></tr><tr><td>GlobalAssemblyCache</td><td>False</td></tr><tr><td>HostContext</td><td>0</td></tr><tr><td>IsDynamic</td><td>False</td></tr><tr><td>ExportedTypes</td><td>[ Microsoft.FSharp.Core.Unit, Microsoft.FSharp.Core.SourceConstructFlags, Microsoft.FSharp.Core.CompilationRepresentationFlags, Microsoft.FSharp.Core.SealedAttribute, Microsoft.FSharp.Core.AbstractClassAttribute, Microsoft.FSharp.Core.EqualityConditionalOnAttribute, Microsoft.FSharp.Core.ComparisonConditionalOnAttribute, Microsoft.FSharp.Core.AllowNullLiteralAttribute, Microsoft.FSharp.Core.VolatileFieldAttribute, Microsoft.FSharp.Core.DefaultAugmentationAttribute, Microsoft.FSharp.Core.CLIEventAttribute, Microsoft.FSharp.Core.CLIMutableAttribute, Microsoft.FSharp.Core.AutoSerializableAttribute, Microsoft.FSharp.Core.DefaultValueAttribute, Microsoft.FSharp.Core.EntryPointAttribute, Microsoft.FSharp.Core.ReferenceEqualityAttribute, Microsoft.FSharp.Core.StructuralComparisonAttribute, Microsoft.FSharp.Core.StructuralEqualityAttribute, Microsoft.FSharp.Core.NoEqualityAttribute, Microsoft.FSharp.Core.CustomEqualityAttribute ... (214 more) ]</td></tr><tr><td>IsFullyTrusted</td><td>True</td></tr><tr><td>CustomAttributes</td><td>[ [Microsoft.FSharp.Core.FSharpInterfaceDataVersionAttribute((Int32)2, (Int32)0, (Int32)0)], [System.Runtime.Versioning.TargetFrameworkAttribute(\".NETStandard,Version=v2.1\", FrameworkDisplayName = \".NET Standard 2.1\")], [System.Reflection.AssemblyCompanyAttribute(\"Microsoft Corporation\")], [System.Reflection.AssemblyConfigurationAttribute(\"Release\")], [System.Reflection.AssemblyCopyrightAttribute(\"© Microsoft Corporation. All rights reserved.\")], [System.Reflection.AssemblyFileVersionAttribute(\"7.4.23.36405\")], [System.Reflection.AssemblyInformationalVersionAttribute(\"7.0.400-beta.23364.5+159a701477f5ca1e2d960e9bf79ce05769b3c671\")], [System.Reflection.AssemblyProductAttribute(\"FSharp.Core\")], [System.Reflection.AssemblyTitleAttribute(\"FSharp.Core\")], [System.Reflection.AssemblyMetadataAttribute(\"RepositoryUrl\", \"https://github.com/dotnet/fsharp\")], [System.Resources.NeutralResourcesLanguageAttribute(\"en-US\")], [System.Runtime.InteropServices.ComVisibleAttribute((Boolean)False)], [System.CLSCompliantAttribute((Boolean)True)], [System.Security.SecurityTransparentAttribute()], [Microsoft.FSharp.Core.AutoOpenAttribute(\"Microsoft.FSharp\")], [Microsoft.FSharp.Core.AutoOpenAttribute(\"Microsoft.FSharp.Core.LanguagePrimitives.IntrinsicOperators\")], [Microsoft.FSharp.Core.AutoOpenAttribute(\"Microsoft.FSharp.Core\")], [Microsoft.FSharp.Core.AutoOpenAttribute(\"Microsoft.FSharp.Collections\")], [Microsoft.FSharp.Core.AutoOpenAttribute(\"Microsoft.FSharp.Control\")], [Microsoft.FSharp.Core.AutoOpenAttribute(\"Microsoft.FSharp.Control.TaskBuilderExtensions.LowPriority\")] ... (5 more) ]</td></tr><tr><td>EscapedCodeBase</td><td>file:///C:/Users/Private/.nuget/packages/microsoft.dotnet-interactive/1.0.456201/tools/net7.0/any/FSharp.Core.dll</td></tr><tr><td>Modules</td><td>[ FSharp.Core.dll ]</td></tr><tr><td>SecurityRuleSet</td><td>None</td></tr></tbody></table></div></details></td></tr><tr><td>ModuleHandle</td><td><details class=\"dni-treeview\"><summary><span class=\"dni-code-hint\"><code>System.ModuleHandle</code></span></summary><div><table><thead><tr></tr></thead><tbody><tr><td>MDStreamVersion</td><td>131072</td></tr></tbody></table></div></details></td></tr><tr><td>CustomAttributes</td><td><i>(empty)</i></td></tr></tbody></table></div></details></td></tr><tr><td>IsSecurityCritical</td><td><div class=\"dni-plaintext\"><pre>True</pre></div></td></tr><tr><td>IsSecuritySafeCritical</td><td><div class=\"dni-plaintext\"><pre>False</pre></div></td></tr><tr><td>IsSecurityTransparent</td><td><div class=\"dni-plaintext\"><pre>False</pre></div></td></tr><tr><td>MethodHandle</td><td><details class=\"dni-treeview\"><summary><span class=\"dni-code-hint\"><code>System.RuntimeMethodHandle</code></span></summary><div><table><thead><tr></tr></thead><tbody><tr><td>Value</td><td><div class=\"dni-plaintext\"><pre>140703186481480</pre></div></td></tr></tbody></table></div></details></td></tr><tr><td>Attributes</td><td><span>PrivateScope, Public, HideBySig, SpecialName</span></td></tr><tr><td>CallingConvention</td><td><span>Standard, HasThis</span></td></tr><tr><td>ReturnType</td><td>T</td></tr><tr><td>ReturnTypeCustomAttributes</td><td><details class=\"dni-treeview\"><summary><span class=\"dni-code-hint\"><code>T</code></span></summary><div><table><thead><tr></tr></thead><tbody><tr><td>ParameterType</td><td>T</td></tr><tr><td>Name</td><td><div class=\"dni-plaintext\"><pre>&lt;null&gt;</pre></div></td></tr><tr><td>HasDefaultValue</td><td><div class=\"dni-plaintext\"><pre>True</pre></div></td></tr><tr><td>DefaultValue</td><td><div class=\"dni-plaintext\"><pre>&lt;null&gt;</pre></div></td></tr><tr><td>RawDefaultValue</td><td><div class=\"dni-plaintext\"><pre>&lt;null&gt;</pre></div></td></tr><tr><td>MetadataToken</td><td><div class=\"dni-plaintext\"><pre>134217728</pre></div></td></tr><tr><td>Attributes</td><td><span>None</span></td></tr><tr><td>Member</td><td><details class=\"dni-treeview\"><summary><span class=\"dni-code-hint\"><code>T get_Head()</code></span></summary><div><table><thead><tr></tr></thead><tbody><tr><td>Name</td><td>get_Head</td></tr><tr><td>DeclaringType</td><td>Microsoft.FSharp.Collections.FSharpList`1[T]</td></tr><tr><td>ReflectedType</td><td>Microsoft.FSharp.Collections.FSharpList`1[T]</td></tr><tr><td>MemberType</td><td>Method</td></tr><tr><td>MetadataToken</td><td>100663766</td></tr><tr><td>Module</td><td>FSharp.Core.dll</td></tr><tr><td>IsSecurityCritical</td><td>True</td></tr><tr><td>IsSecuritySafeCritical</td><td>False</td></tr><tr><td>IsSecurityTransparent</td><td>False</td></tr><tr><td>MethodHandle</td><td>System.RuntimeMethodHandle</td></tr><tr><td>Attributes</td><td>PrivateScope, Public, HideBySig, SpecialName</td></tr><tr><td>CallingConvention</td><td>Standard, HasThis</td></tr><tr><td>ReturnType</td><td>T</td></tr><tr><td>ReturnTypeCustomAttributes</td><td>T</td></tr><tr><td>ReturnParameter</td><td>T</td></tr><tr><td>IsCollectible</td><td>False</td></tr><tr><td>IsGenericMethod</td><td>False</td></tr><tr><td>IsGenericMethodDefinition</td><td>False</td></tr><tr><td>ContainsGenericParameters</td><td>True</td></tr><tr><td>MethodImplementationFlags</td><td>IL</td></tr><tr><td>IsAbstract</td><td>False</td></tr><tr><td>IsConstructor</td><td>False</td></tr><tr><td>IsFinal</td><td>False</td></tr><tr><td>IsHideBySig</td><td>True</td></tr><tr><td>IsSpecialName</td><td>True</td></tr><tr><td>IsStatic</td><td>False</td></tr><tr><td>IsVirtual</td><td>False</td></tr><tr><td>IsAssembly</td><td>False</td></tr><tr><td>IsFamily</td><td>False</td></tr><tr><td>IsFamilyAndAssembly</td><td>False</td></tr><tr><td>IsFamilyOrAssembly</td><td>False</td></tr><tr><td>IsPrivate</td><td>False</td></tr><tr><td>IsPublic</td><td>True</td></tr><tr><td>IsConstructedGenericMethod</td><td>False</td></tr><tr><td>CustomAttributes</td><td>[  ]</td></tr></tbody></table></div></details></td></tr><tr><td>Position</td><td><div class=\"dni-plaintext\"><pre>-1</pre></div></td></tr><tr><td>IsIn</td><td><div class=\"dni-plaintext\"><pre>False</pre></div></td></tr><tr><td>IsLcid</td><td><div class=\"dni-plaintext\"><pre>False</pre></div></td></tr><tr><td>IsOptional</td><td><div class=\"dni-plaintext\"><pre>False</pre></div></td></tr><tr><td>IsOut</td><td><div class=\"dni-plaintext\"><pre>False</pre></div></td></tr><tr><td>IsRetval</td><td><div class=\"dni-plaintext\"><pre>False</pre></div></td></tr><tr><td>CustomAttributes</td><td><i>(empty)</i></td></tr></tbody></table></div></details></td></tr><tr><td>ReturnParameter</td><td><details class=\"dni-treeview\"><summary><span class=\"dni-code-hint\"><code>T</code></span></summary><div><table><thead><tr></tr></thead><tbody><tr><td>ParameterType</td><td>T</td></tr><tr><td>Name</td><td><div class=\"dni-plaintext\"><pre>&lt;null&gt;</pre></div></td></tr><tr><td>HasDefaultValue</td><td><div class=\"dni-plaintext\"><pre>True</pre></div></td></tr><tr><td>DefaultValue</td><td><div class=\"dni-plaintext\"><pre>&lt;null&gt;</pre></div></td></tr><tr><td>RawDefaultValue</td><td><div class=\"dni-plaintext\"><pre>&lt;null&gt;</pre></div></td></tr><tr><td>MetadataToken</td><td><div class=\"dni-plaintext\"><pre>134217728</pre></div></td></tr><tr><td>Attributes</td><td><span>None</span></td></tr><tr><td>Member</td><td><details class=\"dni-treeview\"><summary><span class=\"dni-code-hint\"><code>T get_Head()</code></span></summary><div><table><thead><tr></tr></thead><tbody><tr><td>Name</td><td>get_Head</td></tr><tr><td>DeclaringType</td><td>Microsoft.FSharp.Collections.FSharpList`1[T]</td></tr><tr><td>ReflectedType</td><td>Microsoft.FSharp.Collections.FSharpList`1[T]</td></tr><tr><td>MemberType</td><td>Method</td></tr><tr><td>MetadataToken</td><td>100663766</td></tr><tr><td>Module</td><td>FSharp.Core.dll</td></tr><tr><td>IsSecurityCritical</td><td>True</td></tr><tr><td>IsSecuritySafeCritical</td><td>False</td></tr><tr><td>IsSecurityTransparent</td><td>False</td></tr><tr><td>MethodHandle</td><td>System.RuntimeMethodHandle</td></tr><tr><td>Attributes</td><td>PrivateScope, Public, HideBySig, SpecialName</td></tr><tr><td>CallingConvention</td><td>Standard, HasThis</td></tr><tr><td>ReturnType</td><td>T</td></tr><tr><td>ReturnTypeCustomAttributes</td><td>T</td></tr><tr><td>ReturnParameter</td><td>T</td></tr><tr><td>IsCollectible</td><td>False</td></tr><tr><td>IsGenericMethod</td><td>False</td></tr><tr><td>IsGenericMethodDefinition</td><td>False</td></tr><tr><td>ContainsGenericParameters</td><td>True</td></tr><tr><td>MethodImplementationFlags</td><td>IL</td></tr><tr><td>IsAbstract</td><td>False</td></tr><tr><td>IsConstructor</td><td>False</td></tr><tr><td>IsFinal</td><td>False</td></tr><tr><td>IsHideBySig</td><td>True</td></tr><tr><td>IsSpecialName</td><td>True</td></tr><tr><td>IsStatic</td><td>False</td></tr><tr><td>IsVirtual</td><td>False</td></tr><tr><td>IsAssembly</td><td>False</td></tr><tr><td>IsFamily</td><td>False</td></tr><tr><td>IsFamilyAndAssembly</td><td>False</td></tr><tr><td>IsFamilyOrAssembly</td><td>False</td></tr><tr><td>IsPrivate</td><td>False</td></tr><tr><td>IsPublic</td><td>True</td></tr><tr><td>IsConstructedGenericMethod</td><td>False</td></tr><tr><td>CustomAttributes</td><td>[  ]</td></tr></tbody></table></div></details></td></tr><tr><td>Position</td><td><div class=\"dni-plaintext\"><pre>-1</pre></div></td></tr><tr><td>IsIn</td><td><div class=\"dni-plaintext\"><pre>False</pre></div></td></tr><tr><td>IsLcid</td><td><div class=\"dni-plaintext\"><pre>False</pre></div></td></tr><tr><td>IsOptional</td><td><div class=\"dni-plaintext\"><pre>False</pre></div></td></tr><tr><td>IsOut</td><td><div class=\"dni-plaintext\"><pre>False</pre></div></td></tr><tr><td>IsRetval</td><td><div class=\"dni-plaintext\"><pre>False</pre></div></td></tr><tr><td>CustomAttributes</td><td><i>(empty)</i></td></tr></tbody></table></div></details></td></tr><tr><td>IsCollectible</td><td><div class=\"dni-plaintext\"><pre>False</pre></div></td></tr><tr><td>IsGenericMethod</td><td><div class=\"dni-plaintext\"><pre>False</pre></div></td></tr><tr><td>IsGenericMethodDefinition</td><td><div class=\"dni-plaintext\"><pre>False</pre></div></td></tr><tr><td>ContainsGenericParameters</td><td><div class=\"dni-plaintext\"><pre>True</pre></div></td></tr><tr><td>MethodImplementationFlags</td><td><span>IL</span></td></tr><tr><td>IsAbstract</td><td><div class=\"dni-plaintext\"><pre>False</pre></div></td></tr><tr><td>IsConstructor</td><td><div class=\"dni-plaintext\"><pre>False</pre></div></td></tr><tr><td>IsFinal</td><td><div class=\"dni-plaintext\"><pre>False</pre></div></td></tr><tr><td>IsHideBySig</td><td><div class=\"dni-plaintext\"><pre>True</pre></div></td></tr><tr><td>IsSpecialName</td><td><div class=\"dni-plaintext\"><pre>True</pre></div></td></tr><tr><td>IsStatic</td><td><div class=\"dni-plaintext\"><pre>False</pre></div></td></tr><tr><td>IsVirtual</td><td><div class=\"dni-plaintext\"><pre>False</pre></div></td></tr><tr><td>IsAssembly</td><td><div class=\"dni-plaintext\"><pre>False</pre></div></td></tr><tr><td>IsFamily</td><td><div class=\"dni-plaintext\"><pre>False</pre></div></td></tr><tr><td>IsFamilyAndAssembly</td><td><div class=\"dni-plaintext\"><pre>False</pre></div></td></tr><tr><td>IsFamilyOrAssembly</td><td><div class=\"dni-plaintext\"><pre>False</pre></div></td></tr><tr><td>IsPrivate</td><td><div class=\"dni-plaintext\"><pre>False</pre></div></td></tr><tr><td>IsPublic</td><td><div class=\"dni-plaintext\"><pre>True</pre></div></td></tr><tr><td>IsConstructedGenericMethod</td><td><div class=\"dni-plaintext\"><pre>False</pre></div></td></tr><tr><td>CustomAttributes</td><td><i>(empty)</i></td></tr></tbody></table></div></details></td></tr><tr><td>Message</td><td><div class=\"dni-plaintext\"><pre>The input list was empty.</pre></div></td></tr><tr><td>Data</td><td><i>(empty)</i></td></tr><tr><td>InnerException</td><td><div class=\"dni-plaintext\"><pre>&lt;null&gt;</pre></div></td></tr><tr><td>HelpLink</td><td><div class=\"dni-plaintext\"><pre>&lt;null&gt;</pre></div></td></tr><tr><td>Source</td><td><div class=\"dni-plaintext\"><pre>FSharp.Core</pre></div></td></tr><tr><td>HResult</td><td><div class=\"dni-plaintext\"><pre>-2146233079</pre></div></td></tr><tr><td>StackTrace</td><td><div class=\"dni-plaintext\"><pre>   at Microsoft.FSharp.Collections.FSharpList`1.get_Head() in D:\\a\\_work\\1\\s\\src\\FSharp.Core\\prim-types.fs:line 4136\r\n",
       "   at lambda_method422(Closure, FSharpList`1)\r\n",
       "   at Microsoft.DotNet.Interactive.Formatting.MemberAccessor`1.GetValueOrException(T instance) in D:\\a\\_work\\1\\s\\src\\Microsoft.DotNet.Interactive.Formatting\\MemberAccessor{T}.cs:line 64</pre></div></td></tr></tbody></table></div></details></td></tr><tr><td>Tail</td><td><details class=\"dni-treeview\"><summary><span class=\"dni-code-hint\"><code>System.InvalidOperationException: The input list was empty.\\r\\n   at Microsoft.FSharp.Collections.FSharpList`1.get_Tail() in D:\\a\\_work\\1\\s\\src\\FSharp.Core\\prim-types.fs:line 4141\\r\\n   at lambda_method423(Closure, FSharpList`1)\\r\\n   at Microsoft.DotNet.Interactive.Formatting.MemberAccessor`1.GetVa...</code></span></summary><div><table><thead><tr></tr></thead><tbody><tr><td>TargetSite</td><td><details class=\"dni-treeview\"><summary><span class=\"dni-code-hint\"><code>Microsoft.FSharp.Collections.FSharpList`1[T] get_Tail()</code></span></summary><div><table><thead><tr></tr></thead><tbody><tr><td>Name</td><td><div class=\"dni-plaintext\"><pre>get_Tail</pre></div></td></tr><tr><td>DeclaringType</td><td><span><a href=\"https://docs.microsoft.com/dotnet/api/microsoft.fsharp.collections.fsharplist-1?view=net-7.0\">Microsoft.FSharp.Collections.FSharpList&lt;T&gt;</a></span></td></tr><tr><td>ReflectedType</td><td><span><a href=\"https://docs.microsoft.com/dotnet/api/microsoft.fsharp.collections.fsharplist-1?view=net-7.0\">Microsoft.FSharp.Collections.FSharpList&lt;T&gt;</a></span></td></tr><tr><td>MemberType</td><td><span>Method</span></td></tr><tr><td>MetadataToken</td><td><div class=\"dni-plaintext\"><pre>100663767</pre></div></td></tr><tr><td>Module</td><td><details class=\"dni-treeview\"><summary><span class=\"dni-code-hint\"><code>FSharp.Core.dll</code></span></summary><div><table><thead><tr></tr></thead><tbody><tr><td>MDStreamVersion</td><td><div class=\"dni-plaintext\"><pre>131072</pre></div></td></tr><tr><td>FullyQualifiedName</td><td><div class=\"dni-plaintext\"><pre>C:\\Users\\Private\\.nuget\\packages\\microsoft.dotnet-interactive\\1.0.456201\\tools\\net7.0\\any\\FSharp.Core.dll</pre></div></td></tr><tr><td>ModuleVersionId</td><td><div class=\"dni-plaintext\"><pre>6dbe05a8-5c53-690c-c522-0b7a960bbd24</pre></div></td></tr><tr><td>MetadataToken</td><td><div class=\"dni-plaintext\"><pre>1</pre></div></td></tr><tr><td>ScopeName</td><td><div class=\"dni-plaintext\"><pre>FSharp.Core.dll</pre></div></td></tr><tr><td>Name</td><td><div class=\"dni-plaintext\"><pre>FSharp.Core.dll</pre></div></td></tr><tr><td>Assembly</td><td><details class=\"dni-treeview\"><summary><span class=\"dni-code-hint\"><code>FSharp.Core, Version=7.0.0.0, Culture=neutral, PublicKeyToken=b03f5f7f11d50a3a</code></span></summary><div><table><thead><tr></tr></thead><tbody><tr><td>CodeBase</td><td>file:///C:/Users/Private/.nuget/packages/microsoft.dotnet-interactive/1.0.456201/tools/net7.0/any/FSharp.Core.dll</td></tr><tr><td>FullName</td><td>FSharp.Core, Version=7.0.0.0, Culture=neutral, PublicKeyToken=b03f5f7f11d50a3a</td></tr><tr><td>EntryPoint</td><td><div class=\"dni-plaintext\"><pre>&lt;null&gt;</pre></div></td></tr><tr><td>DefinedTypes</td><td>[ Microsoft.FSharp.Core.Unit, Microsoft.FSharp.Core.SourceConstructFlags, Microsoft.FSharp.Core.CompilationRepresentationFlags, Microsoft.FSharp.Core.SealedAttribute, Microsoft.FSharp.Core.AbstractClassAttribute, Microsoft.FSharp.Core.EqualityConditionalOnAttribute, Microsoft.FSharp.Core.ComparisonConditionalOnAttribute, Microsoft.FSharp.Core.AllowNullLiteralAttribute, Microsoft.FSharp.Core.VolatileFieldAttribute, Microsoft.FSharp.Core.DefaultAugmentationAttribute, Microsoft.FSharp.Core.CLIEventAttribute, Microsoft.FSharp.Core.CLIMutableAttribute, Microsoft.FSharp.Core.AutoSerializableAttribute, Microsoft.FSharp.Core.DefaultValueAttribute, Microsoft.FSharp.Core.EntryPointAttribute, Microsoft.FSharp.Core.ReferenceEqualityAttribute, Microsoft.FSharp.Core.StructuralComparisonAttribute, Microsoft.FSharp.Core.StructuralEqualityAttribute, Microsoft.FSharp.Core.NoEqualityAttribute, Microsoft.FSharp.Core.CustomEqualityAttribute ... (2190 more) ]</td></tr><tr><td>IsCollectible</td><td>False</td></tr><tr><td>ManifestModule</td><td>FSharp.Core.dll</td></tr><tr><td>ReflectionOnly</td><td>False</td></tr><tr><td>Location</td><td>C:\\Users\\Private\\.nuget\\packages\\microsoft.dotnet-interactive\\1.0.456201\\tools\\net7.0\\any\\FSharp.Core.dll</td></tr><tr><td>ImageRuntimeVersion</td><td>v4.0.30319</td></tr><tr><td>GlobalAssemblyCache</td><td>False</td></tr><tr><td>HostContext</td><td>0</td></tr><tr><td>IsDynamic</td><td>False</td></tr><tr><td>ExportedTypes</td><td>[ Microsoft.FSharp.Core.Unit, Microsoft.FSharp.Core.SourceConstructFlags, Microsoft.FSharp.Core.CompilationRepresentationFlags, Microsoft.FSharp.Core.SealedAttribute, Microsoft.FSharp.Core.AbstractClassAttribute, Microsoft.FSharp.Core.EqualityConditionalOnAttribute, Microsoft.FSharp.Core.ComparisonConditionalOnAttribute, Microsoft.FSharp.Core.AllowNullLiteralAttribute, Microsoft.FSharp.Core.VolatileFieldAttribute, Microsoft.FSharp.Core.DefaultAugmentationAttribute, Microsoft.FSharp.Core.CLIEventAttribute, Microsoft.FSharp.Core.CLIMutableAttribute, Microsoft.FSharp.Core.AutoSerializableAttribute, Microsoft.FSharp.Core.DefaultValueAttribute, Microsoft.FSharp.Core.EntryPointAttribute, Microsoft.FSharp.Core.ReferenceEqualityAttribute, Microsoft.FSharp.Core.StructuralComparisonAttribute, Microsoft.FSharp.Core.StructuralEqualityAttribute, Microsoft.FSharp.Core.NoEqualityAttribute, Microsoft.FSharp.Core.CustomEqualityAttribute ... (214 more) ]</td></tr><tr><td>IsFullyTrusted</td><td>True</td></tr><tr><td>CustomAttributes</td><td>[ [Microsoft.FSharp.Core.FSharpInterfaceDataVersionAttribute((Int32)2, (Int32)0, (Int32)0)], [System.Runtime.Versioning.TargetFrameworkAttribute(\".NETStandard,Version=v2.1\", FrameworkDisplayName = \".NET Standard 2.1\")], [System.Reflection.AssemblyCompanyAttribute(\"Microsoft Corporation\")], [System.Reflection.AssemblyConfigurationAttribute(\"Release\")], [System.Reflection.AssemblyCopyrightAttribute(\"© Microsoft Corporation. All rights reserved.\")], [System.Reflection.AssemblyFileVersionAttribute(\"7.4.23.36405\")], [System.Reflection.AssemblyInformationalVersionAttribute(\"7.0.400-beta.23364.5+159a701477f5ca1e2d960e9bf79ce05769b3c671\")], [System.Reflection.AssemblyProductAttribute(\"FSharp.Core\")], [System.Reflection.AssemblyTitleAttribute(\"FSharp.Core\")], [System.Reflection.AssemblyMetadataAttribute(\"RepositoryUrl\", \"https://github.com/dotnet/fsharp\")], [System.Resources.NeutralResourcesLanguageAttribute(\"en-US\")], [System.Runtime.InteropServices.ComVisibleAttribute((Boolean)False)], [System.CLSCompliantAttribute((Boolean)True)], [System.Security.SecurityTransparentAttribute()], [Microsoft.FSharp.Core.AutoOpenAttribute(\"Microsoft.FSharp\")], [Microsoft.FSharp.Core.AutoOpenAttribute(\"Microsoft.FSharp.Core.LanguagePrimitives.IntrinsicOperators\")], [Microsoft.FSharp.Core.AutoOpenAttribute(\"Microsoft.FSharp.Core\")], [Microsoft.FSharp.Core.AutoOpenAttribute(\"Microsoft.FSharp.Collections\")], [Microsoft.FSharp.Core.AutoOpenAttribute(\"Microsoft.FSharp.Control\")], [Microsoft.FSharp.Core.AutoOpenAttribute(\"Microsoft.FSharp.Control.TaskBuilderExtensions.LowPriority\")] ... (5 more) ]</td></tr><tr><td>EscapedCodeBase</td><td>file:///C:/Users/Private/.nuget/packages/microsoft.dotnet-interactive/1.0.456201/tools/net7.0/any/FSharp.Core.dll</td></tr><tr><td>Modules</td><td>[ FSharp.Core.dll ]</td></tr><tr><td>SecurityRuleSet</td><td>None</td></tr></tbody></table></div></details></td></tr><tr><td>ModuleHandle</td><td><details class=\"dni-treeview\"><summary><span class=\"dni-code-hint\"><code>System.ModuleHandle</code></span></summary><div><table><thead><tr></tr></thead><tbody><tr><td>MDStreamVersion</td><td>131072</td></tr></tbody></table></div></details></td></tr><tr><td>CustomAttributes</td><td><i>(empty)</i></td></tr></tbody></table></div></details></td></tr><tr><td>IsSecurityCritical</td><td><div class=\"dni-plaintext\"><pre>True</pre></div></td></tr><tr><td>IsSecuritySafeCritical</td><td><div class=\"dni-plaintext\"><pre>False</pre></div></td></tr><tr><td>IsSecurityTransparent</td><td><div class=\"dni-plaintext\"><pre>False</pre></div></td></tr><tr><td>MethodHandle</td><td><details class=\"dni-treeview\"><summary><span class=\"dni-code-hint\"><code>System.RuntimeMethodHandle</code></span></summary><div><table><thead><tr></tr></thead><tbody><tr><td>Value</td><td><div class=\"dni-plaintext\"><pre>140703186481496</pre></div></td></tr></tbody></table></div></details></td></tr><tr><td>Attributes</td><td><span>PrivateScope, Public, HideBySig, SpecialName</span></td></tr><tr><td>CallingConvention</td><td><span>Standard, HasThis</span></td></tr><tr><td>ReturnType</td><td><span><a href=\"https://docs.microsoft.com/dotnet/api/microsoft.fsharp.collections.fsharplist-1?view=net-7.0\">Microsoft.FSharp.Collections.FSharpList&lt;T&gt;</a></span></td></tr><tr><td>ReturnTypeCustomAttributes</td><td><details class=\"dni-treeview\"><summary><span class=\"dni-code-hint\"><code>Microsoft.FSharp.Collections.FSharpList`1[T]</code></span></summary><div><table><thead><tr></tr></thead><tbody><tr><td>ParameterType</td><td><span><a href=\"https://docs.microsoft.com/dotnet/api/microsoft.fsharp.collections.fsharplist-1?view=net-7.0\">Microsoft.FSharp.Collections.FSharpList&lt;T&gt;</a></span></td></tr><tr><td>Name</td><td><div class=\"dni-plaintext\"><pre>&lt;null&gt;</pre></div></td></tr><tr><td>HasDefaultValue</td><td><div class=\"dni-plaintext\"><pre>True</pre></div></td></tr><tr><td>DefaultValue</td><td><div class=\"dni-plaintext\"><pre>&lt;null&gt;</pre></div></td></tr><tr><td>RawDefaultValue</td><td><div class=\"dni-plaintext\"><pre>&lt;null&gt;</pre></div></td></tr><tr><td>MetadataToken</td><td><div class=\"dni-plaintext\"><pre>134217728</pre></div></td></tr><tr><td>Attributes</td><td><span>None</span></td></tr><tr><td>Member</td><td><details class=\"dni-treeview\"><summary><span class=\"dni-code-hint\"><code>Microsoft.FSharp.Collections.FSharpList`1[T] get_Tail()</code></span></summary><div><table><thead><tr></tr></thead><tbody><tr><td>Name</td><td>get_Tail</td></tr><tr><td>DeclaringType</td><td>Microsoft.FSharp.Collections.FSharpList`1[T]</td></tr><tr><td>ReflectedType</td><td>Microsoft.FSharp.Collections.FSharpList`1[T]</td></tr><tr><td>MemberType</td><td>Method</td></tr><tr><td>MetadataToken</td><td>100663767</td></tr><tr><td>Module</td><td>FSharp.Core.dll</td></tr><tr><td>IsSecurityCritical</td><td>True</td></tr><tr><td>IsSecuritySafeCritical</td><td>False</td></tr><tr><td>IsSecurityTransparent</td><td>False</td></tr><tr><td>MethodHandle</td><td>System.RuntimeMethodHandle</td></tr><tr><td>Attributes</td><td>PrivateScope, Public, HideBySig, SpecialName</td></tr><tr><td>CallingConvention</td><td>Standard, HasThis</td></tr><tr><td>ReturnType</td><td>Microsoft.FSharp.Collections.FSharpList`1[T]</td></tr><tr><td>ReturnTypeCustomAttributes</td><td>Microsoft.FSharp.Collections.FSharpList`1[T]</td></tr><tr><td>ReturnParameter</td><td>Microsoft.FSharp.Collections.FSharpList`1[T]</td></tr><tr><td>IsCollectible</td><td>False</td></tr><tr><td>IsGenericMethod</td><td>False</td></tr><tr><td>IsGenericMethodDefinition</td><td>False</td></tr><tr><td>ContainsGenericParameters</td><td>True</td></tr><tr><td>MethodImplementationFlags</td><td>IL</td></tr><tr><td>IsAbstract</td><td>False</td></tr><tr><td>IsConstructor</td><td>False</td></tr><tr><td>IsFinal</td><td>False</td></tr><tr><td>IsHideBySig</td><td>True</td></tr><tr><td>IsSpecialName</td><td>True</td></tr><tr><td>IsStatic</td><td>False</td></tr><tr><td>IsVirtual</td><td>False</td></tr><tr><td>IsAssembly</td><td>False</td></tr><tr><td>IsFamily</td><td>False</td></tr><tr><td>IsFamilyAndAssembly</td><td>False</td></tr><tr><td>IsFamilyOrAssembly</td><td>False</td></tr><tr><td>IsPrivate</td><td>False</td></tr><tr><td>IsPublic</td><td>True</td></tr><tr><td>IsConstructedGenericMethod</td><td>False</td></tr><tr><td>CustomAttributes</td><td>[  ]</td></tr></tbody></table></div></details></td></tr><tr><td>Position</td><td><div class=\"dni-plaintext\"><pre>-1</pre></div></td></tr><tr><td>IsIn</td><td><div class=\"dni-plaintext\"><pre>False</pre></div></td></tr><tr><td>IsLcid</td><td><div class=\"dni-plaintext\"><pre>False</pre></div></td></tr><tr><td>IsOptional</td><td><div class=\"dni-plaintext\"><pre>False</pre></div></td></tr><tr><td>IsOut</td><td><div class=\"dni-plaintext\"><pre>False</pre></div></td></tr><tr><td>IsRetval</td><td><div class=\"dni-plaintext\"><pre>False</pre></div></td></tr><tr><td>CustomAttributes</td><td><i>(empty)</i></td></tr></tbody></table></div></details></td></tr><tr><td>ReturnParameter</td><td><details class=\"dni-treeview\"><summary><span class=\"dni-code-hint\"><code>Microsoft.FSharp.Collections.FSharpList`1[T]</code></span></summary><div><table><thead><tr></tr></thead><tbody><tr><td>ParameterType</td><td><span><a href=\"https://docs.microsoft.com/dotnet/api/microsoft.fsharp.collections.fsharplist-1?view=net-7.0\">Microsoft.FSharp.Collections.FSharpList&lt;T&gt;</a></span></td></tr><tr><td>Name</td><td><div class=\"dni-plaintext\"><pre>&lt;null&gt;</pre></div></td></tr><tr><td>HasDefaultValue</td><td><div class=\"dni-plaintext\"><pre>True</pre></div></td></tr><tr><td>DefaultValue</td><td><div class=\"dni-plaintext\"><pre>&lt;null&gt;</pre></div></td></tr><tr><td>RawDefaultValue</td><td><div class=\"dni-plaintext\"><pre>&lt;null&gt;</pre></div></td></tr><tr><td>MetadataToken</td><td><div class=\"dni-plaintext\"><pre>134217728</pre></div></td></tr><tr><td>Attributes</td><td><span>None</span></td></tr><tr><td>Member</td><td><details class=\"dni-treeview\"><summary><span class=\"dni-code-hint\"><code>Microsoft.FSharp.Collections.FSharpList`1[T] get_Tail()</code></span></summary><div><table><thead><tr></tr></thead><tbody><tr><td>Name</td><td>get_Tail</td></tr><tr><td>DeclaringType</td><td>Microsoft.FSharp.Collections.FSharpList`1[T]</td></tr><tr><td>ReflectedType</td><td>Microsoft.FSharp.Collections.FSharpList`1[T]</td></tr><tr><td>MemberType</td><td>Method</td></tr><tr><td>MetadataToken</td><td>100663767</td></tr><tr><td>Module</td><td>FSharp.Core.dll</td></tr><tr><td>IsSecurityCritical</td><td>True</td></tr><tr><td>IsSecuritySafeCritical</td><td>False</td></tr><tr><td>IsSecurityTransparent</td><td>False</td></tr><tr><td>MethodHandle</td><td>System.RuntimeMethodHandle</td></tr><tr><td>Attributes</td><td>PrivateScope, Public, HideBySig, SpecialName</td></tr><tr><td>CallingConvention</td><td>Standard, HasThis</td></tr><tr><td>ReturnType</td><td>Microsoft.FSharp.Collections.FSharpList`1[T]</td></tr><tr><td>ReturnTypeCustomAttributes</td><td>Microsoft.FSharp.Collections.FSharpList`1[T]</td></tr><tr><td>ReturnParameter</td><td>Microsoft.FSharp.Collections.FSharpList`1[T]</td></tr><tr><td>IsCollectible</td><td>False</td></tr><tr><td>IsGenericMethod</td><td>False</td></tr><tr><td>IsGenericMethodDefinition</td><td>False</td></tr><tr><td>ContainsGenericParameters</td><td>True</td></tr><tr><td>MethodImplementationFlags</td><td>IL</td></tr><tr><td>IsAbstract</td><td>False</td></tr><tr><td>IsConstructor</td><td>False</td></tr><tr><td>IsFinal</td><td>False</td></tr><tr><td>IsHideBySig</td><td>True</td></tr><tr><td>IsSpecialName</td><td>True</td></tr><tr><td>IsStatic</td><td>False</td></tr><tr><td>IsVirtual</td><td>False</td></tr><tr><td>IsAssembly</td><td>False</td></tr><tr><td>IsFamily</td><td>False</td></tr><tr><td>IsFamilyAndAssembly</td><td>False</td></tr><tr><td>IsFamilyOrAssembly</td><td>False</td></tr><tr><td>IsPrivate</td><td>False</td></tr><tr><td>IsPublic</td><td>True</td></tr><tr><td>IsConstructedGenericMethod</td><td>False</td></tr><tr><td>CustomAttributes</td><td>[  ]</td></tr></tbody></table></div></details></td></tr><tr><td>Position</td><td><div class=\"dni-plaintext\"><pre>-1</pre></div></td></tr><tr><td>IsIn</td><td><div class=\"dni-plaintext\"><pre>False</pre></div></td></tr><tr><td>IsLcid</td><td><div class=\"dni-plaintext\"><pre>False</pre></div></td></tr><tr><td>IsOptional</td><td><div class=\"dni-plaintext\"><pre>False</pre></div></td></tr><tr><td>IsOut</td><td><div class=\"dni-plaintext\"><pre>False</pre></div></td></tr><tr><td>IsRetval</td><td><div class=\"dni-plaintext\"><pre>False</pre></div></td></tr><tr><td>CustomAttributes</td><td><i>(empty)</i></td></tr></tbody></table></div></details></td></tr><tr><td>IsCollectible</td><td><div class=\"dni-plaintext\"><pre>False</pre></div></td></tr><tr><td>IsGenericMethod</td><td><div class=\"dni-plaintext\"><pre>False</pre></div></td></tr><tr><td>IsGenericMethodDefinition</td><td><div class=\"dni-plaintext\"><pre>False</pre></div></td></tr><tr><td>ContainsGenericParameters</td><td><div class=\"dni-plaintext\"><pre>True</pre></div></td></tr><tr><td>MethodImplementationFlags</td><td><span>IL</span></td></tr><tr><td>IsAbstract</td><td><div class=\"dni-plaintext\"><pre>False</pre></div></td></tr><tr><td>IsConstructor</td><td><div class=\"dni-plaintext\"><pre>False</pre></div></td></tr><tr><td>IsFinal</td><td><div class=\"dni-plaintext\"><pre>False</pre></div></td></tr><tr><td>IsHideBySig</td><td><div class=\"dni-plaintext\"><pre>True</pre></div></td></tr><tr><td>IsSpecialName</td><td><div class=\"dni-plaintext\"><pre>True</pre></div></td></tr><tr><td>IsStatic</td><td><div class=\"dni-plaintext\"><pre>False</pre></div></td></tr><tr><td>IsVirtual</td><td><div class=\"dni-plaintext\"><pre>False</pre></div></td></tr><tr><td>IsAssembly</td><td><div class=\"dni-plaintext\"><pre>False</pre></div></td></tr><tr><td>IsFamily</td><td><div class=\"dni-plaintext\"><pre>False</pre></div></td></tr><tr><td>IsFamilyAndAssembly</td><td><div class=\"dni-plaintext\"><pre>False</pre></div></td></tr><tr><td>IsFamilyOrAssembly</td><td><div class=\"dni-plaintext\"><pre>False</pre></div></td></tr><tr><td>IsPrivate</td><td><div class=\"dni-plaintext\"><pre>False</pre></div></td></tr><tr><td>IsPublic</td><td><div class=\"dni-plaintext\"><pre>True</pre></div></td></tr><tr><td>IsConstructedGenericMethod</td><td><div class=\"dni-plaintext\"><pre>False</pre></div></td></tr><tr><td>CustomAttributes</td><td><i>(empty)</i></td></tr></tbody></table></div></details></td></tr><tr><td>Message</td><td><div class=\"dni-plaintext\"><pre>The input list was empty.</pre></div></td></tr><tr><td>Data</td><td><i>(empty)</i></td></tr><tr><td>InnerException</td><td><div class=\"dni-plaintext\"><pre>&lt;null&gt;</pre></div></td></tr><tr><td>HelpLink</td><td><div class=\"dni-plaintext\"><pre>&lt;null&gt;</pre></div></td></tr><tr><td>Source</td><td><div class=\"dni-plaintext\"><pre>FSharp.Core</pre></div></td></tr><tr><td>HResult</td><td><div class=\"dni-plaintext\"><pre>-2146233079</pre></div></td></tr><tr><td>StackTrace</td><td><div class=\"dni-plaintext\"><pre>   at Microsoft.FSharp.Collections.FSharpList`1.get_Tail() in D:\\a\\_work\\1\\s\\src\\FSharp.Core\\prim-types.fs:line 4141\r\n",
       "   at lambda_method423(Closure, FSharpList`1)\r\n",
       "   at Microsoft.DotNet.Interactive.Formatting.MemberAccessor`1.GetValueOrException(T instance) in D:\\a\\_work\\1\\s\\src\\Microsoft.DotNet.Interactive.Formatting\\MemberAccessor{T}.cs:line 64</pre></div></td></tr></tbody></table></div></details></td></tr><tr><td><i>(values)</i></td><td><i>(empty)</i></td></tr></tbody></table></div></details></td></tr><tr><td>Head</td><td><details class=\"dni-treeview\"><summary><span class=\"dni-code-hint\"><code>{ Start = 81u\\n  End = 94u\\n  Mapped = true }</code></span></summary><div><table><thead><tr></tr></thead><tbody><tr><td>Start</td><td><div class=\"dni-plaintext\"><pre>81</pre></div></td></tr><tr><td>End</td><td><div class=\"dni-plaintext\"><pre>94</pre></div></td></tr><tr><td>Mapped</td><td><div class=\"dni-plaintext\"><pre>True</pre></div></td></tr><tr><td>Mapped@</td><td><div class=\"dni-plaintext\"><pre>True</pre></div></td></tr></tbody></table></div></details></td></tr><tr><td>Tail</td><td><details class=\"dni-treeview\"><summary><span class=\"dni-code-hint\"><code>[  ]</code></span></summary><div><table><thead><tr></tr></thead><tbody><tr><td>HeadOrDefault</td><td><div class=\"dni-plaintext\"><pre>&lt;null&gt;</pre></div></td></tr><tr><td>TailOrNull</td><td><div class=\"dni-plaintext\"><pre>&lt;null&gt;</pre></div></td></tr><tr><td>Head</td><td><details class=\"dni-treeview\"><summary><span class=\"dni-code-hint\"><code>System.InvalidOperationException: The input list was empty.\\r\\n   at Microsoft.FSharp.Collections.FSharpList`1.get_Head() in D:\\a\\_work\\1\\s\\src\\FSharp.Core\\prim-types.fs:line 4136\\r\\n   at lambda_method422(Closure, FSharpList`1)\\r\\n   at Microsoft.DotNet.Interactive.Formatting.MemberAccessor`1.GetVa...</code></span></summary><div><table><thead><tr></tr></thead><tbody><tr><td>TargetSite</td><td><details class=\"dni-treeview\"><summary><span class=\"dni-code-hint\"><code>T get_Head()</code></span></summary><div><table><thead><tr></tr></thead><tbody><tr><td>Name</td><td><div class=\"dni-plaintext\"><pre>get_Head</pre></div></td></tr><tr><td>DeclaringType</td><td><span><a href=\"https://docs.microsoft.com/dotnet/api/microsoft.fsharp.collections.fsharplist-1?view=net-7.0\">Microsoft.FSharp.Collections.FSharpList&lt;T&gt;</a></span></td></tr><tr><td>ReflectedType</td><td><span><a href=\"https://docs.microsoft.com/dotnet/api/microsoft.fsharp.collections.fsharplist-1?view=net-7.0\">Microsoft.FSharp.Collections.FSharpList&lt;T&gt;</a></span></td></tr><tr><td>MemberType</td><td><span>Method</span></td></tr><tr><td>MetadataToken</td><td><div class=\"dni-plaintext\"><pre>100663766</pre></div></td></tr><tr><td>Module</td><td><details class=\"dni-treeview\"><summary><span class=\"dni-code-hint\"><code>FSharp.Core.dll</code></span></summary><div><table><thead><tr></tr></thead><tbody><tr><td>MDStreamVersion</td><td><div class=\"dni-plaintext\"><pre>131072</pre></div></td></tr><tr><td>FullyQualifiedName</td><td><div class=\"dni-plaintext\"><pre>C:\\Users\\Private\\.nuget\\packages\\microsoft.dotnet-interactive\\1.0.456201\\tools\\net7.0\\any\\FSharp.Core.dll</pre></div></td></tr><tr><td>ModuleVersionId</td><td><div class=\"dni-plaintext\"><pre>6dbe05a8-5c53-690c-c522-0b7a960bbd24</pre></div></td></tr><tr><td>MetadataToken</td><td><div class=\"dni-plaintext\"><pre>1</pre></div></td></tr><tr><td>ScopeName</td><td><div class=\"dni-plaintext\"><pre>FSharp.Core.dll</pre></div></td></tr><tr><td>Name</td><td><div class=\"dni-plaintext\"><pre>FSharp.Core.dll</pre></div></td></tr><tr><td>Assembly</td><td><details class=\"dni-treeview\"><summary><span class=\"dni-code-hint\"><code>FSharp.Core, Version=7.0.0.0, Culture=neutral, PublicKeyToken=b03f5f7f11d50a3a</code></span></summary><div><table><thead><tr></tr></thead><tbody><tr><td>CodeBase</td><td>file:///C:/Users/Private/.nuget/packages/microsoft.dotnet-interactive/1.0.456201/tools/net7.0/any/FSharp.Core.dll</td></tr><tr><td>FullName</td><td>FSharp.Core, Version=7.0.0.0, Culture=neutral, PublicKeyToken=b03f5f7f11d50a3a</td></tr><tr><td>EntryPoint</td><td><div class=\"dni-plaintext\"><pre>&lt;null&gt;</pre></div></td></tr><tr><td>DefinedTypes</td><td>[ Microsoft.FSharp.Core.Unit, Microsoft.FSharp.Core.SourceConstructFlags, Microsoft.FSharp.Core.CompilationRepresentationFlags, Microsoft.FSharp.Core.SealedAttribute, Microsoft.FSharp.Core.AbstractClassAttribute, Microsoft.FSharp.Core.EqualityConditionalOnAttribute, Microsoft.FSharp.Core.ComparisonConditionalOnAttribute, Microsoft.FSharp.Core.AllowNullLiteralAttribute, Microsoft.FSharp.Core.VolatileFieldAttribute, Microsoft.FSharp.Core.DefaultAugmentationAttribute, Microsoft.FSharp.Core.CLIEventAttribute, Microsoft.FSharp.Core.CLIMutableAttribute, Microsoft.FSharp.Core.AutoSerializableAttribute, Microsoft.FSharp.Core.DefaultValueAttribute, Microsoft.FSharp.Core.EntryPointAttribute, Microsoft.FSharp.Core.ReferenceEqualityAttribute, Microsoft.FSharp.Core.StructuralComparisonAttribute, Microsoft.FSharp.Core.StructuralEqualityAttribute, Microsoft.FSharp.Core.NoEqualityAttribute, Microsoft.FSharp.Core.CustomEqualityAttribute ... (2190 more) ]</td></tr><tr><td>IsCollectible</td><td>False</td></tr><tr><td>ManifestModule</td><td>FSharp.Core.dll</td></tr><tr><td>ReflectionOnly</td><td>False</td></tr><tr><td>Location</td><td>C:\\Users\\Private\\.nuget\\packages\\microsoft.dotnet-interactive\\1.0.456201\\tools\\net7.0\\any\\FSharp.Core.dll</td></tr><tr><td>ImageRuntimeVersion</td><td>v4.0.30319</td></tr><tr><td>GlobalAssemblyCache</td><td>False</td></tr><tr><td>HostContext</td><td>0</td></tr><tr><td>IsDynamic</td><td>False</td></tr><tr><td>ExportedTypes</td><td>[ Microsoft.FSharp.Core.Unit, Microsoft.FSharp.Core.SourceConstructFlags, Microsoft.FSharp.Core.CompilationRepresentationFlags, Microsoft.FSharp.Core.SealedAttribute, Microsoft.FSharp.Core.AbstractClassAttribute, Microsoft.FSharp.Core.EqualityConditionalOnAttribute, Microsoft.FSharp.Core.ComparisonConditionalOnAttribute, Microsoft.FSharp.Core.AllowNullLiteralAttribute, Microsoft.FSharp.Core.VolatileFieldAttribute, Microsoft.FSharp.Core.DefaultAugmentationAttribute, Microsoft.FSharp.Core.CLIEventAttribute, Microsoft.FSharp.Core.CLIMutableAttribute, Microsoft.FSharp.Core.AutoSerializableAttribute, Microsoft.FSharp.Core.DefaultValueAttribute, Microsoft.FSharp.Core.EntryPointAttribute, Microsoft.FSharp.Core.ReferenceEqualityAttribute, Microsoft.FSharp.Core.StructuralComparisonAttribute, Microsoft.FSharp.Core.StructuralEqualityAttribute, Microsoft.FSharp.Core.NoEqualityAttribute, Microsoft.FSharp.Core.CustomEqualityAttribute ... (214 more) ]</td></tr><tr><td>IsFullyTrusted</td><td>True</td></tr><tr><td>CustomAttributes</td><td>[ [Microsoft.FSharp.Core.FSharpInterfaceDataVersionAttribute((Int32)2, (Int32)0, (Int32)0)], [System.Runtime.Versioning.TargetFrameworkAttribute(\".NETStandard,Version=v2.1\", FrameworkDisplayName = \".NET Standard 2.1\")], [System.Reflection.AssemblyCompanyAttribute(\"Microsoft Corporation\")], [System.Reflection.AssemblyConfigurationAttribute(\"Release\")], [System.Reflection.AssemblyCopyrightAttribute(\"© Microsoft Corporation. All rights reserved.\")], [System.Reflection.AssemblyFileVersionAttribute(\"7.4.23.36405\")], [System.Reflection.AssemblyInformationalVersionAttribute(\"7.0.400-beta.23364.5+159a701477f5ca1e2d960e9bf79ce05769b3c671\")], [System.Reflection.AssemblyProductAttribute(\"FSharp.Core\")], [System.Reflection.AssemblyTitleAttribute(\"FSharp.Core\")], [System.Reflection.AssemblyMetadataAttribute(\"RepositoryUrl\", \"https://github.com/dotnet/fsharp\")], [System.Resources.NeutralResourcesLanguageAttribute(\"en-US\")], [System.Runtime.InteropServices.ComVisibleAttribute((Boolean)False)], [System.CLSCompliantAttribute((Boolean)True)], [System.Security.SecurityTransparentAttribute()], [Microsoft.FSharp.Core.AutoOpenAttribute(\"Microsoft.FSharp\")], [Microsoft.FSharp.Core.AutoOpenAttribute(\"Microsoft.FSharp.Core.LanguagePrimitives.IntrinsicOperators\")], [Microsoft.FSharp.Core.AutoOpenAttribute(\"Microsoft.FSharp.Core\")], [Microsoft.FSharp.Core.AutoOpenAttribute(\"Microsoft.FSharp.Collections\")], [Microsoft.FSharp.Core.AutoOpenAttribute(\"Microsoft.FSharp.Control\")], [Microsoft.FSharp.Core.AutoOpenAttribute(\"Microsoft.FSharp.Control.TaskBuilderExtensions.LowPriority\")] ... (5 more) ]</td></tr><tr><td>EscapedCodeBase</td><td>file:///C:/Users/Private/.nuget/packages/microsoft.dotnet-interactive/1.0.456201/tools/net7.0/any/FSharp.Core.dll</td></tr><tr><td>Modules</td><td>[ FSharp.Core.dll ]</td></tr><tr><td>SecurityRuleSet</td><td>None</td></tr></tbody></table></div></details></td></tr><tr><td>ModuleHandle</td><td><details class=\"dni-treeview\"><summary><span class=\"dni-code-hint\"><code>System.ModuleHandle</code></span></summary><div><table><thead><tr></tr></thead><tbody><tr><td>MDStreamVersion</td><td>131072</td></tr></tbody></table></div></details></td></tr><tr><td>CustomAttributes</td><td><i>(empty)</i></td></tr></tbody></table></div></details></td></tr><tr><td>IsSecurityCritical</td><td><div class=\"dni-plaintext\"><pre>True</pre></div></td></tr><tr><td>IsSecuritySafeCritical</td><td><div class=\"dni-plaintext\"><pre>False</pre></div></td></tr><tr><td>IsSecurityTransparent</td><td><div class=\"dni-plaintext\"><pre>False</pre></div></td></tr><tr><td>MethodHandle</td><td><details class=\"dni-treeview\"><summary><span class=\"dni-code-hint\"><code>System.RuntimeMethodHandle</code></span></summary><div><table><thead><tr></tr></thead><tbody><tr><td>Value</td><td><div class=\"dni-plaintext\"><pre>140703186481480</pre></div></td></tr></tbody></table></div></details></td></tr><tr><td>Attributes</td><td><span>PrivateScope, Public, HideBySig, SpecialName</span></td></tr><tr><td>CallingConvention</td><td><span>Standard, HasThis</span></td></tr><tr><td>ReturnType</td><td>T</td></tr><tr><td>ReturnTypeCustomAttributes</td><td><details class=\"dni-treeview\"><summary><span class=\"dni-code-hint\"><code>T</code></span></summary><div><table><thead><tr></tr></thead><tbody><tr><td>ParameterType</td><td>T</td></tr><tr><td>Name</td><td><div class=\"dni-plaintext\"><pre>&lt;null&gt;</pre></div></td></tr><tr><td>HasDefaultValue</td><td><div class=\"dni-plaintext\"><pre>True</pre></div></td></tr><tr><td>DefaultValue</td><td><div class=\"dni-plaintext\"><pre>&lt;null&gt;</pre></div></td></tr><tr><td>RawDefaultValue</td><td><div class=\"dni-plaintext\"><pre>&lt;null&gt;</pre></div></td></tr><tr><td>MetadataToken</td><td><div class=\"dni-plaintext\"><pre>134217728</pre></div></td></tr><tr><td>Attributes</td><td><span>None</span></td></tr><tr><td>Member</td><td><details class=\"dni-treeview\"><summary><span class=\"dni-code-hint\"><code>T get_Head()</code></span></summary><div><table><thead><tr></tr></thead><tbody><tr><td>Name</td><td>get_Head</td></tr><tr><td>DeclaringType</td><td>Microsoft.FSharp.Collections.FSharpList`1[T]</td></tr><tr><td>ReflectedType</td><td>Microsoft.FSharp.Collections.FSharpList`1[T]</td></tr><tr><td>MemberType</td><td>Method</td></tr><tr><td>MetadataToken</td><td>100663766</td></tr><tr><td>Module</td><td>FSharp.Core.dll</td></tr><tr><td>IsSecurityCritical</td><td>True</td></tr><tr><td>IsSecuritySafeCritical</td><td>False</td></tr><tr><td>IsSecurityTransparent</td><td>False</td></tr><tr><td>MethodHandle</td><td>System.RuntimeMethodHandle</td></tr><tr><td>Attributes</td><td>PrivateScope, Public, HideBySig, SpecialName</td></tr><tr><td>CallingConvention</td><td>Standard, HasThis</td></tr><tr><td>ReturnType</td><td>T</td></tr><tr><td>ReturnTypeCustomAttributes</td><td>T</td></tr><tr><td>ReturnParameter</td><td>T</td></tr><tr><td>IsCollectible</td><td>False</td></tr><tr><td>IsGenericMethod</td><td>False</td></tr><tr><td>IsGenericMethodDefinition</td><td>False</td></tr><tr><td>ContainsGenericParameters</td><td>True</td></tr><tr><td>MethodImplementationFlags</td><td>IL</td></tr><tr><td>IsAbstract</td><td>False</td></tr><tr><td>IsConstructor</td><td>False</td></tr><tr><td>IsFinal</td><td>False</td></tr><tr><td>IsHideBySig</td><td>True</td></tr><tr><td>IsSpecialName</td><td>True</td></tr><tr><td>IsStatic</td><td>False</td></tr><tr><td>IsVirtual</td><td>False</td></tr><tr><td>IsAssembly</td><td>False</td></tr><tr><td>IsFamily</td><td>False</td></tr><tr><td>IsFamilyAndAssembly</td><td>False</td></tr><tr><td>IsFamilyOrAssembly</td><td>False</td></tr><tr><td>IsPrivate</td><td>False</td></tr><tr><td>IsPublic</td><td>True</td></tr><tr><td>IsConstructedGenericMethod</td><td>False</td></tr><tr><td>CustomAttributes</td><td>[  ]</td></tr></tbody></table></div></details></td></tr><tr><td>Position</td><td><div class=\"dni-plaintext\"><pre>-1</pre></div></td></tr><tr><td>IsIn</td><td><div class=\"dni-plaintext\"><pre>False</pre></div></td></tr><tr><td>IsLcid</td><td><div class=\"dni-plaintext\"><pre>False</pre></div></td></tr><tr><td>IsOptional</td><td><div class=\"dni-plaintext\"><pre>False</pre></div></td></tr><tr><td>IsOut</td><td><div class=\"dni-plaintext\"><pre>False</pre></div></td></tr><tr><td>IsRetval</td><td><div class=\"dni-plaintext\"><pre>False</pre></div></td></tr><tr><td>CustomAttributes</td><td><i>(empty)</i></td></tr></tbody></table></div></details></td></tr><tr><td>ReturnParameter</td><td><details class=\"dni-treeview\"><summary><span class=\"dni-code-hint\"><code>T</code></span></summary><div><table><thead><tr></tr></thead><tbody><tr><td>ParameterType</td><td>T</td></tr><tr><td>Name</td><td><div class=\"dni-plaintext\"><pre>&lt;null&gt;</pre></div></td></tr><tr><td>HasDefaultValue</td><td><div class=\"dni-plaintext\"><pre>True</pre></div></td></tr><tr><td>DefaultValue</td><td><div class=\"dni-plaintext\"><pre>&lt;null&gt;</pre></div></td></tr><tr><td>RawDefaultValue</td><td><div class=\"dni-plaintext\"><pre>&lt;null&gt;</pre></div></td></tr><tr><td>MetadataToken</td><td><div class=\"dni-plaintext\"><pre>134217728</pre></div></td></tr><tr><td>Attributes</td><td><span>None</span></td></tr><tr><td>Member</td><td><details class=\"dni-treeview\"><summary><span class=\"dni-code-hint\"><code>T get_Head()</code></span></summary><div><table><thead><tr></tr></thead><tbody><tr><td>Name</td><td>get_Head</td></tr><tr><td>DeclaringType</td><td>Microsoft.FSharp.Collections.FSharpList`1[T]</td></tr><tr><td>ReflectedType</td><td>Microsoft.FSharp.Collections.FSharpList`1[T]</td></tr><tr><td>MemberType</td><td>Method</td></tr><tr><td>MetadataToken</td><td>100663766</td></tr><tr><td>Module</td><td>FSharp.Core.dll</td></tr><tr><td>IsSecurityCritical</td><td>True</td></tr><tr><td>IsSecuritySafeCritical</td><td>False</td></tr><tr><td>IsSecurityTransparent</td><td>False</td></tr><tr><td>MethodHandle</td><td>System.RuntimeMethodHandle</td></tr><tr><td>Attributes</td><td>PrivateScope, Public, HideBySig, SpecialName</td></tr><tr><td>CallingConvention</td><td>Standard, HasThis</td></tr><tr><td>ReturnType</td><td>T</td></tr><tr><td>ReturnTypeCustomAttributes</td><td>T</td></tr><tr><td>ReturnParameter</td><td>T</td></tr><tr><td>IsCollectible</td><td>False</td></tr><tr><td>IsGenericMethod</td><td>False</td></tr><tr><td>IsGenericMethodDefinition</td><td>False</td></tr><tr><td>ContainsGenericParameters</td><td>True</td></tr><tr><td>MethodImplementationFlags</td><td>IL</td></tr><tr><td>IsAbstract</td><td>False</td></tr><tr><td>IsConstructor</td><td>False</td></tr><tr><td>IsFinal</td><td>False</td></tr><tr><td>IsHideBySig</td><td>True</td></tr><tr><td>IsSpecialName</td><td>True</td></tr><tr><td>IsStatic</td><td>False</td></tr><tr><td>IsVirtual</td><td>False</td></tr><tr><td>IsAssembly</td><td>False</td></tr><tr><td>IsFamily</td><td>False</td></tr><tr><td>IsFamilyAndAssembly</td><td>False</td></tr><tr><td>IsFamilyOrAssembly</td><td>False</td></tr><tr><td>IsPrivate</td><td>False</td></tr><tr><td>IsPublic</td><td>True</td></tr><tr><td>IsConstructedGenericMethod</td><td>False</td></tr><tr><td>CustomAttributes</td><td>[  ]</td></tr></tbody></table></div></details></td></tr><tr><td>Position</td><td><div class=\"dni-plaintext\"><pre>-1</pre></div></td></tr><tr><td>IsIn</td><td><div class=\"dni-plaintext\"><pre>False</pre></div></td></tr><tr><td>IsLcid</td><td><div class=\"dni-plaintext\"><pre>False</pre></div></td></tr><tr><td>IsOptional</td><td><div class=\"dni-plaintext\"><pre>False</pre></div></td></tr><tr><td>IsOut</td><td><div class=\"dni-plaintext\"><pre>False</pre></div></td></tr><tr><td>IsRetval</td><td><div class=\"dni-plaintext\"><pre>False</pre></div></td></tr><tr><td>CustomAttributes</td><td><i>(empty)</i></td></tr></tbody></table></div></details></td></tr><tr><td>IsCollectible</td><td><div class=\"dni-plaintext\"><pre>False</pre></div></td></tr><tr><td>IsGenericMethod</td><td><div class=\"dni-plaintext\"><pre>False</pre></div></td></tr><tr><td>IsGenericMethodDefinition</td><td><div class=\"dni-plaintext\"><pre>False</pre></div></td></tr><tr><td>ContainsGenericParameters</td><td><div class=\"dni-plaintext\"><pre>True</pre></div></td></tr><tr><td>MethodImplementationFlags</td><td><span>IL</span></td></tr><tr><td>IsAbstract</td><td><div class=\"dni-plaintext\"><pre>False</pre></div></td></tr><tr><td>IsConstructor</td><td><div class=\"dni-plaintext\"><pre>False</pre></div></td></tr><tr><td>IsFinal</td><td><div class=\"dni-plaintext\"><pre>False</pre></div></td></tr><tr><td>IsHideBySig</td><td><div class=\"dni-plaintext\"><pre>True</pre></div></td></tr><tr><td>IsSpecialName</td><td><div class=\"dni-plaintext\"><pre>True</pre></div></td></tr><tr><td>IsStatic</td><td><div class=\"dni-plaintext\"><pre>False</pre></div></td></tr><tr><td>IsVirtual</td><td><div class=\"dni-plaintext\"><pre>False</pre></div></td></tr><tr><td>IsAssembly</td><td><div class=\"dni-plaintext\"><pre>False</pre></div></td></tr><tr><td>IsFamily</td><td><div class=\"dni-plaintext\"><pre>False</pre></div></td></tr><tr><td>IsFamilyAndAssembly</td><td><div class=\"dni-plaintext\"><pre>False</pre></div></td></tr><tr><td>IsFamilyOrAssembly</td><td><div class=\"dni-plaintext\"><pre>False</pre></div></td></tr><tr><td>IsPrivate</td><td><div class=\"dni-plaintext\"><pre>False</pre></div></td></tr><tr><td>IsPublic</td><td><div class=\"dni-plaintext\"><pre>True</pre></div></td></tr><tr><td>IsConstructedGenericMethod</td><td><div class=\"dni-plaintext\"><pre>False</pre></div></td></tr><tr><td>CustomAttributes</td><td><i>(empty)</i></td></tr></tbody></table></div></details></td></tr><tr><td>Message</td><td><div class=\"dni-plaintext\"><pre>The input list was empty.</pre></div></td></tr><tr><td>Data</td><td><i>(empty)</i></td></tr><tr><td>InnerException</td><td><div class=\"dni-plaintext\"><pre>&lt;null&gt;</pre></div></td></tr><tr><td>HelpLink</td><td><div class=\"dni-plaintext\"><pre>&lt;null&gt;</pre></div></td></tr><tr><td>Source</td><td><div class=\"dni-plaintext\"><pre>FSharp.Core</pre></div></td></tr><tr><td>HResult</td><td><div class=\"dni-plaintext\"><pre>-2146233079</pre></div></td></tr><tr><td>StackTrace</td><td><div class=\"dni-plaintext\"><pre>   at Microsoft.FSharp.Collections.FSharpList`1.get_Head() in D:\\a\\_work\\1\\s\\src\\FSharp.Core\\prim-types.fs:line 4136\r\n",
       "   at lambda_method422(Closure, FSharpList`1)\r\n",
       "   at Microsoft.DotNet.Interactive.Formatting.MemberAccessor`1.GetValueOrException(T instance) in D:\\a\\_work\\1\\s\\src\\Microsoft.DotNet.Interactive.Formatting\\MemberAccessor{T}.cs:line 64</pre></div></td></tr></tbody></table></div></details></td></tr><tr><td>Tail</td><td><details class=\"dni-treeview\"><summary><span class=\"dni-code-hint\"><code>System.InvalidOperationException: The input list was empty.\\r\\n   at Microsoft.FSharp.Collections.FSharpList`1.get_Tail() in D:\\a\\_work\\1\\s\\src\\FSharp.Core\\prim-types.fs:line 4141\\r\\n   at lambda_method423(Closure, FSharpList`1)\\r\\n   at Microsoft.DotNet.Interactive.Formatting.MemberAccessor`1.GetVa...</code></span></summary><div><table><thead><tr></tr></thead><tbody><tr><td>TargetSite</td><td><details class=\"dni-treeview\"><summary><span class=\"dni-code-hint\"><code>Microsoft.FSharp.Collections.FSharpList`1[T] get_Tail()</code></span></summary><div><table><thead><tr></tr></thead><tbody><tr><td>Name</td><td><div class=\"dni-plaintext\"><pre>get_Tail</pre></div></td></tr><tr><td>DeclaringType</td><td><span><a href=\"https://docs.microsoft.com/dotnet/api/microsoft.fsharp.collections.fsharplist-1?view=net-7.0\">Microsoft.FSharp.Collections.FSharpList&lt;T&gt;</a></span></td></tr><tr><td>ReflectedType</td><td><span><a href=\"https://docs.microsoft.com/dotnet/api/microsoft.fsharp.collections.fsharplist-1?view=net-7.0\">Microsoft.FSharp.Collections.FSharpList&lt;T&gt;</a></span></td></tr><tr><td>MemberType</td><td><span>Method</span></td></tr><tr><td>MetadataToken</td><td><div class=\"dni-plaintext\"><pre>100663767</pre></div></td></tr><tr><td>Module</td><td><details class=\"dni-treeview\"><summary><span class=\"dni-code-hint\"><code>FSharp.Core.dll</code></span></summary><div><table><thead><tr></tr></thead><tbody><tr><td>MDStreamVersion</td><td><div class=\"dni-plaintext\"><pre>131072</pre></div></td></tr><tr><td>FullyQualifiedName</td><td><div class=\"dni-plaintext\"><pre>C:\\Users\\Private\\.nuget\\packages\\microsoft.dotnet-interactive\\1.0.456201\\tools\\net7.0\\any\\FSharp.Core.dll</pre></div></td></tr><tr><td>ModuleVersionId</td><td><div class=\"dni-plaintext\"><pre>6dbe05a8-5c53-690c-c522-0b7a960bbd24</pre></div></td></tr><tr><td>MetadataToken</td><td><div class=\"dni-plaintext\"><pre>1</pre></div></td></tr><tr><td>ScopeName</td><td><div class=\"dni-plaintext\"><pre>FSharp.Core.dll</pre></div></td></tr><tr><td>Name</td><td><div class=\"dni-plaintext\"><pre>FSharp.Core.dll</pre></div></td></tr><tr><td>Assembly</td><td><details class=\"dni-treeview\"><summary><span class=\"dni-code-hint\"><code>FSharp.Core, Version=7.0.0.0, Culture=neutral, PublicKeyToken=b03f5f7f11d50a3a</code></span></summary><div><table><thead><tr></tr></thead><tbody><tr><td>CodeBase</td><td>file:///C:/Users/Private/.nuget/packages/microsoft.dotnet-interactive/1.0.456201/tools/net7.0/any/FSharp.Core.dll</td></tr><tr><td>FullName</td><td>FSharp.Core, Version=7.0.0.0, Culture=neutral, PublicKeyToken=b03f5f7f11d50a3a</td></tr><tr><td>EntryPoint</td><td><div class=\"dni-plaintext\"><pre>&lt;null&gt;</pre></div></td></tr><tr><td>DefinedTypes</td><td>[ Microsoft.FSharp.Core.Unit, Microsoft.FSharp.Core.SourceConstructFlags, Microsoft.FSharp.Core.CompilationRepresentationFlags, Microsoft.FSharp.Core.SealedAttribute, Microsoft.FSharp.Core.AbstractClassAttribute, Microsoft.FSharp.Core.EqualityConditionalOnAttribute, Microsoft.FSharp.Core.ComparisonConditionalOnAttribute, Microsoft.FSharp.Core.AllowNullLiteralAttribute, Microsoft.FSharp.Core.VolatileFieldAttribute, Microsoft.FSharp.Core.DefaultAugmentationAttribute, Microsoft.FSharp.Core.CLIEventAttribute, Microsoft.FSharp.Core.CLIMutableAttribute, Microsoft.FSharp.Core.AutoSerializableAttribute, Microsoft.FSharp.Core.DefaultValueAttribute, Microsoft.FSharp.Core.EntryPointAttribute, Microsoft.FSharp.Core.ReferenceEqualityAttribute, Microsoft.FSharp.Core.StructuralComparisonAttribute, Microsoft.FSharp.Core.StructuralEqualityAttribute, Microsoft.FSharp.Core.NoEqualityAttribute, Microsoft.FSharp.Core.CustomEqualityAttribute ... (2190 more) ]</td></tr><tr><td>IsCollectible</td><td>False</td></tr><tr><td>ManifestModule</td><td>FSharp.Core.dll</td></tr><tr><td>ReflectionOnly</td><td>False</td></tr><tr><td>Location</td><td>C:\\Users\\Private\\.nuget\\packages\\microsoft.dotnet-interactive\\1.0.456201\\tools\\net7.0\\any\\FSharp.Core.dll</td></tr><tr><td>ImageRuntimeVersion</td><td>v4.0.30319</td></tr><tr><td>GlobalAssemblyCache</td><td>False</td></tr><tr><td>HostContext</td><td>0</td></tr><tr><td>IsDynamic</td><td>False</td></tr><tr><td>ExportedTypes</td><td>[ Microsoft.FSharp.Core.Unit, Microsoft.FSharp.Core.SourceConstructFlags, Microsoft.FSharp.Core.CompilationRepresentationFlags, Microsoft.FSharp.Core.SealedAttribute, Microsoft.FSharp.Core.AbstractClassAttribute, Microsoft.FSharp.Core.EqualityConditionalOnAttribute, Microsoft.FSharp.Core.ComparisonConditionalOnAttribute, Microsoft.FSharp.Core.AllowNullLiteralAttribute, Microsoft.FSharp.Core.VolatileFieldAttribute, Microsoft.FSharp.Core.DefaultAugmentationAttribute, Microsoft.FSharp.Core.CLIEventAttribute, Microsoft.FSharp.Core.CLIMutableAttribute, Microsoft.FSharp.Core.AutoSerializableAttribute, Microsoft.FSharp.Core.DefaultValueAttribute, Microsoft.FSharp.Core.EntryPointAttribute, Microsoft.FSharp.Core.ReferenceEqualityAttribute, Microsoft.FSharp.Core.StructuralComparisonAttribute, Microsoft.FSharp.Core.StructuralEqualityAttribute, Microsoft.FSharp.Core.NoEqualityAttribute, Microsoft.FSharp.Core.CustomEqualityAttribute ... (214 more) ]</td></tr><tr><td>IsFullyTrusted</td><td>True</td></tr><tr><td>CustomAttributes</td><td>[ [Microsoft.FSharp.Core.FSharpInterfaceDataVersionAttribute((Int32)2, (Int32)0, (Int32)0)], [System.Runtime.Versioning.TargetFrameworkAttribute(\".NETStandard,Version=v2.1\", FrameworkDisplayName = \".NET Standard 2.1\")], [System.Reflection.AssemblyCompanyAttribute(\"Microsoft Corporation\")], [System.Reflection.AssemblyConfigurationAttribute(\"Release\")], [System.Reflection.AssemblyCopyrightAttribute(\"© Microsoft Corporation. All rights reserved.\")], [System.Reflection.AssemblyFileVersionAttribute(\"7.4.23.36405\")], [System.Reflection.AssemblyInformationalVersionAttribute(\"7.0.400-beta.23364.5+159a701477f5ca1e2d960e9bf79ce05769b3c671\")], [System.Reflection.AssemblyProductAttribute(\"FSharp.Core\")], [System.Reflection.AssemblyTitleAttribute(\"FSharp.Core\")], [System.Reflection.AssemblyMetadataAttribute(\"RepositoryUrl\", \"https://github.com/dotnet/fsharp\")], [System.Resources.NeutralResourcesLanguageAttribute(\"en-US\")], [System.Runtime.InteropServices.ComVisibleAttribute((Boolean)False)], [System.CLSCompliantAttribute((Boolean)True)], [System.Security.SecurityTransparentAttribute()], [Microsoft.FSharp.Core.AutoOpenAttribute(\"Microsoft.FSharp\")], [Microsoft.FSharp.Core.AutoOpenAttribute(\"Microsoft.FSharp.Core.LanguagePrimitives.IntrinsicOperators\")], [Microsoft.FSharp.Core.AutoOpenAttribute(\"Microsoft.FSharp.Core\")], [Microsoft.FSharp.Core.AutoOpenAttribute(\"Microsoft.FSharp.Collections\")], [Microsoft.FSharp.Core.AutoOpenAttribute(\"Microsoft.FSharp.Control\")], [Microsoft.FSharp.Core.AutoOpenAttribute(\"Microsoft.FSharp.Control.TaskBuilderExtensions.LowPriority\")] ... (5 more) ]</td></tr><tr><td>EscapedCodeBase</td><td>file:///C:/Users/Private/.nuget/packages/microsoft.dotnet-interactive/1.0.456201/tools/net7.0/any/FSharp.Core.dll</td></tr><tr><td>Modules</td><td>[ FSharp.Core.dll ]</td></tr><tr><td>SecurityRuleSet</td><td>None</td></tr></tbody></table></div></details></td></tr><tr><td>ModuleHandle</td><td><details class=\"dni-treeview\"><summary><span class=\"dni-code-hint\"><code>System.ModuleHandle</code></span></summary><div><table><thead><tr></tr></thead><tbody><tr><td>MDStreamVersion</td><td>131072</td></tr></tbody></table></div></details></td></tr><tr><td>CustomAttributes</td><td><i>(empty)</i></td></tr></tbody></table></div></details></td></tr><tr><td>IsSecurityCritical</td><td><div class=\"dni-plaintext\"><pre>True</pre></div></td></tr><tr><td>IsSecuritySafeCritical</td><td><div class=\"dni-plaintext\"><pre>False</pre></div></td></tr><tr><td>IsSecurityTransparent</td><td><div class=\"dni-plaintext\"><pre>False</pre></div></td></tr><tr><td>MethodHandle</td><td><details class=\"dni-treeview\"><summary><span class=\"dni-code-hint\"><code>System.RuntimeMethodHandle</code></span></summary><div><table><thead><tr></tr></thead><tbody><tr><td>Value</td><td><div class=\"dni-plaintext\"><pre>140703186481496</pre></div></td></tr></tbody></table></div></details></td></tr><tr><td>Attributes</td><td><span>PrivateScope, Public, HideBySig, SpecialName</span></td></tr><tr><td>CallingConvention</td><td><span>Standard, HasThis</span></td></tr><tr><td>ReturnType</td><td><span><a href=\"https://docs.microsoft.com/dotnet/api/microsoft.fsharp.collections.fsharplist-1?view=net-7.0\">Microsoft.FSharp.Collections.FSharpList&lt;T&gt;</a></span></td></tr><tr><td>ReturnTypeCustomAttributes</td><td><details class=\"dni-treeview\"><summary><span class=\"dni-code-hint\"><code>Microsoft.FSharp.Collections.FSharpList`1[T]</code></span></summary><div><table><thead><tr></tr></thead><tbody><tr><td>ParameterType</td><td><span><a href=\"https://docs.microsoft.com/dotnet/api/microsoft.fsharp.collections.fsharplist-1?view=net-7.0\">Microsoft.FSharp.Collections.FSharpList&lt;T&gt;</a></span></td></tr><tr><td>Name</td><td><div class=\"dni-plaintext\"><pre>&lt;null&gt;</pre></div></td></tr><tr><td>HasDefaultValue</td><td><div class=\"dni-plaintext\"><pre>True</pre></div></td></tr><tr><td>DefaultValue</td><td><div class=\"dni-plaintext\"><pre>&lt;null&gt;</pre></div></td></tr><tr><td>RawDefaultValue</td><td><div class=\"dni-plaintext\"><pre>&lt;null&gt;</pre></div></td></tr><tr><td>MetadataToken</td><td><div class=\"dni-plaintext\"><pre>134217728</pre></div></td></tr><tr><td>Attributes</td><td><span>None</span></td></tr><tr><td>Member</td><td><details class=\"dni-treeview\"><summary><span class=\"dni-code-hint\"><code>Microsoft.FSharp.Collections.FSharpList`1[T] get_Tail()</code></span></summary><div><table><thead><tr></tr></thead><tbody><tr><td>Name</td><td>get_Tail</td></tr><tr><td>DeclaringType</td><td>Microsoft.FSharp.Collections.FSharpList`1[T]</td></tr><tr><td>ReflectedType</td><td>Microsoft.FSharp.Collections.FSharpList`1[T]</td></tr><tr><td>MemberType</td><td>Method</td></tr><tr><td>MetadataToken</td><td>100663767</td></tr><tr><td>Module</td><td>FSharp.Core.dll</td></tr><tr><td>IsSecurityCritical</td><td>True</td></tr><tr><td>IsSecuritySafeCritical</td><td>False</td></tr><tr><td>IsSecurityTransparent</td><td>False</td></tr><tr><td>MethodHandle</td><td>System.RuntimeMethodHandle</td></tr><tr><td>Attributes</td><td>PrivateScope, Public, HideBySig, SpecialName</td></tr><tr><td>CallingConvention</td><td>Standard, HasThis</td></tr><tr><td>ReturnType</td><td>Microsoft.FSharp.Collections.FSharpList`1[T]</td></tr><tr><td>ReturnTypeCustomAttributes</td><td>Microsoft.FSharp.Collections.FSharpList`1[T]</td></tr><tr><td>ReturnParameter</td><td>Microsoft.FSharp.Collections.FSharpList`1[T]</td></tr><tr><td>IsCollectible</td><td>False</td></tr><tr><td>IsGenericMethod</td><td>False</td></tr><tr><td>IsGenericMethodDefinition</td><td>False</td></tr><tr><td>ContainsGenericParameters</td><td>True</td></tr><tr><td>MethodImplementationFlags</td><td>IL</td></tr><tr><td>IsAbstract</td><td>False</td></tr><tr><td>IsConstructor</td><td>False</td></tr><tr><td>IsFinal</td><td>False</td></tr><tr><td>IsHideBySig</td><td>True</td></tr><tr><td>IsSpecialName</td><td>True</td></tr><tr><td>IsStatic</td><td>False</td></tr><tr><td>IsVirtual</td><td>False</td></tr><tr><td>IsAssembly</td><td>False</td></tr><tr><td>IsFamily</td><td>False</td></tr><tr><td>IsFamilyAndAssembly</td><td>False</td></tr><tr><td>IsFamilyOrAssembly</td><td>False</td></tr><tr><td>IsPrivate</td><td>False</td></tr><tr><td>IsPublic</td><td>True</td></tr><tr><td>IsConstructedGenericMethod</td><td>False</td></tr><tr><td>CustomAttributes</td><td>[  ]</td></tr></tbody></table></div></details></td></tr><tr><td>Position</td><td><div class=\"dni-plaintext\"><pre>-1</pre></div></td></tr><tr><td>IsIn</td><td><div class=\"dni-plaintext\"><pre>False</pre></div></td></tr><tr><td>IsLcid</td><td><div class=\"dni-plaintext\"><pre>False</pre></div></td></tr><tr><td>IsOptional</td><td><div class=\"dni-plaintext\"><pre>False</pre></div></td></tr><tr><td>IsOut</td><td><div class=\"dni-plaintext\"><pre>False</pre></div></td></tr><tr><td>IsRetval</td><td><div class=\"dni-plaintext\"><pre>False</pre></div></td></tr><tr><td>CustomAttributes</td><td><i>(empty)</i></td></tr></tbody></table></div></details></td></tr><tr><td>ReturnParameter</td><td><details class=\"dni-treeview\"><summary><span class=\"dni-code-hint\"><code>Microsoft.FSharp.Collections.FSharpList`1[T]</code></span></summary><div><table><thead><tr></tr></thead><tbody><tr><td>ParameterType</td><td><span><a href=\"https://docs.microsoft.com/dotnet/api/microsoft.fsharp.collections.fsharplist-1?view=net-7.0\">Microsoft.FSharp.Collections.FSharpList&lt;T&gt;</a></span></td></tr><tr><td>Name</td><td><div class=\"dni-plaintext\"><pre>&lt;null&gt;</pre></div></td></tr><tr><td>HasDefaultValue</td><td><div class=\"dni-plaintext\"><pre>True</pre></div></td></tr><tr><td>DefaultValue</td><td><div class=\"dni-plaintext\"><pre>&lt;null&gt;</pre></div></td></tr><tr><td>RawDefaultValue</td><td><div class=\"dni-plaintext\"><pre>&lt;null&gt;</pre></div></td></tr><tr><td>MetadataToken</td><td><div class=\"dni-plaintext\"><pre>134217728</pre></div></td></tr><tr><td>Attributes</td><td><span>None</span></td></tr><tr><td>Member</td><td><details class=\"dni-treeview\"><summary><span class=\"dni-code-hint\"><code>Microsoft.FSharp.Collections.FSharpList`1[T] get_Tail()</code></span></summary><div><table><thead><tr></tr></thead><tbody><tr><td>Name</td><td>get_Tail</td></tr><tr><td>DeclaringType</td><td>Microsoft.FSharp.Collections.FSharpList`1[T]</td></tr><tr><td>ReflectedType</td><td>Microsoft.FSharp.Collections.FSharpList`1[T]</td></tr><tr><td>MemberType</td><td>Method</td></tr><tr><td>MetadataToken</td><td>100663767</td></tr><tr><td>Module</td><td>FSharp.Core.dll</td></tr><tr><td>IsSecurityCritical</td><td>True</td></tr><tr><td>IsSecuritySafeCritical</td><td>False</td></tr><tr><td>IsSecurityTransparent</td><td>False</td></tr><tr><td>MethodHandle</td><td>System.RuntimeMethodHandle</td></tr><tr><td>Attributes</td><td>PrivateScope, Public, HideBySig, SpecialName</td></tr><tr><td>CallingConvention</td><td>Standard, HasThis</td></tr><tr><td>ReturnType</td><td>Microsoft.FSharp.Collections.FSharpList`1[T]</td></tr><tr><td>ReturnTypeCustomAttributes</td><td>Microsoft.FSharp.Collections.FSharpList`1[T]</td></tr><tr><td>ReturnParameter</td><td>Microsoft.FSharp.Collections.FSharpList`1[T]</td></tr><tr><td>IsCollectible</td><td>False</td></tr><tr><td>IsGenericMethod</td><td>False</td></tr><tr><td>IsGenericMethodDefinition</td><td>False</td></tr><tr><td>ContainsGenericParameters</td><td>True</td></tr><tr><td>MethodImplementationFlags</td><td>IL</td></tr><tr><td>IsAbstract</td><td>False</td></tr><tr><td>IsConstructor</td><td>False</td></tr><tr><td>IsFinal</td><td>False</td></tr><tr><td>IsHideBySig</td><td>True</td></tr><tr><td>IsSpecialName</td><td>True</td></tr><tr><td>IsStatic</td><td>False</td></tr><tr><td>IsVirtual</td><td>False</td></tr><tr><td>IsAssembly</td><td>False</td></tr><tr><td>IsFamily</td><td>False</td></tr><tr><td>IsFamilyAndAssembly</td><td>False</td></tr><tr><td>IsFamilyOrAssembly</td><td>False</td></tr><tr><td>IsPrivate</td><td>False</td></tr><tr><td>IsPublic</td><td>True</td></tr><tr><td>IsConstructedGenericMethod</td><td>False</td></tr><tr><td>CustomAttributes</td><td>[  ]</td></tr></tbody></table></div></details></td></tr><tr><td>Position</td><td><div class=\"dni-plaintext\"><pre>-1</pre></div></td></tr><tr><td>IsIn</td><td><div class=\"dni-plaintext\"><pre>False</pre></div></td></tr><tr><td>IsLcid</td><td><div class=\"dni-plaintext\"><pre>False</pre></div></td></tr><tr><td>IsOptional</td><td><div class=\"dni-plaintext\"><pre>False</pre></div></td></tr><tr><td>IsOut</td><td><div class=\"dni-plaintext\"><pre>False</pre></div></td></tr><tr><td>IsRetval</td><td><div class=\"dni-plaintext\"><pre>False</pre></div></td></tr><tr><td>CustomAttributes</td><td><i>(empty)</i></td></tr></tbody></table></div></details></td></tr><tr><td>IsCollectible</td><td><div class=\"dni-plaintext\"><pre>False</pre></div></td></tr><tr><td>IsGenericMethod</td><td><div class=\"dni-plaintext\"><pre>False</pre></div></td></tr><tr><td>IsGenericMethodDefinition</td><td><div class=\"dni-plaintext\"><pre>False</pre></div></td></tr><tr><td>ContainsGenericParameters</td><td><div class=\"dni-plaintext\"><pre>True</pre></div></td></tr><tr><td>MethodImplementationFlags</td><td><span>IL</span></td></tr><tr><td>IsAbstract</td><td><div class=\"dni-plaintext\"><pre>False</pre></div></td></tr><tr><td>IsConstructor</td><td><div class=\"dni-plaintext\"><pre>False</pre></div></td></tr><tr><td>IsFinal</td><td><div class=\"dni-plaintext\"><pre>False</pre></div></td></tr><tr><td>IsHideBySig</td><td><div class=\"dni-plaintext\"><pre>True</pre></div></td></tr><tr><td>IsSpecialName</td><td><div class=\"dni-plaintext\"><pre>True</pre></div></td></tr><tr><td>IsStatic</td><td><div class=\"dni-plaintext\"><pre>False</pre></div></td></tr><tr><td>IsVirtual</td><td><div class=\"dni-plaintext\"><pre>False</pre></div></td></tr><tr><td>IsAssembly</td><td><div class=\"dni-plaintext\"><pre>False</pre></div></td></tr><tr><td>IsFamily</td><td><div class=\"dni-plaintext\"><pre>False</pre></div></td></tr><tr><td>IsFamilyAndAssembly</td><td><div class=\"dni-plaintext\"><pre>False</pre></div></td></tr><tr><td>IsFamilyOrAssembly</td><td><div class=\"dni-plaintext\"><pre>False</pre></div></td></tr><tr><td>IsPrivate</td><td><div class=\"dni-plaintext\"><pre>False</pre></div></td></tr><tr><td>IsPublic</td><td><div class=\"dni-plaintext\"><pre>True</pre></div></td></tr><tr><td>IsConstructedGenericMethod</td><td><div class=\"dni-plaintext\"><pre>False</pre></div></td></tr><tr><td>CustomAttributes</td><td><i>(empty)</i></td></tr></tbody></table></div></details></td></tr><tr><td>Message</td><td><div class=\"dni-plaintext\"><pre>The input list was empty.</pre></div></td></tr><tr><td>Data</td><td><i>(empty)</i></td></tr><tr><td>InnerException</td><td><div class=\"dni-plaintext\"><pre>&lt;null&gt;</pre></div></td></tr><tr><td>HelpLink</td><td><div class=\"dni-plaintext\"><pre>&lt;null&gt;</pre></div></td></tr><tr><td>Source</td><td><div class=\"dni-plaintext\"><pre>FSharp.Core</pre></div></td></tr><tr><td>HResult</td><td><div class=\"dni-plaintext\"><pre>-2146233079</pre></div></td></tr><tr><td>StackTrace</td><td><div class=\"dni-plaintext\"><pre>   at Microsoft.FSharp.Collections.FSharpList`1.get_Tail() in D:\\a\\_work\\1\\s\\src\\FSharp.Core\\prim-types.fs:line 4141\r\n",
       "   at lambda_method423(Closure, FSharpList`1)\r\n",
       "   at Microsoft.DotNet.Interactive.Formatting.MemberAccessor`1.GetValueOrException(T instance) in D:\\a\\_work\\1\\s\\src\\Microsoft.DotNet.Interactive.Formatting\\MemberAccessor{T}.cs:line 64</pre></div></td></tr></tbody></table></div></details></td></tr><tr><td><i>(values)</i></td><td><i>(empty)</i></td></tr></tbody></table></div></details></td></tr><tr><td><i>(values)</i></td><td><table><thead><tr><th><i>index</i></th><th>value</th></tr></thead><tbody><tr><td>0</td><td><details class=\"dni-treeview\"><summary><span class=\"dni-code-hint\"><code>{ Start = 81u\\n  End = 94u\\n  Mapped = true }</code></span></summary><div><table><thead><tr></tr></thead><tbody><tr><td>Start</td><td><div class=\"dni-plaintext\"><pre>81</pre></div></td></tr><tr><td>End</td><td><div class=\"dni-plaintext\"><pre>94</pre></div></td></tr><tr><td>Mapped</td><td><div class=\"dni-plaintext\"><pre>True</pre></div></td></tr><tr><td>Mapped@</td><td><div class=\"dni-plaintext\"><pre>True</pre></div></td></tr></tbody></table></div></details></td></tr></tbody></table></td></tr></tbody></table></div></details><style>\r\n",
       ".dni-code-hint {\r\n",
       "    font-style: italic;\r\n",
       "    overflow: hidden;\r\n",
       "    white-space: nowrap;\r\n",
       "}\r\n",
       ".dni-treeview {\r\n",
       "    white-space: nowrap;\r\n",
       "}\r\n",
       ".dni-treeview td {\r\n",
       "    vertical-align: top;\r\n",
       "    text-align: start;\r\n",
       "}\r\n",
       "details.dni-treeview {\r\n",
       "    padding-left: 1em;\r\n",
       "}\r\n",
       "table td {\r\n",
       "    text-align: start;\r\n",
       "}\r\n",
       "table tr { \r\n",
       "    vertical-align: top; \r\n",
       "    margin: 0em 0px;\r\n",
       "}\r\n",
       "table tr td pre \r\n",
       "{ \r\n",
       "    vertical-align: top !important; \r\n",
       "    margin: 0em 0px !important;\r\n",
       "} \r\n",
       "table th {\r\n",
       "    text-align: start;\r\n",
       "}\r\n",
       "</style>"
      ]
     },
     "metadata": {},
     "output_type": "display_data"
    }
   ],
   "source": [
    "mapThroughBlock next2 (testblocks[0]) (testRanges[0])"
   ]
  },
  {
   "cell_type": "code",
   "execution_count": 182,
   "metadata": {
    "dotnet_interactive": {
     "language": "fsharp"
    },
    "polyglot_notebook": {
     "kernelName": "fsharp"
    }
   },
   "outputs": [],
   "source": [
    "let rec getMinLocation next (blocks: ThingMap list) (ranges: Range list) = \n",
    "    match blocks with \n",
    "    | [] -> ranges \n",
    "    | block::rest -> \n",
    "        ranges \n",
    "        |> List.map (mapThroughBlock next block) \n",
    "        |> List.concat\n",
    "        |> List.map (fun x -> x.Mapped <- false; x)\n",
    "        |> getMinLocation next rest\n"
   ]
  },
  {
   "cell_type": "code",
   "execution_count": 133,
   "metadata": {
    "dotnet_interactive": {
     "language": "fsharp"
    },
    "polyglot_notebook": {
     "kernelName": "fsharp"
    }
   },
   "outputs": [],
   "source": [
    "let logger range = printfn $\"{range}\"; range"
   ]
  },
  {
   "cell_type": "code",
   "execution_count": null,
   "metadata": {
    "dotnet_interactive": {
     "language": "fsharp"
    },
    "polyglot_notebook": {
     "kernelName": "fsharp"
    }
   },
   "outputs": [],
   "source": [
    "getMinLocation next testblocks testRanges\n",
    "|> List.map (fun x -> x.Start) \n",
    "|> List.min"
   ]
  },
  {
   "cell_type": "code",
   "execution_count": 183,
   "metadata": {
    "dotnet_interactive": {
     "language": "fsharp"
    },
    "polyglot_notebook": {
     "kernelName": "fsharp"
    }
   },
   "outputs": [
    {
     "data": {
      "text/html": [
       "<div class=\"dni-plaintext\"><pre>46</pre></div><style>\r\n",
       ".dni-code-hint {\r\n",
       "    font-style: italic;\r\n",
       "    overflow: hidden;\r\n",
       "    white-space: nowrap;\r\n",
       "}\r\n",
       ".dni-treeview {\r\n",
       "    white-space: nowrap;\r\n",
       "}\r\n",
       ".dni-treeview td {\r\n",
       "    vertical-align: top;\r\n",
       "    text-align: start;\r\n",
       "}\r\n",
       "details.dni-treeview {\r\n",
       "    padding-left: 1em;\r\n",
       "}\r\n",
       "table td {\r\n",
       "    text-align: start;\r\n",
       "}\r\n",
       "table tr { \r\n",
       "    vertical-align: top; \r\n",
       "    margin: 0em 0px;\r\n",
       "}\r\n",
       "table tr td pre \r\n",
       "{ \r\n",
       "    vertical-align: top !important; \r\n",
       "    margin: 0em 0px !important;\r\n",
       "} \r\n",
       "table th {\r\n",
       "    text-align: start;\r\n",
       "}\r\n",
       "</style>"
      ]
     },
     "metadata": {},
     "output_type": "display_data"
    }
   ],
   "source": [
    "getMinLocation next2 testblocks testRanges\n",
    "|> List.map (fun x -> x.Start) \n",
    "|> List.min"
   ]
  },
  {
   "cell_type": "code",
   "execution_count": 187,
   "metadata": {
    "dotnet_interactive": {
     "language": "fsharp"
    },
    "polyglot_notebook": {
     "kernelName": "fsharp"
    }
   },
   "outputs": [
    {
     "data": {
      "text/html": [
       "<div class=\"dni-plaintext\"><pre>2008785</pre></div><style>\r\n",
       ".dni-code-hint {\r\n",
       "    font-style: italic;\r\n",
       "    overflow: hidden;\r\n",
       "    white-space: nowrap;\r\n",
       "}\r\n",
       ".dni-treeview {\r\n",
       "    white-space: nowrap;\r\n",
       "}\r\n",
       ".dni-treeview td {\r\n",
       "    vertical-align: top;\r\n",
       "    text-align: start;\r\n",
       "}\r\n",
       "details.dni-treeview {\r\n",
       "    padding-left: 1em;\r\n",
       "}\r\n",
       "table td {\r\n",
       "    text-align: start;\r\n",
       "}\r\n",
       "table tr { \r\n",
       "    vertical-align: top; \r\n",
       "    margin: 0em 0px;\r\n",
       "}\r\n",
       "table tr td pre \r\n",
       "{ \r\n",
       "    vertical-align: top !important; \r\n",
       "    margin: 0em 0px !important;\r\n",
       "} \r\n",
       "table th {\r\n",
       "    text-align: start;\r\n",
       "}\r\n",
       "</style>"
      ]
     },
     "metadata": {},
     "output_type": "display_data"
    }
   ],
   "source": [
    "getMinLocation next2 blocks ranges\n",
    "|> List.map (fun x -> x.Start) \n",
    "|> List.min"
   ]
  }
 ],
 "metadata": {
  "kernelspec": {
   "display_name": ".NET (C#)",
   "language": "C#",
   "name": ".net-csharp"
  },
  "language_info": {
   "name": "polyglot-notebook"
  },
  "polyglot_notebook": {
   "kernelInfo": {
    "defaultKernelName": "csharp",
    "items": [
     {
      "aliases": [],
      "name": "csharp"
     },
     {
      "aliases": [],
      "languageName": "fsharp",
      "name": "fsharp"
     }
    ]
   }
  }
 },
 "nbformat": 4,
 "nbformat_minor": 2
}
