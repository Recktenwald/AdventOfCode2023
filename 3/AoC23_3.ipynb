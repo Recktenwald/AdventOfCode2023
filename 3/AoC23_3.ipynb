{
 "cells": [
  {
   "cell_type": "markdown",
   "metadata": {},
   "source": [
    "## Part 1"
   ]
  },
  {
   "cell_type": "markdown",
   "metadata": {},
   "source": [
    "1. Find all symbol coordinates\n",
    "2. Find all find start and end coordinate of all numbers.\n",
    "3. For a number with coordinates [(i,j),(i,k)] check if there is a symbol in [(i-1,j-1), (i+1,k+1)]"
   ]
  },
  {
   "cell_type": "code",
   "execution_count": 9,
   "metadata": {
    "dotnet_interactive": {
     "language": "fsharp"
    },
    "polyglot_notebook": {
     "kernelName": "fsharp"
    }
   },
   "outputs": [],
   "source": [
    "let testData1 = \n",
    "    \"\"\"467..114..\n",
    "...*......\n",
    "..35..633.\n",
    "......#...\n",
    "617*......\n",
    ".....+.58.\n",
    "..592.....\n",
    "......755.\n",
    "...$.*....\n",
    ".664.598..\"\"\""
   ]
  },
  {
   "cell_type": "code",
   "execution_count": 1,
   "metadata": {
    "dotnet_interactive": {
     "language": "fsharp"
    },
    "polyglot_notebook": {
     "kernelName": "fsharp"
    }
   },
   "outputs": [],
   "source": [
    "open System\n",
    "open System.IO\n",
    "open System.Text.RegularExpressions"
   ]
  },
  {
   "cell_type": "code",
   "execution_count": 2,
   "metadata": {
    "dotnet_interactive": {
     "language": "fsharp"
    },
    "polyglot_notebook": {
     "kernelName": "fsharp"
    }
   },
   "outputs": [],
   "source": [
    "type Coordinate = {Row: int; Col: int} \n",
    "\n",
    "let getSymbolsInLine (rowNumber : int) (line: string) = \n",
    "    [for m in Regex.Matches(line,@\"[^\\d\\.]\") -> {Row = rowNumber; Col =m.Index}]"
   ]
  },
  {
   "cell_type": "code",
   "execution_count": 10,
   "metadata": {
    "dotnet_interactive": {
     "language": "fsharp"
    },
    "polyglot_notebook": {
     "kernelName": "fsharp"
    }
   },
   "outputs": [],
   "source": [
    "let test1Coordinates :Coordinate list = \n",
    "    testData1.Split(\"\\r\\n\")\n",
    "    |> List.ofArray\n",
    "    |> List.mapi (fun i line -> (getSymbolsInLine i line))\n",
    "    |> List.concat\n"
   ]
  },
  {
   "cell_type": "code",
   "execution_count": 3,
   "metadata": {
    "dotnet_interactive": {
     "language": "fsharp"
    },
    "polyglot_notebook": {
     "kernelName": "fsharp"
    }
   },
   "outputs": [],
   "source": [
    "type Number = {Row: int; StartCol: int; EndCol: int; Value : int}\n",
    "let getNumbersInLine (rowNumber : int) (line:string) =\n",
    "    [for m in Regex.Matches(line, @\"\\d+\") -> \n",
    "        {Row = rowNumber; StartCol = m.Index; EndCol =  m.Index + m.Length - 1; Value = System.Int32.Parse(m.Value)}]"
   ]
  },
  {
   "cell_type": "code",
   "execution_count": 12,
   "metadata": {
    "dotnet_interactive": {
     "language": "fsharp"
    },
    "polyglot_notebook": {
     "kernelName": "fsharp"
    }
   },
   "outputs": [],
   "source": [
    "let test1Numbers : Number list  = \n",
    "    testData1.Split(\"\\r\\n\") \n",
    "    |> List.ofArray \n",
    "    |> List.mapi (fun i line -> (getNumbersInLine i line))\n",
    "    |> List.concat"
   ]
  },
  {
   "cell_type": "code",
   "execution_count": 4,
   "metadata": {
    "dotnet_interactive": {
     "language": "fsharp"
    },
    "polyglot_notebook": {
     "kernelName": "fsharp"
    }
   },
   "outputs": [],
   "source": [
    "let includeNumber (symbols: Coordinate list) (number: Number)  : bool = \n",
    "    let symbolInBox (upperLeft: Coordinate) (lowerRight: Coordinate) (symbol: Coordinate)  = \n",
    "        symbol.Row>=upperLeft.Row \n",
    "        && symbol.Row<=lowerRight.Row \n",
    "        && symbol.Col>=upperLeft.Col\n",
    "        && symbol.Col<=lowerRight.Col\n",
    "    let upperLeft =\n",
    "        {Row = number.Row - 1; Col = number.StartCol - 1}\n",
    "    let lowerRight = \n",
    "        {Row = number.Row + 1; Col = number.EndCol + 1}\n",
    "    symbols\n",
    "    |> List.exists (symbolInBox upperLeft lowerRight)"
   ]
  },
  {
   "cell_type": "code",
   "execution_count": 74,
   "metadata": {
    "dotnet_interactive": {
     "language": "fsharp"
    },
    "polyglot_notebook": {
     "kernelName": "fsharp"
    }
   },
   "outputs": [
    {
     "data": {
      "text/html": [
       "<div class=\"dni-plaintext\"><pre>4361</pre></div><style>\r\n",
       ".dni-code-hint {\r\n",
       "    font-style: italic;\r\n",
       "    overflow: hidden;\r\n",
       "    white-space: nowrap;\r\n",
       "}\r\n",
       ".dni-treeview {\r\n",
       "    white-space: nowrap;\r\n",
       "}\r\n",
       ".dni-treeview td {\r\n",
       "    vertical-align: top;\r\n",
       "    text-align: start;\r\n",
       "}\r\n",
       "details.dni-treeview {\r\n",
       "    padding-left: 1em;\r\n",
       "}\r\n",
       "table td {\r\n",
       "    text-align: start;\r\n",
       "}\r\n",
       "table tr { \r\n",
       "    vertical-align: top; \r\n",
       "    margin: 0em 0px;\r\n",
       "}\r\n",
       "table tr td pre \r\n",
       "{ \r\n",
       "    vertical-align: top !important; \r\n",
       "    margin: 0em 0px !important;\r\n",
       "} \r\n",
       "table th {\r\n",
       "    text-align: start;\r\n",
       "}\r\n",
       "</style>"
      ]
     },
     "metadata": {},
     "output_type": "display_data"
    }
   ],
   "source": [
    "test1Numbers\n",
    "|> List.filter (includeNumber test1Coordinates)\n",
    "|> List.sumBy (fun x -> x.Value)"
   ]
  },
  {
   "cell_type": "code",
   "execution_count": 22,
   "metadata": {
    "dotnet_interactive": {
     "language": "fsharp"
    },
    "polyglot_notebook": {
     "kernelName": "fsharp"
    }
   },
   "outputs": [],
   "source": [
    "let input = File.ReadAllLines(\"input_3.txt\")\n",
    "let inputCoordinates = \n",
    "    input\n",
    "    |> List.ofArray\n",
    "    |> List.mapi (fun i line -> (getSymbolsInLine i line))\n",
    "    |> List.concat\n",
    "let inputNumbers = \n",
    "    input\n",
    "    |> List.ofArray \n",
    "    |> List.mapi (fun i line -> (getNumbersInLine i line))\n",
    "    |> List.concat"
   ]
  },
  {
   "cell_type": "code",
   "execution_count": 7,
   "metadata": {
    "dotnet_interactive": {
     "language": "fsharp"
    },
    "polyglot_notebook": {
     "kernelName": "fsharp"
    }
   },
   "outputs": [
    {
     "data": {
      "text/html": [
       "<div class=\"dni-plaintext\"><pre>543867</pre></div><style>\r\n",
       ".dni-code-hint {\r\n",
       "    font-style: italic;\r\n",
       "    overflow: hidden;\r\n",
       "    white-space: nowrap;\r\n",
       "}\r\n",
       ".dni-treeview {\r\n",
       "    white-space: nowrap;\r\n",
       "}\r\n",
       ".dni-treeview td {\r\n",
       "    vertical-align: top;\r\n",
       "    text-align: start;\r\n",
       "}\r\n",
       "details.dni-treeview {\r\n",
       "    padding-left: 1em;\r\n",
       "}\r\n",
       "table td {\r\n",
       "    text-align: start;\r\n",
       "}\r\n",
       "table tr { \r\n",
       "    vertical-align: top; \r\n",
       "    margin: 0em 0px;\r\n",
       "}\r\n",
       "table tr td pre \r\n",
       "{ \r\n",
       "    vertical-align: top !important; \r\n",
       "    margin: 0em 0px !important;\r\n",
       "} \r\n",
       "table th {\r\n",
       "    text-align: start;\r\n",
       "}\r\n",
       "</style>"
      ]
     },
     "metadata": {},
     "output_type": "display_data"
    }
   ],
   "source": [
    "inputNumbers\n",
    "|> List.filter (includeNumber inputCoordinates)\n",
    "|> List.sumBy (fun x -> x.Value)"
   ]
  },
  {
   "cell_type": "markdown",
   "metadata": {},
   "source": [
    "## Part 2"
   ]
  },
  {
   "cell_type": "code",
   "execution_count": 15,
   "metadata": {
    "dotnet_interactive": {
     "language": "fsharp"
    },
    "polyglot_notebook": {
     "kernelName": "fsharp"
    }
   },
   "outputs": [],
   "source": [
    "let getStarsInLine (rowNumber : int) (line: string) = \n",
    "    [for m in Regex.Matches(line,@\"\\*\") -> {Row = rowNumber; Col = m.Index}]"
   ]
  },
  {
   "cell_type": "code",
   "execution_count": 17,
   "metadata": {
    "dotnet_interactive": {
     "language": "fsharp"
    },
    "polyglot_notebook": {
     "kernelName": "fsharp"
    }
   },
   "outputs": [],
   "source": [
    "let test1Stars = \n",
    "    testData1.Split(\"\\r\\n\")\n",
    "    |> List.ofArray\n",
    "    |> List.mapi (fun i line -> (getStarsInLine i line))\n",
    "    |> List.concat"
   ]
  },
  {
   "cell_type": "code",
   "execution_count": 19,
   "metadata": {
    "dotnet_interactive": {
     "language": "fsharp"
    },
    "polyglot_notebook": {
     "kernelName": "fsharp"
    }
   },
   "outputs": [],
   "source": [
    "let getGearRatio (numbers: Number list) (star: Coordinate)=\n",
    "    match numbers |> List.filter (includeNumber [star]) with \n",
    "    | [x;y] -> x.Value * y.Value \n",
    "    | _ -> 0 "
   ]
  },
  {
   "cell_type": "code",
   "execution_count": 21,
   "metadata": {
    "dotnet_interactive": {
     "language": "fsharp"
    },
    "polyglot_notebook": {
     "kernelName": "fsharp"
    }
   },
   "outputs": [
    {
     "data": {
      "text/html": [
       "<div class=\"dni-plaintext\"><pre>467835</pre></div><style>\r\n",
       ".dni-code-hint {\r\n",
       "    font-style: italic;\r\n",
       "    overflow: hidden;\r\n",
       "    white-space: nowrap;\r\n",
       "}\r\n",
       ".dni-treeview {\r\n",
       "    white-space: nowrap;\r\n",
       "}\r\n",
       ".dni-treeview td {\r\n",
       "    vertical-align: top;\r\n",
       "    text-align: start;\r\n",
       "}\r\n",
       "details.dni-treeview {\r\n",
       "    padding-left: 1em;\r\n",
       "}\r\n",
       "table td {\r\n",
       "    text-align: start;\r\n",
       "}\r\n",
       "table tr { \r\n",
       "    vertical-align: top; \r\n",
       "    margin: 0em 0px;\r\n",
       "}\r\n",
       "table tr td pre \r\n",
       "{ \r\n",
       "    vertical-align: top !important; \r\n",
       "    margin: 0em 0px !important;\r\n",
       "} \r\n",
       "table th {\r\n",
       "    text-align: start;\r\n",
       "}\r\n",
       "</style>"
      ]
     },
     "metadata": {},
     "output_type": "display_data"
    }
   ],
   "source": [
    "test1Stars\n",
    "|> List.map (getGearRatio test1Numbers)\n",
    "|> List.sum"
   ]
  },
  {
   "cell_type": "code",
   "execution_count": 25,
   "metadata": {
    "dotnet_interactive": {
     "language": "fsharp"
    },
    "polyglot_notebook": {
     "kernelName": "fsharp"
    }
   },
   "outputs": [
    {
     "name": "stdout",
     "output_type": "stream",
     "text": [
      "Solution: 79613331\n",
      "8.094600\n"
     ]
    }
   ],
   "source": [
    "let inputStars = \n",
    "    input \n",
    "    |> List.ofArray\n",
    "    |> List.mapi (fun i line -> (getStarsInLine i line))\n",
    "    |> List.concat\n",
    "let stopWatch = System.Diagnostics.Stopwatch.StartNew()\n",
    "inputStars\n",
    "|> List.map (getGearRatio inputNumbers)\n",
    "|> List.sum\n",
    "|> printfn \"Solution: %d\"\n",
    "stopWatch.Stop() \n",
    "printfn \"%f\" stopWatch.Elapsed.TotalMilliseconds"
   ]
  }
 ],
 "metadata": {
  "kernelspec": {
   "display_name": ".NET (C#)",
   "language": "C#",
   "name": ".net-csharp"
  },
  "language_info": {
   "name": "polyglot-notebook"
  },
  "polyglot_notebook": {
   "kernelInfo": {
    "defaultKernelName": "csharp",
    "items": [
     {
      "aliases": [],
      "name": "csharp"
     },
     {
      "aliases": [],
      "languageName": "fsharp",
      "name": "fsharp"
     }
    ]
   }
  }
 },
 "nbformat": 4,
 "nbformat_minor": 2
}
