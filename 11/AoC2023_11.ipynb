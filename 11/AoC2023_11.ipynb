{
 "cells": [
  {
   "cell_type": "code",
   "execution_count": 8,
   "metadata": {
    "dotnet_interactive": {
     "language": "fsharp"
    },
    "polyglot_notebook": {
     "kernelName": "fsharp"
    }
   },
   "outputs": [],
   "source": [
    "open System\n",
    "open System.IO"
   ]
  },
  {
   "cell_type": "code",
   "execution_count": 7,
   "metadata": {
    "dotnet_interactive": {
     "language": "fsharp"
    },
    "polyglot_notebook": {
     "kernelName": "fsharp"
    }
   },
   "outputs": [],
   "source": [
    "let testInput = \"...#......\n",
    ".......#..\n",
    "#.........\n",
    "..........\n",
    "......#...\n",
    ".#........\n",
    ".........#\n",
    "..........\n",
    ".......#..\n",
    "#...#.....\""
   ]
  },
  {
   "cell_type": "code",
   "execution_count": 65,
   "metadata": {
    "dotnet_interactive": {
     "language": "fsharp"
    },
    "polyglot_notebook": {
     "kernelName": "fsharp"
    }
   },
   "outputs": [],
   "source": [
    "let transpose (xs: 't list list) = \n",
    "    List.init (xs[0]).Length (fun i ->\n",
    "        List.init xs.Length (fun j -> \n",
    "            xs[j][i]))\n",
    "\n",
    "let expandRows predicate matrix = \n",
    "    let rec helper rows result = \n",
    "        match rows with \n",
    "        | [] -> result \n",
    "        | r::rs -> if predicate r then helper rs (r::r::result) else helper rs (r::result)\n",
    "    helper matrix []\n",
    "    |> List.rev\n",
    "\n",
    "let allDistinctTuples (list: 'a list) = \n",
    "    let mutable result = []\n",
    "    for i = 0 to list.Length - 2 do \n",
    "        for j = i + 1 to list.Length - 1 do \n",
    "            result <- (list[i], list[j])::result\n",
    "    result\n",
    "let distance (x: Coordinate) (y: Coordinate) =\n",
    "    abs (x.Row - y.Row) + abs (x.Col - y.Col)\n",
    "type Coordinate = {Row: int; Col:int}\n",
    "\n",
    "\n",
    "\n"
   ]
  },
  {
   "cell_type": "code",
   "execution_count": 72,
   "metadata": {
    "dotnet_interactive": {
     "language": "fsharp"
    },
    "polyglot_notebook": {
     "kernelName": "fsharp"
    }
   },
   "outputs": [],
   "source": [
    "let solve (input: string) = \n",
    "    let smallGalaxy = \n",
    "        input.Trim().Split(\"\\n\")\n",
    "        |> List.ofArray\n",
    "        |> List.map (fun x -> x.Trim() |> List.ofSeq)\n",
    "    let expandedGalaxy = \n",
    "        smallGalaxy\n",
    "        |> expandRows (fun x -> x |> List.forall ((=) '.'))\n",
    "        |> transpose \n",
    "        |> expandRows (fun x -> x |> List.forall ((=) '.'))\n",
    "        |> transpose\n",
    "    let mutable galaxyCoordinates = []\n",
    "    expandedGalaxy \n",
    "    |> List.mapi (fun row cols ->\n",
    "            cols\n",
    "            |> List.mapi (fun col element ->\n",
    "                if element = '#' then \n",
    "                    galaxyCoordinates <- {Row=row; Col=col}::galaxyCoordinates\n",
    "            )\n",
    "        )\n",
    "    |> ignore\n",
    "    allDistinctTuples galaxyCoordinates\n",
    "    |> List.sumBy (fun (x,y) -> distance x y)\n"
   ]
  },
  {
   "cell_type": "code",
   "execution_count": 36,
   "metadata": {
    "dotnet_interactive": {
     "language": "fsharp"
    },
    "polyglot_notebook": {
     "kernelName": "fsharp"
    }
   },
   "outputs": [],
   "source": [
    "let prettyPrint matrix =\n",
    "    for r = 0 to List.length matrix - 1 do\n",
    "        printf \"\\n\"\n",
    "        for c = 0 to List.length matrix[r] - 1 do\n",
    "            printf \"%A \" (matrix[r][c])"
   ]
  },
  {
   "cell_type": "code",
   "execution_count": 73,
   "metadata": {
    "dotnet_interactive": {
     "language": "fsharp"
    },
    "polyglot_notebook": {
     "kernelName": "fsharp"
    }
   },
   "outputs": [
    {
     "data": {
      "text/html": [
       "<div class=\"dni-plaintext\"><pre>374</pre></div><style>\r\n",
       ".dni-code-hint {\r\n",
       "    font-style: italic;\r\n",
       "    overflow: hidden;\r\n",
       "    white-space: nowrap;\r\n",
       "}\r\n",
       ".dni-treeview {\r\n",
       "    white-space: nowrap;\r\n",
       "}\r\n",
       ".dni-treeview td {\r\n",
       "    vertical-align: top;\r\n",
       "    text-align: start;\r\n",
       "}\r\n",
       "details.dni-treeview {\r\n",
       "    padding-left: 1em;\r\n",
       "}\r\n",
       "table td {\r\n",
       "    text-align: start;\r\n",
       "}\r\n",
       "table tr { \r\n",
       "    vertical-align: top; \r\n",
       "    margin: 0em 0px;\r\n",
       "}\r\n",
       "table tr td pre \r\n",
       "{ \r\n",
       "    vertical-align: top !important; \r\n",
       "    margin: 0em 0px !important;\r\n",
       "} \r\n",
       "table th {\r\n",
       "    text-align: start;\r\n",
       "}\r\n",
       "</style>"
      ]
     },
     "metadata": {},
     "output_type": "display_data"
    }
   ],
   "source": [
    "solve testInput"
   ]
  },
  {
   "cell_type": "code",
   "execution_count": 9,
   "metadata": {
    "dotnet_interactive": {
     "language": "fsharp"
    },
    "polyglot_notebook": {
     "kernelName": "fsharp"
    }
   },
   "outputs": [],
   "source": [
    "let input = File.ReadAllText(\"input_11.txt\")"
   ]
  },
  {
   "cell_type": "code",
   "execution_count": 74,
   "metadata": {
    "dotnet_interactive": {
     "language": "fsharp"
    },
    "polyglot_notebook": {
     "kernelName": "fsharp"
    }
   },
   "outputs": [
    {
     "data": {
      "text/html": [
       "<div class=\"dni-plaintext\"><pre>10292708</pre></div><style>\r\n",
       ".dni-code-hint {\r\n",
       "    font-style: italic;\r\n",
       "    overflow: hidden;\r\n",
       "    white-space: nowrap;\r\n",
       "}\r\n",
       ".dni-treeview {\r\n",
       "    white-space: nowrap;\r\n",
       "}\r\n",
       ".dni-treeview td {\r\n",
       "    vertical-align: top;\r\n",
       "    text-align: start;\r\n",
       "}\r\n",
       "details.dni-treeview {\r\n",
       "    padding-left: 1em;\r\n",
       "}\r\n",
       "table td {\r\n",
       "    text-align: start;\r\n",
       "}\r\n",
       "table tr { \r\n",
       "    vertical-align: top; \r\n",
       "    margin: 0em 0px;\r\n",
       "}\r\n",
       "table tr td pre \r\n",
       "{ \r\n",
       "    vertical-align: top !important; \r\n",
       "    margin: 0em 0px !important;\r\n",
       "} \r\n",
       "table th {\r\n",
       "    text-align: start;\r\n",
       "}\r\n",
       "</style>"
      ]
     },
     "metadata": {},
     "output_type": "display_data"
    }
   ],
   "source": [
    "solve input"
   ]
  },
  {
   "cell_type": "code",
   "execution_count": 17,
   "metadata": {
    "dotnet_interactive": {
     "language": "fsharp"
    },
    "polyglot_notebook": {
     "kernelName": "fsharp"
    }
   },
   "outputs": [],
   "source": [
    "type Coordinate = {Row: int64; Col:int64} \n",
    "let transpose (xs: 't list list) = \n",
    "    List.init (xs[0]).Length (fun i ->\n",
    "        List.init xs.Length (fun j -> \n",
    "            xs[j][i]))\n",
    "\n",
    "\n",
    "let allDistinctTuples (list: 'a list) = \n",
    "    let mutable result = []\n",
    "    for i = 0 to list.Length - 2 do \n",
    "        for j = i + 1 to list.Length - 1 do \n",
    "            result <- (list[i], list[j])::result\n",
    "    result\n",
    "let distance (x: Coordinate) (y: Coordinate) =\n",
    "    // abs (x.Row - y.Row) + abs (x.Col - y.Col)\n",
    "    (max x.Row y.Row) - (min x.Row y.Row) + \n",
    "    (max x.Col y.Col) - (min x.Col y.Col)\n",
    "    \n",
    "let solve2 (multiplier: int64) (input: string) = \n",
    "    let smallGalaxy = \n",
    "        input.Trim().Split(\"\\n\")\n",
    "        |> List.ofArray\n",
    "        |> List.map (fun x -> x.Trim() |> List.ofSeq)\n",
    "    let emptyRows :int64 list = \n",
    "        smallGalaxy\n",
    "        |> List.mapi (fun i row ->\n",
    "            (int64 i, row |> List.forall (fun c -> c = '.')))\n",
    "        |> List.filter snd\n",
    "        |> List.map fst\n",
    "    let emptyCols : int64 list = \n",
    "        smallGalaxy\n",
    "        |> transpose\n",
    "        |> List.mapi (fun i row ->\n",
    "            (int64 i, row |> List.forall (fun c -> c = '.')))\n",
    "        |> List.filter snd\n",
    "        |> List.map fst\n",
    "    let mutable galaxyCoordinates = []\n",
    "    smallGalaxy \n",
    "    |> List.mapi (fun row cols ->\n",
    "            cols\n",
    "            |> List.mapi (fun col element ->\n",
    "                if element = '#' then \n",
    "                    galaxyCoordinates <- {Row=int64 row; Col=int64 col}::galaxyCoordinates\n",
    "            )\n",
    "        )\n",
    "    |> ignore\n",
    "    let distance2 x y = \n",
    "        let baseDistance = distance x y\n",
    "        let emptyRowsBetween:int64 = \n",
    "            emptyRows\n",
    "            |> List.filter (fun r -> min x.Row y.Row < r && r < max x.Row y.Row)\n",
    "            |> List.length \n",
    "            |> int64 \n",
    "        let emptyColsBetween :int64 = \n",
    "            emptyCols\n",
    "            |> List.filter (fun r -> min x.Col y.Col < r && r < max x.Col y.Col)\n",
    "            |> List.length \n",
    "            |> int64\n",
    "        baseDistance + emptyRowsBetween*(multiplier - 1L) + emptyColsBetween*(multiplier - 1L)\n",
    "\n",
    "    allDistinctTuples galaxyCoordinates\n",
    "    |> List.sumBy (fun (x,y) -> distance2 x y)\n",
    "    \n"
   ]
  },
  {
   "cell_type": "code",
   "execution_count": 10,
   "metadata": {
    "dotnet_interactive": {
     "language": "fsharp"
    },
    "polyglot_notebook": {
     "kernelName": "fsharp"
    }
   },
   "outputs": [
    {
     "data": {
      "text/html": [
       "<div class=\"dni-plaintext\"><pre>8410</pre></div><style>\r\n",
       ".dni-code-hint {\r\n",
       "    font-style: italic;\r\n",
       "    overflow: hidden;\r\n",
       "    white-space: nowrap;\r\n",
       "}\r\n",
       ".dni-treeview {\r\n",
       "    white-space: nowrap;\r\n",
       "}\r\n",
       ".dni-treeview td {\r\n",
       "    vertical-align: top;\r\n",
       "    text-align: start;\r\n",
       "}\r\n",
       "details.dni-treeview {\r\n",
       "    padding-left: 1em;\r\n",
       "}\r\n",
       "table td {\r\n",
       "    text-align: start;\r\n",
       "}\r\n",
       "table tr { \r\n",
       "    vertical-align: top; \r\n",
       "    margin: 0em 0px;\r\n",
       "}\r\n",
       "table tr td pre \r\n",
       "{ \r\n",
       "    vertical-align: top !important; \r\n",
       "    margin: 0em 0px !important;\r\n",
       "} \r\n",
       "table th {\r\n",
       "    text-align: start;\r\n",
       "}\r\n",
       "</style>"
      ]
     },
     "metadata": {},
     "output_type": "display_data"
    }
   ],
   "source": [
    "solve2 100u testInput"
   ]
  },
  {
   "cell_type": "code",
   "execution_count": 19,
   "metadata": {
    "dotnet_interactive": {
     "language": "fsharp"
    },
    "polyglot_notebook": {
     "kernelName": "fsharp"
    }
   },
   "outputs": [
    {
     "data": {
      "text/html": [
       "<div class=\"dni-plaintext\"><pre>790194712336</pre></div><style>\r\n",
       ".dni-code-hint {\r\n",
       "    font-style: italic;\r\n",
       "    overflow: hidden;\r\n",
       "    white-space: nowrap;\r\n",
       "}\r\n",
       ".dni-treeview {\r\n",
       "    white-space: nowrap;\r\n",
       "}\r\n",
       ".dni-treeview td {\r\n",
       "    vertical-align: top;\r\n",
       "    text-align: start;\r\n",
       "}\r\n",
       "details.dni-treeview {\r\n",
       "    padding-left: 1em;\r\n",
       "}\r\n",
       "table td {\r\n",
       "    text-align: start;\r\n",
       "}\r\n",
       "table tr { \r\n",
       "    vertical-align: top; \r\n",
       "    margin: 0em 0px;\r\n",
       "}\r\n",
       "table tr td pre \r\n",
       "{ \r\n",
       "    vertical-align: top !important; \r\n",
       "    margin: 0em 0px !important;\r\n",
       "} \r\n",
       "table th {\r\n",
       "    text-align: start;\r\n",
       "}\r\n",
       "</style>"
      ]
     },
     "metadata": {},
     "output_type": "display_data"
    }
   ],
   "source": [
    "solve2 1000000L input"
   ]
  },
  {
   "cell_type": "code",
   "execution_count": 20,
   "metadata": {
    "dotnet_interactive": {
     "language": "fsharp"
    },
    "polyglot_notebook": {
     "kernelName": "fsharp"
    }
   },
   "outputs": [
    {
     "ename": "Error",
     "evalue": "input.fsx (1,9)-(1,17) typecheck error The type 'List<_>' does not define the field, constructor or member 'Contains'. Maybe you want one of the following:\r\n   Containing\r\n   Cons",
     "output_type": "error",
     "traceback": [
      "input.fsx (1,9)-(1,17) typecheck error The type 'List<_>' does not define the field, constructor or member 'Contains'. Maybe you want one of the following:\r\n",
      "   Containing\r\n",
      "   Cons"
     ]
    }
   ],
   "source": []
  }
 ],
 "metadata": {
  "kernelspec": {
   "display_name": ".NET (C#)",
   "language": "C#",
   "name": ".net-csharp"
  },
  "language_info": {
   "name": "polyglot-notebook"
  },
  "polyglot_notebook": {
   "kernelInfo": {
    "defaultKernelName": "csharp",
    "items": [
     {
      "aliases": [],
      "name": "csharp"
     },
     {
      "aliases": [],
      "languageName": "fsharp",
      "name": "fsharp"
     }
    ]
   }
  }
 },
 "nbformat": 4,
 "nbformat_minor": 2
}
