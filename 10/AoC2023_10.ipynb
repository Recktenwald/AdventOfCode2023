{
 "cells": [
  {
   "cell_type": "code",
   "execution_count": 2,
   "metadata": {
    "dotnet_interactive": {
     "language": "fsharp"
    },
    "polyglot_notebook": {
     "kernelName": "fsharp"
    }
   },
   "outputs": [],
   "source": [
    "open System\n",
    "open System.IO"
   ]
  },
  {
   "cell_type": "code",
   "execution_count": 3,
   "metadata": {
    "dotnet_interactive": {
     "language": "fsharp"
    },
    "polyglot_notebook": {
     "kernelName": "fsharp"
    }
   },
   "outputs": [],
   "source": [
    "let testInput=\"\"\".....\n",
    ".S-7.\n",
    ".|.|.\n",
    ".L-J.\n",
    ".....\"\"\""
   ]
  },
  {
   "cell_type": "code",
   "execution_count": 4,
   "metadata": {
    "dotnet_interactive": {
     "language": "fsharp"
    },
    "polyglot_notebook": {
     "kernelName": "fsharp"
    }
   },
   "outputs": [],
   "source": [
    "let mapFromInput (str:String) =\n",
    "    let temp = \n",
    "        str.Trim().Split('\\n')\n",
    "        |> Array.map (fun x -> Array.ofSeq (x.Trim()))\n",
    "    Array2D.init temp.Length (temp[0].Length) (fun row col -> temp[row][col])\n",
    "let testMap = mapFromInput testInput"
   ]
  },
  {
   "cell_type": "code",
   "execution_count": 5,
   "metadata": {
    "dotnet_interactive": {
     "language": "fsharp"
    },
    "polyglot_notebook": {
     "kernelName": "fsharp"
    }
   },
   "outputs": [],
   "source": [
    "type Direction = \n",
    "    | Up\n",
    "    | Down\n",
    "    | Left\n",
    "    | Right\n",
    "type Position = {Row:int; Col:int; Looking: Direction}\n",
    "let nextPosition (pos:Position) (d:Direction) : Position = \n",
    "    match d with \n",
    "    | Up -> {pos with Row=pos.Row - 1}\n",
    "    | Down -> {pos with Row = pos.Row + 1}\n",
    "    | Left -> {pos with Col = pos.Col - 1}\n",
    "    | Right -> {pos with Col = pos.Col + 1}\n",
    "let nextDirection (pipe:Char) (d:Direction) = \n",
    "    match d, pipe with \n",
    "    | Right, 'J' -> Up\n",
    "    | Right, '7' -> Down\n",
    "    | Down, 'J' -> Left \n",
    "    | Down, 'L' -> Right\n",
    "    | Left, 'L' -> Up\n",
    "    | Left, 'F' -> Down\n",
    "    | Up, 'F' -> Right\n",
    "    | Up, '7' -> Left\n",
    "    | _ -> d // These are the cases where we go into a straight pipe\n",
    "\n"
   ]
  },
  {
   "cell_type": "code",
   "execution_count": 6,
   "metadata": {
    "dotnet_interactive": {
     "language": "fsharp"
    },
    "polyglot_notebook": {
     "kernelName": "fsharp"
    }
   },
   "outputs": [],
   "source": [
    "let stepInto (pipe:Char) (pos:Position) = \n",
    "    let newDirection = nextDirection pipe pos.Looking \n",
    "    {nextPosition pos pos.Looking with Looking = newDirection}"
   ]
  },
  {
   "cell_type": "code",
   "execution_count": 7,
   "metadata": {
    "dotnet_interactive": {
     "language": "fsharp"
    },
    "polyglot_notebook": {
     "kernelName": "fsharp"
    }
   },
   "outputs": [
    {
     "data": {
      "text/html": [
       "<details open=\"open\" class=\"dni-treeview\"><summary><span class=\"dni-code-hint\"><code>{ Row = 0\\n  Col = 0\\n  Looking = Down }</code></span></summary><div><table><thead><tr></tr></thead><tbody><tr><td>Row</td><td><div class=\"dni-plaintext\"><pre>0</pre></div></td></tr><tr><td>Col</td><td><div class=\"dni-plaintext\"><pre>0</pre></div></td></tr><tr><td>Looking</td><td><details class=\"dni-treeview\"><summary><span class=\"dni-code-hint\"><code>Down</code></span></summary><div><table><thead><tr></tr></thead><tbody></tbody></table></div></details></td></tr></tbody></table></div></details><style>\r\n",
       ".dni-code-hint {\r\n",
       "    font-style: italic;\r\n",
       "    overflow: hidden;\r\n",
       "    white-space: nowrap;\r\n",
       "}\r\n",
       ".dni-treeview {\r\n",
       "    white-space: nowrap;\r\n",
       "}\r\n",
       ".dni-treeview td {\r\n",
       "    vertical-align: top;\r\n",
       "    text-align: start;\r\n",
       "}\r\n",
       "details.dni-treeview {\r\n",
       "    padding-left: 1em;\r\n",
       "}\r\n",
       "table td {\r\n",
       "    text-align: start;\r\n",
       "}\r\n",
       "table tr { \r\n",
       "    vertical-align: top; \r\n",
       "    margin: 0em 0px;\r\n",
       "}\r\n",
       "table tr td pre \r\n",
       "{ \r\n",
       "    vertical-align: top !important; \r\n",
       "    margin: 0em 0px !important;\r\n",
       "} \r\n",
       "table th {\r\n",
       "    text-align: start;\r\n",
       "}\r\n",
       "</style>"
      ]
     },
     "metadata": {},
     "output_type": "display_data"
    }
   ],
   "source": [
    "let startingPos = {Row=0;Col=0; Looking=Down}\n",
    "startingPos\n",
    "|> stepInto '|' \n",
    "|> stepInto 'L'\n",
    "|> stepInto '-'\n",
    "|> stepInto 'J'\n",
    "|> stepInto '|'\n",
    "|> stepInto '7'\n",
    "|> stepInto '-'\n",
    "|> stepInto 'F'\n",
    "\n"
   ]
  },
  {
   "cell_type": "code",
   "execution_count": 8,
   "metadata": {
    "dotnet_interactive": {
     "language": "fsharp"
    },
    "polyglot_notebook": {
     "kernelName": "fsharp"
    }
   },
   "outputs": [],
   "source": [
    "let getPipe (map: Char[,]) (pos:Position) = \n",
    "    map[pos.Row,pos.Col]"
   ]
  },
  {
   "cell_type": "code",
   "execution_count": 9,
   "metadata": {
    "dotnet_interactive": {
     "language": "fsharp"
    },
    "polyglot_notebook": {
     "kernelName": "fsharp"
    }
   },
   "outputs": [],
   "source": [
    "let prettyPrint boardArray =\n",
    "    for r = 0 to Array2D.length1 boardArray - 1 do\n",
    "        printf \"\\n\"\n",
    "        for c = 0 to Array2D.length2 boardArray - 1 do\n",
    "            printf \"%A \" boardArray.[r, c]"
   ]
  },
  {
   "cell_type": "code",
   "execution_count": 10,
   "metadata": {
    "dotnet_interactive": {
     "language": "fsharp"
    },
    "polyglot_notebook": {
     "kernelName": "fsharp"
    }
   },
   "outputs": [],
   "source": [
    "let findIndex predicate (array : _[,]) = \n",
    "    let len1 = Array2D.length1 array \n",
    "    let len2 = Array2D.length2 array \n",
    "\n",
    "    let rec go i j  =\n",
    "        if j>=len2 then \n",
    "            failwith \"Index not found\" \n",
    "        elif i>=len1 then \n",
    "            go 0 (j + 1) \n",
    "        elif predicate array[i,j] then (i,j)\n",
    "        else \n",
    "            go (i + 1) j\n",
    "\n",
    "    go 0 0\n",
    "\n",
    "let getDistances (map: Char[,]) (startDir: Direction): int[,] = \n",
    "    let mutable distances : int[,] = Array2D.zeroCreate (Array2D.length1 map) (Array2D.length2 map)\n",
    "    let mutable dis = 0\n",
    "    let r,c = findIndex (fun x -> x = 'S') map \n",
    "    let mutable pos = {Row=r;Col=c;Looking=startDir}\n",
    "\n",
    "    let mutable pipe:Char = '.' \n",
    "    while pipe <> 'S' do \n",
    "        pipe <- nextPosition pos pos.Looking |> getPipe map \n",
    "        pos <- pos |> stepInto pipe\n",
    "        dis <- dis + 1\n",
    "        distances[pos.Row, pos.Col] <- dis\n",
    "\n",
    "    distances\n",
    "    |> Array2D.map (fun x -> min x (dis - x))\n",
    "    "
   ]
  },
  {
   "cell_type": "code",
   "execution_count": 11,
   "metadata": {
    "dotnet_interactive": {
     "language": "fsharp"
    },
    "polyglot_notebook": {
     "kernelName": "fsharp"
    }
   },
   "outputs": [
    {
     "data": {
      "text/html": [
       "<div class=\"dni-plaintext\"><pre>4</pre></div><style>\r\n",
       ".dni-code-hint {\r\n",
       "    font-style: italic;\r\n",
       "    overflow: hidden;\r\n",
       "    white-space: nowrap;\r\n",
       "}\r\n",
       ".dni-treeview {\r\n",
       "    white-space: nowrap;\r\n",
       "}\r\n",
       ".dni-treeview td {\r\n",
       "    vertical-align: top;\r\n",
       "    text-align: start;\r\n",
       "}\r\n",
       "details.dni-treeview {\r\n",
       "    padding-left: 1em;\r\n",
       "}\r\n",
       "table td {\r\n",
       "    text-align: start;\r\n",
       "}\r\n",
       "table tr { \r\n",
       "    vertical-align: top; \r\n",
       "    margin: 0em 0px;\r\n",
       "}\r\n",
       "table tr td pre \r\n",
       "{ \r\n",
       "    vertical-align: top !important; \r\n",
       "    margin: 0em 0px !important;\r\n",
       "} \r\n",
       "table th {\r\n",
       "    text-align: start;\r\n",
       "}\r\n",
       "</style>"
      ]
     },
     "metadata": {},
     "output_type": "display_data"
    }
   ],
   "source": [
    "getDistances testMap Down \n",
    "|> Seq.cast<int> \n",
    "|> Seq.max"
   ]
  },
  {
   "cell_type": "code",
   "execution_count": 12,
   "metadata": {
    "dotnet_interactive": {
     "language": "fsharp"
    },
    "polyglot_notebook": {
     "kernelName": "fsharp"
    }
   },
   "outputs": [],
   "source": [
    "let input = File.ReadAllText(\"input_10.txt\")\n",
    "let map = mapFromInput input"
   ]
  },
  {
   "cell_type": "code",
   "execution_count": 13,
   "metadata": {
    "dotnet_interactive": {
     "language": "fsharp"
    },
    "polyglot_notebook": {
     "kernelName": "fsharp"
    }
   },
   "outputs": [
    {
     "data": {
      "text/html": [
       "<div class=\"dni-plaintext\"><pre>6831</pre></div><style>\r\n",
       ".dni-code-hint {\r\n",
       "    font-style: italic;\r\n",
       "    overflow: hidden;\r\n",
       "    white-space: nowrap;\r\n",
       "}\r\n",
       ".dni-treeview {\r\n",
       "    white-space: nowrap;\r\n",
       "}\r\n",
       ".dni-treeview td {\r\n",
       "    vertical-align: top;\r\n",
       "    text-align: start;\r\n",
       "}\r\n",
       "details.dni-treeview {\r\n",
       "    padding-left: 1em;\r\n",
       "}\r\n",
       "table td {\r\n",
       "    text-align: start;\r\n",
       "}\r\n",
       "table tr { \r\n",
       "    vertical-align: top; \r\n",
       "    margin: 0em 0px;\r\n",
       "}\r\n",
       "table tr td pre \r\n",
       "{ \r\n",
       "    vertical-align: top !important; \r\n",
       "    margin: 0em 0px !important;\r\n",
       "} \r\n",
       "table th {\r\n",
       "    text-align: start;\r\n",
       "}\r\n",
       "</style>"
      ]
     },
     "metadata": {},
     "output_type": "display_data"
    }
   ],
   "source": [
    "getDistances map Right\n",
    "|> Seq.cast<int>\n",
    "|> Seq.max"
   ]
  },
  {
   "cell_type": "markdown",
   "metadata": {},
   "source": [
    "# Part 2"
   ]
  },
  {
   "cell_type": "code",
   "execution_count": 14,
   "metadata": {
    "dotnet_interactive": {
     "language": "fsharp"
    },
    "polyglot_notebook": {
     "kernelName": "fsharp"
    }
   },
   "outputs": [],
   "source": [
    "// Get coordinates of the main loop\n",
    "let getLoopMask (map: Char[,]) (startDir: Direction): bool[,] = \n",
    "    let mutable mask : bool[,] = Array2D.create (Array2D.length1 map) (Array2D.length2 map) false\n",
    "    let r,c = findIndex (fun x -> x = 'S') map \n",
    "    let mutable pos = {Row=r;Col=c;Looking=startDir}\n",
    "\n",
    "    let mutable pipe:Char = '.' \n",
    "    while pipe <> 'S' do \n",
    "        pipe <- nextPosition pos pos.Looking |> getPipe map \n",
    "        pos <- pos |> stepInto pipe\n",
    "        mask[pos.Row, pos.Col] <- true\n",
    "\n",
    "    mask\n",
    "\n",
    "let jordanPoint (pipe:Char) = \n",
    "\n",
    "    match pipe with \n",
    "    // | 'F' | '7' | 'L' | 'J' -> 0.5\n",
    "    | '-' -> 1.0\n",
    "    | _ -> 0.0\n",
    "\n",
    "// let isInLoop (map: Char[,]) (mask:bool[,]) row col  = \n",
    "//     if mask[row,col] then \n",
    "//         false\n",
    "//     else \n",
    "//         let mutable crossings = 0.\n",
    "//         let mutable currentRow = row - 1\n",
    "//         while currentRow >= 0 do \n",
    "//             if mask[currentRow, col] then \n",
    "//                 crossings <- crossings + (jordanPoint map[currentRow, col] )\n",
    "//             currentRow <- currentRow - 1\n",
    "//         int(crossings) % 2 = 1"
   ]
  },
  {
   "cell_type": "code",
   "execution_count": 15,
   "metadata": {
    "dotnet_interactive": {
     "language": "fsharp"
    },
    "polyglot_notebook": {
     "kernelName": "fsharp"
    }
   },
   "outputs": [],
   "source": [
    "let isInLoop (map: Char[,]) (mask:bool[,]) row col  = \n",
    "    if mask[row,col] then \n",
    "        false\n",
    "    else \n",
    "        let mutable crossings = 0\n",
    "        let mutable newPoints = 0\n",
    "        let mutable currentRow = row - 1\n",
    "        let mutable lastCorner = None\n",
    "        let mutable currentPipe = '.'\n",
    "        while currentRow >= 0 do \n",
    "            if mask[currentRow, col] then \n",
    "                currentPipe <- map[currentRow, col]\n",
    "                newPoints <- \n",
    "                    match lastCorner, currentPipe with \n",
    "                    | Some 'L', '7' -> lastCorner <- None; 1 \n",
    "                    | Some 'J', 'F' -> lastCorner <- None; 1\n",
    "                    | _, '-' -> 1 \n",
    "                    | _ , 'L' | _, 'J' -> lastCorner <- Some currentPipe; 0 \n",
    "                    | _ -> 0 \n",
    "                crossings <- crossings + newPoints\n",
    "            currentRow <- currentRow - 1\n",
    "        crossings % 2 = 1"
   ]
  },
  {
   "cell_type": "code",
   "execution_count": 16,
   "metadata": {
    "dotnet_interactive": {
     "language": "fsharp"
    },
    "polyglot_notebook": {
     "kernelName": "fsharp"
    }
   },
   "outputs": [],
   "source": [
    "let solve2 (sReplacement:Char) (startDir: Direction) (map:Char[,]) = \n",
    "    let mask = getLoopMask map startDir\n",
    "    let r,c = findIndex (fun x -> x = 'S') map \n",
    "    let localMap = Array2D.copy map\n",
    "    localMap[r,c] <- sReplacement\n",
    "    let isInThisLoop = isInLoop localMap mask \n",
    "    Array2D.init\n",
    "        (Array2D.length1 map)\n",
    "        (Array2D.length2 map)\n",
    "        isInThisLoop\n",
    "    // |> Seq.cast<bool>\n",
    "    // |> Seq.sumBy (fun x -> if x then 1 else 0)"
   ]
  },
  {
   "cell_type": "code",
   "execution_count": 27,
   "metadata": {
    "dotnet_interactive": {
     "language": "fsharp"
    },
    "polyglot_notebook": {
     "kernelName": "fsharp"
    }
   },
   "outputs": [
    {
     "data": {
      "text/html": [
       "<div class=\"dni-plaintext\"><pre>305</pre></div><style>\r\n",
       ".dni-code-hint {\r\n",
       "    font-style: italic;\r\n",
       "    overflow: hidden;\r\n",
       "    white-space: nowrap;\r\n",
       "}\r\n",
       ".dni-treeview {\r\n",
       "    white-space: nowrap;\r\n",
       "}\r\n",
       ".dni-treeview td {\r\n",
       "    vertical-align: top;\r\n",
       "    text-align: start;\r\n",
       "}\r\n",
       "details.dni-treeview {\r\n",
       "    padding-left: 1em;\r\n",
       "}\r\n",
       "table td {\r\n",
       "    text-align: start;\r\n",
       "}\r\n",
       "table tr { \r\n",
       "    vertical-align: top; \r\n",
       "    margin: 0em 0px;\r\n",
       "}\r\n",
       "table tr td pre \r\n",
       "{ \r\n",
       "    vertical-align: top !important; \r\n",
       "    margin: 0em 0px !important;\r\n",
       "} \r\n",
       "table th {\r\n",
       "    text-align: start;\r\n",
       "}\r\n",
       "</style>"
      ]
     },
     "metadata": {},
     "output_type": "display_data"
    }
   ],
   "source": [
    "solve2 '-' Right map\n",
    "|> Seq.cast<bool>\n",
    "|> Seq.sumBy (fun x -> if x then 1 else 0)"
   ]
  },
  {
   "cell_type": "code",
   "execution_count": 18,
   "metadata": {
    "dotnet_interactive": {
     "language": "fsharp"
    },
    "polyglot_notebook": {
     "kernelName": "fsharp"
    }
   },
   "outputs": [],
   "source": [
    "let testInput2 = \"\"\"FF7FSF7F7F7F7F7F---7\n",
    "L|LJ||||||||||||F--J\n",
    "FL-7LJLJ||||||LJL-77\n",
    "F--JF--7||LJLJIF7FJ-\n",
    "L---JF-JLJIIIIFJLJJ7\n",
    "|F|F-JF---7IIIL7L|7|\n",
    "|FFJF7L7F-JF7IIL---7\n",
    "7-L-JL7||F7|L7F-7F7|\n",
    "L.L7LFJ|||||FJL7||LJ\n",
    "L7JLJL-JLJLJL--JLJ.L\"\"\"\n",
    "\n",
    "let testMap2 = mapFromInput testInput2\n",
    "let testMask2 = getLoopMask testMap2 Down"
   ]
  },
  {
   "cell_type": "code",
   "execution_count": 19,
   "metadata": {
    "dotnet_interactive": {
     "language": "fsharp"
    },
    "polyglot_notebook": {
     "kernelName": "fsharp"
    }
   },
   "outputs": [
    {
     "name": "stdout",
     "output_type": "stream",
     "text": [
      "\n",
      "' ' 'F' '7' 'F' 'S' 'F' '7' 'F' '7' 'F' '7' 'F' '7' 'F' '7' 'F' '-' '-' '-' '7' \n",
      "' ' '|' 'L' 'J' '|' '|' '|' '|' '|' '|' '|' '|' '|' '|' '|' '|' 'F' '-' '-' 'J' \n",
      "' ' 'L' '-' '7' 'L' 'J' 'L' 'J' '|' '|' '|' '|' '|' '|' 'L' 'J' 'L' '-' '7' ' ' \n",
      "'F' '-' '-' 'J' 'F' '-' '-' '7' '|' '|' 'L' 'J' 'L' 'J' ' ' 'F' '7' 'F' 'J' ' ' \n",
      "'L' '-' '-' '-' 'J' 'F' '-' 'J' 'L' 'J' ' ' ' ' ' ' ' ' 'F' 'J' 'L' 'J' ' ' ' ' \n",
      "' ' ' ' ' ' 'F' '-' 'J' 'F' '-' '-' '-' '7' ' ' ' ' ' ' 'L' '7' ' ' ' ' ' ' ' ' \n",
      "' ' ' ' 'F' 'J' 'F' '7' 'L' '7' 'F' '-' 'J' 'F' '7' ' ' ' ' 'L' '-' '-' '-' '7' \n",
      "' ' ' ' 'L' '-' 'J' 'L' '7' '|' '|' 'F' '7' '|' 'L' '7' 'F' '-' '7' 'F' '7' '|' \n",
      "' ' ' ' ' ' ' ' ' ' 'F' 'J' '|' '|' '|' '|' '|' 'F' 'J' 'L' '7' '|' '|' 'L' 'J' \n",
      "' ' ' ' ' ' ' ' ' ' 'L' '-' 'J' 'L' 'J' 'L' 'J' 'L' '-' '-' 'J' 'L' 'J' ' ' ' ' "
     ]
    }
   ],
   "source": [
    "testMask2\n",
    "|> Array2D.mapi (fun r c x -> if x then testMap2[r,c] else ' ')\n",
    "|> prettyPrint"
   ]
  },
  {
   "cell_type": "code",
   "execution_count": 20,
   "metadata": {
    "dotnet_interactive": {
     "language": "fsharp"
    },
    "polyglot_notebook": {
     "kernelName": "fsharp"
    }
   },
   "outputs": [
    {
     "name": "stdout",
     "output_type": "stream",
     "text": [
      "\n",
      "'O' 'O' 'O' 'O' 'O' 'O' 'O' 'O' 'O' 'O' 'O' 'O' 'O' 'O' 'O' 'O' 'O' 'O' 'O' 'O' \n",
      "'O' 'O' 'O' 'O' 'O' 'O' 'O' 'O' 'O' 'O' 'O' 'O' 'O' 'O' 'O' 'O' 'O' 'O' 'O' 'O' \n",
      "'O' 'O' 'O' 'O' 'O' 'O' 'O' 'O' 'O' 'O' 'O' 'O' 'O' 'O' 'O' 'O' 'O' 'O' 'O' 'O' \n",
      "'O' 'O' 'O' 'O' 'O' 'O' 'O' 'O' 'O' 'O' 'O' 'O' 'O' 'O' 'I' 'O' 'O' 'O' 'O' 'O' \n",
      "'O' 'O' 'O' 'O' 'O' 'O' 'O' 'O' 'O' 'O' 'I' 'I' 'I' 'I' 'O' 'O' 'O' 'O' 'O' 'O' \n",
      "'O' 'O' 'O' 'O' 'O' 'O' 'O' 'O' 'O' 'O' 'O' 'I' 'I' 'I' 'O' 'O' 'O' 'O' 'O' 'O' \n",
      "'O' 'O' 'O' 'O' 'O' 'O' 'O' 'O' 'O' 'O' 'O' 'O' 'O' 'I' 'I' 'O' 'O' 'O' 'O' 'O' \n",
      "'O' 'O' 'O' 'O' 'O' 'O' 'O' 'O' 'O' 'O' 'O' 'O' 'O' 'O' 'O' 'O' 'O' 'O' 'O' 'O' \n",
      "'O' 'O' 'O' 'O' 'O' 'O' 'O' 'O' 'O' 'O' 'O' 'O' 'O' 'O' 'O' 'O' 'O' 'O' 'O' 'O' \n",
      "'O' 'O' 'O' 'O' 'O' 'O' 'O' 'O' 'O' 'O' 'O' 'O' 'O' 'O' 'O' 'O' 'O' 'O' 'O' 'O' "
     ]
    }
   ],
   "source": [
    "solve2 '7' Down testMap2\n",
    "|> Array2D.map (fun x -> if x then 'I' else 'O')\n",
    "|> prettyPrint"
   ]
  },
  {
   "cell_type": "code",
   "execution_count": 21,
   "metadata": {
    "dotnet_interactive": {
     "language": "fsharp"
    },
    "polyglot_notebook": {
     "kernelName": "fsharp"
    }
   },
   "outputs": [
    {
     "data": {
      "text/html": [
       "<div class=\"dni-plaintext\"><pre>10</pre></div><style>\r\n",
       ".dni-code-hint {\r\n",
       "    font-style: italic;\r\n",
       "    overflow: hidden;\r\n",
       "    white-space: nowrap;\r\n",
       "}\r\n",
       ".dni-treeview {\r\n",
       "    white-space: nowrap;\r\n",
       "}\r\n",
       ".dni-treeview td {\r\n",
       "    vertical-align: top;\r\n",
       "    text-align: start;\r\n",
       "}\r\n",
       "details.dni-treeview {\r\n",
       "    padding-left: 1em;\r\n",
       "}\r\n",
       "table td {\r\n",
       "    text-align: start;\r\n",
       "}\r\n",
       "table tr { \r\n",
       "    vertical-align: top; \r\n",
       "    margin: 0em 0px;\r\n",
       "}\r\n",
       "table tr td pre \r\n",
       "{ \r\n",
       "    vertical-align: top !important; \r\n",
       "    margin: 0em 0px !important;\r\n",
       "} \r\n",
       "table th {\r\n",
       "    text-align: start;\r\n",
       "}\r\n",
       "</style>"
      ]
     },
     "metadata": {},
     "output_type": "display_data"
    }
   ],
   "source": [
    "solve2 '7' Down testMap2\n",
    "|> Seq.cast<bool> \n",
    "|> Seq.sumBy (fun x -> if x then 1 else 0)"
   ]
  },
  {
   "cell_type": "code",
   "execution_count": 23,
   "metadata": {
    "dotnet_interactive": {
     "language": "fsharp"
    },
    "polyglot_notebook": {
     "kernelName": "fsharp"
    }
   },
   "outputs": [],
   "source": [
    "let testInput3 = \"\"\"..........\n",
    ".S------7.\n",
    ".|F----7|.\n",
    ".||OOOO||.\n",
    ".||OOOO||.\n",
    ".|L-7F-J|.\n",
    ".|II||II|.\n",
    ".L--JL--J.\n",
    "..........\"\"\"\n",
    "let testMap3 = mapFromInput testInput3\n",
    "let testMask3 = getLoopMask testMap3 Down"
   ]
  },
  {
   "cell_type": "code",
   "execution_count": 26,
   "metadata": {
    "dotnet_interactive": {
     "language": "fsharp"
    },
    "polyglot_notebook": {
     "kernelName": "fsharp"
    }
   },
   "outputs": [
    {
     "name": "stdout",
     "output_type": "stream",
     "text": [
      "\n",
      "' ' ' ' ' ' ' ' ' ' ' ' ' ' ' ' ' ' ' ' \n",
      "' ' '|' 'L' 'J' '|' '|' '|' '|' '|' ' ' \n",
      "' ' 'L' '-' '7' 'L' 'J' 'L' 'J' '|' ' ' \n",
      "' ' '-' '-' ' ' ' ' ' ' ' ' '7' '|' ' ' \n",
      "' ' '-' '-' ' ' ' ' ' ' ' ' 'J' 'L' ' ' \n",
      "' ' 'F' '|' 'F' '-' 'J' 'F' '-' '-' ' ' \n",
      "' ' 'F' ' ' ' ' 'F' '7' ' ' ' ' 'F' ' ' \n",
      "' ' '-' 'L' '-' 'J' 'L' '7' '|' '|' ' ' \n",
      "' ' ' ' ' ' ' ' ' ' ' ' ' ' ' ' ' ' ' ' "
     ]
    }
   ],
   "source": [
    "testMask3\n",
    "|> Array2D.mapi (fun r c x -> if x then testMap2[r,c] else ' ')\n",
    "|> prettyPrint"
   ]
  },
  {
   "cell_type": "code",
   "execution_count": 25,
   "metadata": {
    "dotnet_interactive": {
     "language": "fsharp"
    },
    "polyglot_notebook": {
     "kernelName": "fsharp"
    }
   },
   "outputs": [
    {
     "name": "stdout",
     "output_type": "stream",
     "text": [
      "\n",
      "'O' 'O' 'O' 'O' 'O' 'O' 'O' 'O' 'O' 'O' \n",
      "'O' 'O' 'O' 'O' 'O' 'O' 'O' 'O' 'O' 'O' \n",
      "'O' 'O' 'O' 'O' 'O' 'O' 'O' 'O' 'O' 'O' \n",
      "'O' 'O' 'O' 'O' 'O' 'O' 'O' 'O' 'O' 'O' \n",
      "'O' 'O' 'O' 'O' 'O' 'O' 'O' 'O' 'O' 'O' \n",
      "'O' 'O' 'O' 'O' 'O' 'O' 'O' 'O' 'O' 'O' \n",
      "'O' 'O' 'I' 'I' 'O' 'O' 'I' 'I' 'O' 'O' \n",
      "'O' 'O' 'O' 'O' 'O' 'O' 'O' 'O' 'O' 'O' \n",
      "'O' 'O' 'O' 'O' 'O' 'O' 'O' 'O' 'O' 'O' "
     ]
    }
   ],
   "source": [
    "solve2 'F' Down testMap3\n",
    "|> Array2D.map (fun x -> if x then 'I' else 'O')\n",
    "|> prettyPrint"
   ]
  }
 ],
 "metadata": {
  "kernelspec": {
   "display_name": ".NET (C#)",
   "language": "C#",
   "name": ".net-csharp"
  },
  "language_info": {
   "name": "polyglot-notebook"
  },
  "polyglot_notebook": {
   "kernelInfo": {
    "defaultKernelName": "csharp",
    "items": [
     {
      "aliases": [],
      "name": "csharp"
     },
     {
      "aliases": [],
      "languageName": "fsharp",
      "name": "fsharp"
     }
    ]
   }
  }
 },
 "nbformat": 4,
 "nbformat_minor": 2
}
